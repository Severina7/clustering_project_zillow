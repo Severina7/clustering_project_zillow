{
 "cells": [
  {
   "cell_type": "markdown",
   "id": "679eac2b",
   "metadata": {},
   "source": [
    "# ZILLOW"
   ]
  },
  {
   "cell_type": "markdown",
   "id": "1a6d6610",
   "metadata": {},
   "source": [
    "# Acquire"
   ]
  },
  {
   "cell_type": "code",
   "execution_count": 49,
   "id": "fdef3887",
   "metadata": {},
   "outputs": [],
   "source": [
    "import pandas as pd\n",
    "import numpy as np\n",
    "import matplotlib.pyplot as plt\n",
    "import seaborn as sb\n",
    "import sklearn.preprocessing\n",
    "import sklearn.model_selection\n",
    "import sklearn.impute\n",
    "import os\n",
    "from sklearn.model_selection import train_test_split\n",
    "from env import host, user, password\n",
    "from sklearn.impute import KNNImputer\n",
    "from sklearn.preprocessing import MinMaxScaler"
   ]
  },
  {
   "cell_type": "code",
   "execution_count": 2,
   "id": "212e64f1",
   "metadata": {},
   "outputs": [],
   "source": [
    "# Creating a string that connects me to MySQLWorkbench\n",
    "\n",
    "def get_connection(db, user=user, host=host, password=password):\n",
    "    '''\n",
    "    get_connection uses login info from env.py file to access Codeup db.\n",
    "    It takes in a string name of a database as an argument.\n",
    "    '''\n",
    "    return f'mysql+pymysql://{user}:{password}@{host}/{db}'\n",
    "    "
   ]
  },
  {
   "cell_type": "markdown",
   "id": "f06edc09",
   "metadata": {},
   "source": [
    "**I imported specific usefulcolumns based on the experience I had using this dataframe in previous assignment from the data science team**"
   ]
  },
  {
   "cell_type": "code",
   "execution_count": 3,
   "id": "bd7c0d90",
   "metadata": {},
   "outputs": [],
   "source": [
    "# Getting the data from the Codeup database\n",
    "\n",
    "def get_zillow_data():\n",
    "    '''\n",
    "    zillow_data() gets the zillow (only properties_2017 table) data from Codeup db, then writes it to a csv file,\n",
    "    and returns the DF.\n",
    "    '''\n",
    "    # Creating a SQL query\n",
    "    sql_query = '''\n",
    "                SELECT\n",
    "      properties_2017.parcelid,\n",
    "      bathroomcnt,\n",
    "      bedroomcnt,\n",
    "      propertylandusedesc,\n",
    "      calculatedfinishedsquarefeet,\n",
    "      fips,\n",
    "      latitude,\n",
    "      longitude,  \n",
    "      lotsizesquarefeet,\n",
    "      yearbuilt, \n",
    "      structuretaxvaluedollarcnt,\n",
    "      taxvaluedollarcnt, \n",
    "      landtaxvaluedollarcnt,\n",
    "      taxamount,                      \n",
    "      predictions_2017.logerror,                       \n",
    "      predictions_2017.transactiondate\n",
    "   FROM properties_2017\n",
    "   JOIN predictions_2017 USING(parcelid)\n",
    "   LEFT JOIN airconditioningtype USING(airconditioningtypeid)\n",
    "   LEFT JOIN architecturalstyletype USING(architecturalstyletypeid)\n",
    "   LEFT JOIN buildingclasstype USING(buildingclasstypeid)\n",
    "   LEFT JOIN heatingorsystemtype USING(heatingorsystemtypeid)\n",
    "   LEFT JOIN propertylandusetype USING(propertylandusetypeid)\n",
    "   LEFT JOIN storytype USING(storytypeid)\n",
    "   LEFT JOIN typeconstructiontype USING(typeconstructiontypeid)\n",
    "   WHERE\n",
    "      latitude IS NOT NULL\n",
    "      AND longitude IS NOT NULL\n",
    "      AND propertylandusedesc = 'Single Family Residential';\n",
    "                '''\n",
    "    \n",
    "    # Reading in the DataFrame from Codeup db.\n",
    "    df = pd.read_sql(sql_query, get_connection('zillow'))\n",
    "    return df"
   ]
  },
  {
   "cell_type": "code",
   "execution_count": 4,
   "id": "3d996e1f",
   "metadata": {
    "scrolled": true
   },
   "outputs": [
    {
     "data": {
      "text/html": [
       "<div>\n",
       "<style scoped>\n",
       "    .dataframe tbody tr th:only-of-type {\n",
       "        vertical-align: middle;\n",
       "    }\n",
       "\n",
       "    .dataframe tbody tr th {\n",
       "        vertical-align: top;\n",
       "    }\n",
       "\n",
       "    .dataframe thead th {\n",
       "        text-align: right;\n",
       "    }\n",
       "</style>\n",
       "<table border=\"1\" class=\"dataframe\">\n",
       "  <thead>\n",
       "    <tr style=\"text-align: right;\">\n",
       "      <th></th>\n",
       "      <th>parcelid</th>\n",
       "      <th>bathroomcnt</th>\n",
       "      <th>bedroomcnt</th>\n",
       "      <th>propertylandusedesc</th>\n",
       "      <th>calculatedfinishedsquarefeet</th>\n",
       "      <th>fips</th>\n",
       "      <th>latitude</th>\n",
       "      <th>longitude</th>\n",
       "      <th>lotsizesquarefeet</th>\n",
       "      <th>yearbuilt</th>\n",
       "      <th>structuretaxvaluedollarcnt</th>\n",
       "      <th>taxvaluedollarcnt</th>\n",
       "      <th>landtaxvaluedollarcnt</th>\n",
       "      <th>taxamount</th>\n",
       "      <th>logerror</th>\n",
       "      <th>transactiondate</th>\n",
       "    </tr>\n",
       "  </thead>\n",
       "  <tbody>\n",
       "    <tr>\n",
       "      <th>0</th>\n",
       "      <td>14297519</td>\n",
       "      <td>3.5</td>\n",
       "      <td>4.0</td>\n",
       "      <td>Single Family Residential</td>\n",
       "      <td>3100.0</td>\n",
       "      <td>6059.0</td>\n",
       "      <td>33634931.0</td>\n",
       "      <td>-117869207.0</td>\n",
       "      <td>4506.0</td>\n",
       "      <td>1998.0</td>\n",
       "      <td>485713.0</td>\n",
       "      <td>1023282.0</td>\n",
       "      <td>537569.0</td>\n",
       "      <td>11013.72</td>\n",
       "      <td>0.025595</td>\n",
       "      <td>2017-01-01</td>\n",
       "    </tr>\n",
       "    <tr>\n",
       "      <th>1</th>\n",
       "      <td>17052889</td>\n",
       "      <td>1.0</td>\n",
       "      <td>2.0</td>\n",
       "      <td>Single Family Residential</td>\n",
       "      <td>1465.0</td>\n",
       "      <td>6111.0</td>\n",
       "      <td>34449266.0</td>\n",
       "      <td>-119281531.0</td>\n",
       "      <td>12647.0</td>\n",
       "      <td>1967.0</td>\n",
       "      <td>88000.0</td>\n",
       "      <td>464000.0</td>\n",
       "      <td>376000.0</td>\n",
       "      <td>5672.48</td>\n",
       "      <td>0.055619</td>\n",
       "      <td>2017-01-01</td>\n",
       "    </tr>\n",
       "    <tr>\n",
       "      <th>2</th>\n",
       "      <td>14186244</td>\n",
       "      <td>2.0</td>\n",
       "      <td>3.0</td>\n",
       "      <td>Single Family Residential</td>\n",
       "      <td>1243.0</td>\n",
       "      <td>6059.0</td>\n",
       "      <td>33886168.0</td>\n",
       "      <td>-117823170.0</td>\n",
       "      <td>8432.0</td>\n",
       "      <td>1962.0</td>\n",
       "      <td>85289.0</td>\n",
       "      <td>564778.0</td>\n",
       "      <td>479489.0</td>\n",
       "      <td>6488.30</td>\n",
       "      <td>0.005383</td>\n",
       "      <td>2017-01-01</td>\n",
       "    </tr>\n",
       "    <tr>\n",
       "      <th>3</th>\n",
       "      <td>12177905</td>\n",
       "      <td>3.0</td>\n",
       "      <td>4.0</td>\n",
       "      <td>Single Family Residential</td>\n",
       "      <td>2376.0</td>\n",
       "      <td>6037.0</td>\n",
       "      <td>34245180.0</td>\n",
       "      <td>-118240722.0</td>\n",
       "      <td>13038.0</td>\n",
       "      <td>1970.0</td>\n",
       "      <td>108918.0</td>\n",
       "      <td>145143.0</td>\n",
       "      <td>36225.0</td>\n",
       "      <td>1777.51</td>\n",
       "      <td>-0.103410</td>\n",
       "      <td>2017-01-01</td>\n",
       "    </tr>\n",
       "    <tr>\n",
       "      <th>4</th>\n",
       "      <td>12095076</td>\n",
       "      <td>3.0</td>\n",
       "      <td>4.0</td>\n",
       "      <td>Single Family Residential</td>\n",
       "      <td>2962.0</td>\n",
       "      <td>6037.0</td>\n",
       "      <td>34145202.0</td>\n",
       "      <td>-118179824.0</td>\n",
       "      <td>63000.0</td>\n",
       "      <td>1950.0</td>\n",
       "      <td>276684.0</td>\n",
       "      <td>773303.0</td>\n",
       "      <td>496619.0</td>\n",
       "      <td>9516.26</td>\n",
       "      <td>-0.001011</td>\n",
       "      <td>2017-01-01</td>\n",
       "    </tr>\n",
       "  </tbody>\n",
       "</table>\n",
       "</div>"
      ],
      "text/plain": [
       "   parcelid  bathroomcnt  bedroomcnt        propertylandusedesc  \\\n",
       "0  14297519          3.5         4.0  Single Family Residential   \n",
       "1  17052889          1.0         2.0  Single Family Residential   \n",
       "2  14186244          2.0         3.0  Single Family Residential   \n",
       "3  12177905          3.0         4.0  Single Family Residential   \n",
       "4  12095076          3.0         4.0  Single Family Residential   \n",
       "\n",
       "   calculatedfinishedsquarefeet    fips    latitude    longitude  \\\n",
       "0                        3100.0  6059.0  33634931.0 -117869207.0   \n",
       "1                        1465.0  6111.0  34449266.0 -119281531.0   \n",
       "2                        1243.0  6059.0  33886168.0 -117823170.0   \n",
       "3                        2376.0  6037.0  34245180.0 -118240722.0   \n",
       "4                        2962.0  6037.0  34145202.0 -118179824.0   \n",
       "\n",
       "   lotsizesquarefeet  yearbuilt  structuretaxvaluedollarcnt  \\\n",
       "0             4506.0     1998.0                    485713.0   \n",
       "1            12647.0     1967.0                     88000.0   \n",
       "2             8432.0     1962.0                     85289.0   \n",
       "3            13038.0     1970.0                    108918.0   \n",
       "4            63000.0     1950.0                    276684.0   \n",
       "\n",
       "   taxvaluedollarcnt  landtaxvaluedollarcnt  taxamount  logerror  \\\n",
       "0          1023282.0               537569.0   11013.72  0.025595   \n",
       "1           464000.0               376000.0    5672.48  0.055619   \n",
       "2           564778.0               479489.0    6488.30  0.005383   \n",
       "3           145143.0                36225.0    1777.51 -0.103410   \n",
       "4           773303.0               496619.0    9516.26 -0.001011   \n",
       "\n",
       "  transactiondate  \n",
       "0      2017-01-01  \n",
       "1      2017-01-01  \n",
       "2      2017-01-01  \n",
       "3      2017-01-01  \n",
       "4      2017-01-01  "
      ]
     },
     "execution_count": 4,
     "metadata": {},
     "output_type": "execute_result"
    }
   ],
   "source": [
    "# Assigning the dataframe to a variable and displaying of it to have a first look\n",
    "\n",
    "houses = get_zillow_data()\n",
    "houses.head()"
   ]
  },
  {
   "cell_type": "code",
   "execution_count": 5,
   "id": "6896df3e",
   "metadata": {},
   "outputs": [
    {
     "data": {
      "text/plain": [
       "(52442, 16)"
      ]
     },
     "execution_count": 5,
     "metadata": {},
     "output_type": "execute_result"
    }
   ],
   "source": [
    "# Displaying number of rows and columns\n",
    "\n",
    "houses.shape"
   ]
  },
  {
   "cell_type": "code",
   "execution_count": 6,
   "id": "ac9f2c60",
   "metadata": {},
   "outputs": [],
   "source": [
    "# Writing houses to csv on my computer\n",
    "\n",
    "houses.to_csv('houses.csv')"
   ]
  },
  {
   "cell_type": "code",
   "execution_count": 7,
   "id": "4a2ded87",
   "metadata": {
    "scrolled": false
   },
   "outputs": [
    {
     "name": "stdout",
     "output_type": "stream",
     "text": [
      "<class 'pandas.core.frame.DataFrame'>\n",
      "RangeIndex: 52442 entries, 0 to 52441\n",
      "Data columns (total 16 columns):\n",
      " #   Column                        Non-Null Count  Dtype  \n",
      "---  ------                        --------------  -----  \n",
      " 0   parcelid                      52442 non-null  int64  \n",
      " 1   bathroomcnt                   52442 non-null  float64\n",
      " 2   bedroomcnt                    52442 non-null  float64\n",
      " 3   propertylandusedesc           52442 non-null  object \n",
      " 4   calculatedfinishedsquarefeet  52360 non-null  float64\n",
      " 5   fips                          52442 non-null  float64\n",
      " 6   latitude                      52442 non-null  float64\n",
      " 7   longitude                     52442 non-null  float64\n",
      " 8   lotsizesquarefeet             52073 non-null  float64\n",
      " 9   yearbuilt                     52326 non-null  float64\n",
      " 10  structuretaxvaluedollarcnt    52358 non-null  float64\n",
      " 11  taxvaluedollarcnt             52441 non-null  float64\n",
      " 12  landtaxvaluedollarcnt         52441 non-null  float64\n",
      " 13  taxamount                     52438 non-null  float64\n",
      " 14  logerror                      52442 non-null  float64\n",
      " 15  transactiondate               52442 non-null  object \n",
      "dtypes: float64(13), int64(1), object(2)\n",
      "memory usage: 6.4+ MB\n"
     ]
    }
   ],
   "source": [
    "# Displaying some general information about the data\n",
    "\n",
    "houses.info()"
   ]
  },
  {
   "cell_type": "code",
   "execution_count": 8,
   "id": "050add6d",
   "metadata": {
    "scrolled": false
   },
   "outputs": [
    {
     "data": {
      "text/html": [
       "<div>\n",
       "<style scoped>\n",
       "    .dataframe tbody tr th:only-of-type {\n",
       "        vertical-align: middle;\n",
       "    }\n",
       "\n",
       "    .dataframe tbody tr th {\n",
       "        vertical-align: top;\n",
       "    }\n",
       "\n",
       "    .dataframe thead th {\n",
       "        text-align: right;\n",
       "    }\n",
       "</style>\n",
       "<table border=\"1\" class=\"dataframe\">\n",
       "  <thead>\n",
       "    <tr style=\"text-align: right;\">\n",
       "      <th></th>\n",
       "      <th>count</th>\n",
       "      <th>mean</th>\n",
       "      <th>std</th>\n",
       "      <th>min</th>\n",
       "      <th>25%</th>\n",
       "      <th>50%</th>\n",
       "      <th>75%</th>\n",
       "      <th>max</th>\n",
       "    </tr>\n",
       "  </thead>\n",
       "  <tbody>\n",
       "    <tr>\n",
       "      <th>parcelid</th>\n",
       "      <td>52442</td>\n",
       "      <td>12999117</td>\n",
       "      <td>3411411</td>\n",
       "      <td>10711855</td>\n",
       "      <td>11510295</td>\n",
       "      <td>12577655</td>\n",
       "      <td>14129510</td>\n",
       "      <td>167687839</td>\n",
       "    </tr>\n",
       "    <tr>\n",
       "      <th>bathroomcnt</th>\n",
       "      <td>52442</td>\n",
       "      <td>2</td>\n",
       "      <td>1</td>\n",
       "      <td>0</td>\n",
       "      <td>2</td>\n",
       "      <td>2</td>\n",
       "      <td>3</td>\n",
       "      <td>18</td>\n",
       "    </tr>\n",
       "    <tr>\n",
       "      <th>bedroomcnt</th>\n",
       "      <td>52442</td>\n",
       "      <td>3</td>\n",
       "      <td>0</td>\n",
       "      <td>0</td>\n",
       "      <td>3</td>\n",
       "      <td>3</td>\n",
       "      <td>4</td>\n",
       "      <td>14</td>\n",
       "    </tr>\n",
       "    <tr>\n",
       "      <th>calculatedfinishedsquarefeet</th>\n",
       "      <td>52360</td>\n",
       "      <td>1922</td>\n",
       "      <td>1004</td>\n",
       "      <td>128</td>\n",
       "      <td>1268</td>\n",
       "      <td>1659</td>\n",
       "      <td>2306</td>\n",
       "      <td>21929</td>\n",
       "    </tr>\n",
       "    <tr>\n",
       "      <th>fips</th>\n",
       "      <td>52442</td>\n",
       "      <td>6049</td>\n",
       "      <td>21</td>\n",
       "      <td>6037</td>\n",
       "      <td>6037</td>\n",
       "      <td>6037</td>\n",
       "      <td>6059</td>\n",
       "      <td>6111</td>\n",
       "    </tr>\n",
       "    <tr>\n",
       "      <th>latitude</th>\n",
       "      <td>52442</td>\n",
       "      <td>34022538</td>\n",
       "      <td>273976</td>\n",
       "      <td>33340620</td>\n",
       "      <td>33826909</td>\n",
       "      <td>34023771</td>\n",
       "      <td>34187149</td>\n",
       "      <td>34818767</td>\n",
       "    </tr>\n",
       "    <tr>\n",
       "      <th>longitude</th>\n",
       "      <td>52442</td>\n",
       "      <td>-118194184</td>\n",
       "      <td>356661</td>\n",
       "      <td>-119475416</td>\n",
       "      <td>-118400683</td>\n",
       "      <td>-118153075</td>\n",
       "      <td>-117929152</td>\n",
       "      <td>-117554636</td>\n",
       "    </tr>\n",
       "    <tr>\n",
       "      <th>lotsizesquarefeet</th>\n",
       "      <td>52073</td>\n",
       "      <td>11339</td>\n",
       "      <td>86746</td>\n",
       "      <td>236</td>\n",
       "      <td>5583</td>\n",
       "      <td>6840</td>\n",
       "      <td>8798</td>\n",
       "      <td>6971010</td>\n",
       "    </tr>\n",
       "    <tr>\n",
       "      <th>yearbuilt</th>\n",
       "      <td>52326</td>\n",
       "      <td>1963</td>\n",
       "      <td>23</td>\n",
       "      <td>1878</td>\n",
       "      <td>1950</td>\n",
       "      <td>1961</td>\n",
       "      <td>1979</td>\n",
       "      <td>2016</td>\n",
       "    </tr>\n",
       "    <tr>\n",
       "      <th>structuretaxvaluedollarcnt</th>\n",
       "      <td>52358</td>\n",
       "      <td>196531</td>\n",
       "      <td>254338</td>\n",
       "      <td>129</td>\n",
       "      <td>77071</td>\n",
       "      <td>131807</td>\n",
       "      <td>226319</td>\n",
       "      <td>9164901</td>\n",
       "    </tr>\n",
       "    <tr>\n",
       "      <th>taxvaluedollarcnt</th>\n",
       "      <td>52441</td>\n",
       "      <td>529683</td>\n",
       "      <td>751888</td>\n",
       "      <td>1000</td>\n",
       "      <td>193750</td>\n",
       "      <td>373612</td>\n",
       "      <td>619301</td>\n",
       "      <td>49061236</td>\n",
       "    </tr>\n",
       "    <tr>\n",
       "      <th>landtaxvaluedollarcnt</th>\n",
       "      <td>52441</td>\n",
       "      <td>333462</td>\n",
       "      <td>570522</td>\n",
       "      <td>161</td>\n",
       "      <td>76026</td>\n",
       "      <td>218025</td>\n",
       "      <td>408600</td>\n",
       "      <td>48952198</td>\n",
       "    </tr>\n",
       "    <tr>\n",
       "      <th>taxamount</th>\n",
       "      <td>52438</td>\n",
       "      <td>6453</td>\n",
       "      <td>8755</td>\n",
       "      <td>49</td>\n",
       "      <td>2656</td>\n",
       "      <td>4647</td>\n",
       "      <td>7377</td>\n",
       "      <td>586639</td>\n",
       "    </tr>\n",
       "    <tr>\n",
       "      <th>logerror</th>\n",
       "      <td>52442</td>\n",
       "      <td>0</td>\n",
       "      <td>0</td>\n",
       "      <td>-4</td>\n",
       "      <td>0</td>\n",
       "      <td>0</td>\n",
       "      <td>0</td>\n",
       "      <td>5</td>\n",
       "    </tr>\n",
       "  </tbody>\n",
       "</table>\n",
       "</div>"
      ],
      "text/plain": [
       "                              count       mean      std        min        25%  \\\n",
       "parcelid                      52442   12999117  3411411   10711855   11510295   \n",
       "bathroomcnt                   52442          2        1          0          2   \n",
       "bedroomcnt                    52442          3        0          0          3   \n",
       "calculatedfinishedsquarefeet  52360       1922     1004        128       1268   \n",
       "fips                          52442       6049       21       6037       6037   \n",
       "latitude                      52442   34022538   273976   33340620   33826909   \n",
       "longitude                     52442 -118194184   356661 -119475416 -118400683   \n",
       "lotsizesquarefeet             52073      11339    86746        236       5583   \n",
       "yearbuilt                     52326       1963       23       1878       1950   \n",
       "structuretaxvaluedollarcnt    52358     196531   254338        129      77071   \n",
       "taxvaluedollarcnt             52441     529683   751888       1000     193750   \n",
       "landtaxvaluedollarcnt         52441     333462   570522        161      76026   \n",
       "taxamount                     52438       6453     8755         49       2656   \n",
       "logerror                      52442          0        0         -4          0   \n",
       "\n",
       "                                    50%        75%        max  \n",
       "parcelid                       12577655   14129510  167687839  \n",
       "bathroomcnt                           2          3         18  \n",
       "bedroomcnt                            3          4         14  \n",
       "calculatedfinishedsquarefeet       1659       2306      21929  \n",
       "fips                               6037       6059       6111  \n",
       "latitude                       34023771   34187149   34818767  \n",
       "longitude                    -118153075 -117929152 -117554636  \n",
       "lotsizesquarefeet                  6840       8798    6971010  \n",
       "yearbuilt                          1961       1979       2016  \n",
       "structuretaxvaluedollarcnt       131807     226319    9164901  \n",
       "taxvaluedollarcnt                373612     619301   49061236  \n",
       "landtaxvaluedollarcnt            218025     408600   48952198  \n",
       "taxamount                          4647       7377     586639  \n",
       "logerror                              0          0          5  "
      ]
     },
     "execution_count": 8,
     "metadata": {},
     "output_type": "execute_result"
    }
   ],
   "source": [
    "# Displaying statistical analysis of the data through.descibe()\n",
    "# with astype('int64') to cut through all the noise of the float data\n",
    "# displayed when using only 'houses.describe().T'\n",
    "\n",
    "houses.describe().T.astype('int64')"
   ]
  },
  {
   "cell_type": "markdown",
   "id": "3cdd4bfc",
   "metadata": {},
   "source": [
    "**<font color = 'blue'>Observations</font>**\n",
    "\n",
    "><font color = 'blue'>There are still some null values</font>\n",
    "\n",
    "><font color = 'blue'>The counties are designated by their respective numbers and need to be renamed</font>\n",
    "\n",
    "><font color = 'blue'>Many columns need to be renamed for better readability</font>\n",
    "\n",
    "><font color = 'blue'>Having the age of the house would help instead of the year built for better grouping</font>\n",
    "\n",
    "**<font color = 'blue'>Actions</font>**\n",
    "\n",
    "><font color = 'blue'>Check for duplicates and if there are some remove them</font>\n",
    "\n",
    "><font color = 'blue'>Drop nulls</font>\n",
    "\n",
    "><font color = 'blue'>Determine a threshhold to drop null value-ridden columns and drop them</font>\n",
    "\n",
    "><font color = 'blue'>Detect and remove outliers if necessary unless going for MVP then wait to get MVP</font>\n",
    "\n",
    "><font color = 'blue'>Create a county column with boolean and names for exploration and scaling</font>\n",
    "\n",
    "><font color = 'blue'>Create a column for the houses' age</font>\n",
    "\n",
    "><font color = 'blue'>Rename difficult to read columns</font>"
   ]
  },
  {
   "cell_type": "markdown",
   "id": "4787709f",
   "metadata": {},
   "source": [
    "# Prepare"
   ]
  },
  {
   "cell_type": "code",
   "execution_count": 9,
   "id": "33d4afcb",
   "metadata": {
    "scrolled": true
   },
   "outputs": [
    {
     "data": {
      "text/plain": [
       "(52442, 16)"
      ]
     },
     "execution_count": 9,
     "metadata": {},
     "output_type": "execute_result"
    }
   ],
   "source": [
    "# Dropping duplicates in rows if there are any and displaying the new count of columns and rows\n",
    "houses.drop_duplicates(keep='first')\n",
    "\n",
    "houses.shape"
   ]
  },
  {
   "cell_type": "markdown",
   "id": "cc0cedfe",
   "metadata": {},
   "source": [
    "><font color = 'blue'>**There are no duplicates in the data**</font>"
   ]
  },
  {
   "cell_type": "code",
   "execution_count": 10,
   "id": "db82605c",
   "metadata": {},
   "outputs": [],
   "source": [
    "# Using a function that provides number of nulls and their percent in the data\n",
    "\n",
    "def multi_frequency(df,vars):\n",
    "    '''multi_frequency takes a dataframe in *arg and a *kwarg in the form of a list of columns\n",
    "    and return a dataframe with the count and the frequency of the data\n",
    "    '''\n",
    "    frequency=df[vars].isnull().sum()\n",
    "    percentage=df[vars].isnull().sum()*100/(len(df))\n",
    "    df=pd.concat([frequency,percentage], axis=1, keys=['num_rows_missing', 'pct_rows_missing'])\n",
    "    return df"
   ]
  },
  {
   "cell_type": "code",
   "execution_count": 11,
   "id": "f9af74ed",
   "metadata": {},
   "outputs": [
    {
     "data": {
      "text/html": [
       "<div>\n",
       "<style scoped>\n",
       "    .dataframe tbody tr th:only-of-type {\n",
       "        vertical-align: middle;\n",
       "    }\n",
       "\n",
       "    .dataframe tbody tr th {\n",
       "        vertical-align: top;\n",
       "    }\n",
       "\n",
       "    .dataframe thead th {\n",
       "        text-align: right;\n",
       "    }\n",
       "</style>\n",
       "<table border=\"1\" class=\"dataframe\">\n",
       "  <thead>\n",
       "    <tr style=\"text-align: right;\">\n",
       "      <th></th>\n",
       "      <th>num_rows_missing</th>\n",
       "      <th>pct_rows_missing</th>\n",
       "    </tr>\n",
       "  </thead>\n",
       "  <tbody>\n",
       "    <tr>\n",
       "      <th>lotsizesquarefeet</th>\n",
       "      <td>369</td>\n",
       "      <td>0.703634</td>\n",
       "    </tr>\n",
       "    <tr>\n",
       "      <th>yearbuilt</th>\n",
       "      <td>116</td>\n",
       "      <td>0.221197</td>\n",
       "    </tr>\n",
       "    <tr>\n",
       "      <th>structuretaxvaluedollarcnt</th>\n",
       "      <td>84</td>\n",
       "      <td>0.160177</td>\n",
       "    </tr>\n",
       "    <tr>\n",
       "      <th>calculatedfinishedsquarefeet</th>\n",
       "      <td>82</td>\n",
       "      <td>0.156363</td>\n",
       "    </tr>\n",
       "    <tr>\n",
       "      <th>taxamount</th>\n",
       "      <td>4</td>\n",
       "      <td>0.007627</td>\n",
       "    </tr>\n",
       "    <tr>\n",
       "      <th>taxvaluedollarcnt</th>\n",
       "      <td>1</td>\n",
       "      <td>0.001907</td>\n",
       "    </tr>\n",
       "    <tr>\n",
       "      <th>landtaxvaluedollarcnt</th>\n",
       "      <td>1</td>\n",
       "      <td>0.001907</td>\n",
       "    </tr>\n",
       "    <tr>\n",
       "      <th>parcelid</th>\n",
       "      <td>0</td>\n",
       "      <td>0.000000</td>\n",
       "    </tr>\n",
       "    <tr>\n",
       "      <th>bathroomcnt</th>\n",
       "      <td>0</td>\n",
       "      <td>0.000000</td>\n",
       "    </tr>\n",
       "    <tr>\n",
       "      <th>bedroomcnt</th>\n",
       "      <td>0</td>\n",
       "      <td>0.000000</td>\n",
       "    </tr>\n",
       "    <tr>\n",
       "      <th>propertylandusedesc</th>\n",
       "      <td>0</td>\n",
       "      <td>0.000000</td>\n",
       "    </tr>\n",
       "    <tr>\n",
       "      <th>fips</th>\n",
       "      <td>0</td>\n",
       "      <td>0.000000</td>\n",
       "    </tr>\n",
       "    <tr>\n",
       "      <th>latitude</th>\n",
       "      <td>0</td>\n",
       "      <td>0.000000</td>\n",
       "    </tr>\n",
       "    <tr>\n",
       "      <th>longitude</th>\n",
       "      <td>0</td>\n",
       "      <td>0.000000</td>\n",
       "    </tr>\n",
       "    <tr>\n",
       "      <th>logerror</th>\n",
       "      <td>0</td>\n",
       "      <td>0.000000</td>\n",
       "    </tr>\n",
       "    <tr>\n",
       "      <th>transactiondate</th>\n",
       "      <td>0</td>\n",
       "      <td>0.000000</td>\n",
       "    </tr>\n",
       "  </tbody>\n",
       "</table>\n",
       "</div>"
      ],
      "text/plain": [
       "                              num_rows_missing  pct_rows_missing\n",
       "lotsizesquarefeet                          369          0.703634\n",
       "yearbuilt                                  116          0.221197\n",
       "structuretaxvaluedollarcnt                  84          0.160177\n",
       "calculatedfinishedsquarefeet                82          0.156363\n",
       "taxamount                                    4          0.007627\n",
       "taxvaluedollarcnt                            1          0.001907\n",
       "landtaxvaluedollarcnt                        1          0.001907\n",
       "parcelid                                     0          0.000000\n",
       "bathroomcnt                                  0          0.000000\n",
       "bedroomcnt                                   0          0.000000\n",
       "propertylandusedesc                          0          0.000000\n",
       "fips                                         0          0.000000\n",
       "latitude                                     0          0.000000\n",
       "longitude                                    0          0.000000\n",
       "logerror                                     0          0.000000\n",
       "transactiondate                              0          0.000000"
      ]
     },
     "execution_count": 11,
     "metadata": {},
     "output_type": "execute_result"
    }
   ],
   "source": [
    "# Displaying the distribution of nulls in a dataframe\n",
    "\n",
    "multi_frequency(houses, houses.columns).sort_values(by='pct_rows_missing', ascending=False)"
   ]
  },
  {
   "cell_type": "markdown",
   "id": "24aba6a7",
   "metadata": {},
   "source": [
    "**<font color = 'blue'>Conclusions</font>**\n",
    "\n",
    ">**lotsizesquarefeet, yearbuilt, structuretaxvaluedollarcnt, and calculatedfinishedsquarefeet have the most nulls, I will use KNNImputer to handle them**\n",
    "\n",
    ">**I will drop the null rows in taxamount, taxvaluedollarcnt, and landtaxvaluedollarcnt because there are very few of them**\n",
    "\n",
    ">**<font color = 'brown'>I will impute at KNN=1 and KNN =2. If I have time I will run the explore, split, scale and model on data from imputing KNN=2</font>**"
   ]
  },
  {
   "cell_type": "markdown",
   "id": "4a95ac83",
   "metadata": {},
   "source": [
    "##### KNN = 1"
   ]
  },
  {
   "cell_type": "code",
   "execution_count": 12,
   "id": "c3da561c",
   "metadata": {},
   "outputs": [],
   "source": [
    "# Handling missing values\n",
    "\n",
    "def handle_missing_values(df):\n",
    "    imputer = KNNImputer(n_neighbors=1)\n",
    "    imputer.fit_transform(houses[['lotsizesquarefeet',\n",
    "                                  'yearbuilt',\n",
    "                                  'structuretaxvaluedollarcnt',\n",
    "                                  'calculatedfinishedsquarefeet']])\n",
    "    df = df.dropna()\n",
    "    return df"
   ]
  },
  {
   "cell_type": "code",
   "execution_count": 13,
   "id": "22d93c7e",
   "metadata": {
    "scrolled": false
   },
   "outputs": [],
   "source": [
    "houses_knn1 = handle_missing_values(houses)"
   ]
  },
  {
   "cell_type": "code",
   "execution_count": 14,
   "id": "33c9d6f9",
   "metadata": {},
   "outputs": [
    {
     "data": {
      "text/html": [
       "<div>\n",
       "<style scoped>\n",
       "    .dataframe tbody tr th:only-of-type {\n",
       "        vertical-align: middle;\n",
       "    }\n",
       "\n",
       "    .dataframe tbody tr th {\n",
       "        vertical-align: top;\n",
       "    }\n",
       "\n",
       "    .dataframe thead th {\n",
       "        text-align: right;\n",
       "    }\n",
       "</style>\n",
       "<table border=\"1\" class=\"dataframe\">\n",
       "  <thead>\n",
       "    <tr style=\"text-align: right;\">\n",
       "      <th></th>\n",
       "      <th>num_rows_missing</th>\n",
       "      <th>pct_rows_missing</th>\n",
       "    </tr>\n",
       "  </thead>\n",
       "  <tbody>\n",
       "    <tr>\n",
       "      <th>parcelid</th>\n",
       "      <td>0</td>\n",
       "      <td>0.0</td>\n",
       "    </tr>\n",
       "    <tr>\n",
       "      <th>bathroomcnt</th>\n",
       "      <td>0</td>\n",
       "      <td>0.0</td>\n",
       "    </tr>\n",
       "    <tr>\n",
       "      <th>bedroomcnt</th>\n",
       "      <td>0</td>\n",
       "      <td>0.0</td>\n",
       "    </tr>\n",
       "    <tr>\n",
       "      <th>propertylandusedesc</th>\n",
       "      <td>0</td>\n",
       "      <td>0.0</td>\n",
       "    </tr>\n",
       "    <tr>\n",
       "      <th>calculatedfinishedsquarefeet</th>\n",
       "      <td>0</td>\n",
       "      <td>0.0</td>\n",
       "    </tr>\n",
       "    <tr>\n",
       "      <th>fips</th>\n",
       "      <td>0</td>\n",
       "      <td>0.0</td>\n",
       "    </tr>\n",
       "    <tr>\n",
       "      <th>latitude</th>\n",
       "      <td>0</td>\n",
       "      <td>0.0</td>\n",
       "    </tr>\n",
       "    <tr>\n",
       "      <th>longitude</th>\n",
       "      <td>0</td>\n",
       "      <td>0.0</td>\n",
       "    </tr>\n",
       "    <tr>\n",
       "      <th>lotsizesquarefeet</th>\n",
       "      <td>0</td>\n",
       "      <td>0.0</td>\n",
       "    </tr>\n",
       "    <tr>\n",
       "      <th>yearbuilt</th>\n",
       "      <td>0</td>\n",
       "      <td>0.0</td>\n",
       "    </tr>\n",
       "    <tr>\n",
       "      <th>structuretaxvaluedollarcnt</th>\n",
       "      <td>0</td>\n",
       "      <td>0.0</td>\n",
       "    </tr>\n",
       "    <tr>\n",
       "      <th>taxvaluedollarcnt</th>\n",
       "      <td>0</td>\n",
       "      <td>0.0</td>\n",
       "    </tr>\n",
       "    <tr>\n",
       "      <th>landtaxvaluedollarcnt</th>\n",
       "      <td>0</td>\n",
       "      <td>0.0</td>\n",
       "    </tr>\n",
       "    <tr>\n",
       "      <th>taxamount</th>\n",
       "      <td>0</td>\n",
       "      <td>0.0</td>\n",
       "    </tr>\n",
       "    <tr>\n",
       "      <th>logerror</th>\n",
       "      <td>0</td>\n",
       "      <td>0.0</td>\n",
       "    </tr>\n",
       "    <tr>\n",
       "      <th>transactiondate</th>\n",
       "      <td>0</td>\n",
       "      <td>0.0</td>\n",
       "    </tr>\n",
       "  </tbody>\n",
       "</table>\n",
       "</div>"
      ],
      "text/plain": [
       "                              num_rows_missing  pct_rows_missing\n",
       "parcelid                                     0               0.0\n",
       "bathroomcnt                                  0               0.0\n",
       "bedroomcnt                                   0               0.0\n",
       "propertylandusedesc                          0               0.0\n",
       "calculatedfinishedsquarefeet                 0               0.0\n",
       "fips                                         0               0.0\n",
       "latitude                                     0               0.0\n",
       "longitude                                    0               0.0\n",
       "lotsizesquarefeet                            0               0.0\n",
       "yearbuilt                                    0               0.0\n",
       "structuretaxvaluedollarcnt                   0               0.0\n",
       "taxvaluedollarcnt                            0               0.0\n",
       "landtaxvaluedollarcnt                        0               0.0\n",
       "taxamount                                    0               0.0\n",
       "logerror                                     0               0.0\n",
       "transactiondate                              0               0.0"
      ]
     },
     "execution_count": 14,
     "metadata": {},
     "output_type": "execute_result"
    }
   ],
   "source": [
    "multi_frequency(houses_knn1, houses_knn1.columns).sort_values(by='pct_rows_missing', ascending=False)"
   ]
  },
  {
   "cell_type": "code",
   "execution_count": 15,
   "id": "f6802041",
   "metadata": {},
   "outputs": [
    {
     "data": {
      "text/plain": [
       "(51897, 16)"
      ]
     },
     "execution_count": 15,
     "metadata": {},
     "output_type": "execute_result"
    }
   ],
   "source": [
    "houses_knn1.shape"
   ]
  },
  {
   "cell_type": "markdown",
   "id": "1f05e852",
   "metadata": {},
   "source": [
    "##### KNN = 2"
   ]
  },
  {
   "cell_type": "code",
   "execution_count": 16,
   "id": "2b7b261d",
   "metadata": {},
   "outputs": [],
   "source": [
    "def handle_missing_values2(df):\n",
    "    imputer = KNNImputer(n_neighbors=2)\n",
    "    imputer.fit_transform(houses[['lotsizesquarefeet',\n",
    "                                  'yearbuilt',\n",
    "                                  'structuretaxvaluedollarcnt',\n",
    "                                  'calculatedfinishedsquarefeet']])\n",
    "    df = df.dropna()\n",
    "    return df"
   ]
  },
  {
   "cell_type": "code",
   "execution_count": 17,
   "id": "6d48c12b",
   "metadata": {},
   "outputs": [],
   "source": [
    "houses_knn2 = handle_missing_values(houses)"
   ]
  },
  {
   "cell_type": "code",
   "execution_count": 18,
   "id": "5abe2d0e",
   "metadata": {},
   "outputs": [
    {
     "data": {
      "text/html": [
       "<div>\n",
       "<style scoped>\n",
       "    .dataframe tbody tr th:only-of-type {\n",
       "        vertical-align: middle;\n",
       "    }\n",
       "\n",
       "    .dataframe tbody tr th {\n",
       "        vertical-align: top;\n",
       "    }\n",
       "\n",
       "    .dataframe thead th {\n",
       "        text-align: right;\n",
       "    }\n",
       "</style>\n",
       "<table border=\"1\" class=\"dataframe\">\n",
       "  <thead>\n",
       "    <tr style=\"text-align: right;\">\n",
       "      <th></th>\n",
       "      <th>num_rows_missing</th>\n",
       "      <th>pct_rows_missing</th>\n",
       "    </tr>\n",
       "  </thead>\n",
       "  <tbody>\n",
       "    <tr>\n",
       "      <th>parcelid</th>\n",
       "      <td>0</td>\n",
       "      <td>0.0</td>\n",
       "    </tr>\n",
       "    <tr>\n",
       "      <th>bathroomcnt</th>\n",
       "      <td>0</td>\n",
       "      <td>0.0</td>\n",
       "    </tr>\n",
       "    <tr>\n",
       "      <th>bedroomcnt</th>\n",
       "      <td>0</td>\n",
       "      <td>0.0</td>\n",
       "    </tr>\n",
       "    <tr>\n",
       "      <th>propertylandusedesc</th>\n",
       "      <td>0</td>\n",
       "      <td>0.0</td>\n",
       "    </tr>\n",
       "    <tr>\n",
       "      <th>calculatedfinishedsquarefeet</th>\n",
       "      <td>0</td>\n",
       "      <td>0.0</td>\n",
       "    </tr>\n",
       "    <tr>\n",
       "      <th>fips</th>\n",
       "      <td>0</td>\n",
       "      <td>0.0</td>\n",
       "    </tr>\n",
       "    <tr>\n",
       "      <th>latitude</th>\n",
       "      <td>0</td>\n",
       "      <td>0.0</td>\n",
       "    </tr>\n",
       "    <tr>\n",
       "      <th>longitude</th>\n",
       "      <td>0</td>\n",
       "      <td>0.0</td>\n",
       "    </tr>\n",
       "    <tr>\n",
       "      <th>lotsizesquarefeet</th>\n",
       "      <td>0</td>\n",
       "      <td>0.0</td>\n",
       "    </tr>\n",
       "    <tr>\n",
       "      <th>yearbuilt</th>\n",
       "      <td>0</td>\n",
       "      <td>0.0</td>\n",
       "    </tr>\n",
       "    <tr>\n",
       "      <th>structuretaxvaluedollarcnt</th>\n",
       "      <td>0</td>\n",
       "      <td>0.0</td>\n",
       "    </tr>\n",
       "    <tr>\n",
       "      <th>taxvaluedollarcnt</th>\n",
       "      <td>0</td>\n",
       "      <td>0.0</td>\n",
       "    </tr>\n",
       "    <tr>\n",
       "      <th>landtaxvaluedollarcnt</th>\n",
       "      <td>0</td>\n",
       "      <td>0.0</td>\n",
       "    </tr>\n",
       "    <tr>\n",
       "      <th>taxamount</th>\n",
       "      <td>0</td>\n",
       "      <td>0.0</td>\n",
       "    </tr>\n",
       "    <tr>\n",
       "      <th>logerror</th>\n",
       "      <td>0</td>\n",
       "      <td>0.0</td>\n",
       "    </tr>\n",
       "    <tr>\n",
       "      <th>transactiondate</th>\n",
       "      <td>0</td>\n",
       "      <td>0.0</td>\n",
       "    </tr>\n",
       "  </tbody>\n",
       "</table>\n",
       "</div>"
      ],
      "text/plain": [
       "                              num_rows_missing  pct_rows_missing\n",
       "parcelid                                     0               0.0\n",
       "bathroomcnt                                  0               0.0\n",
       "bedroomcnt                                   0               0.0\n",
       "propertylandusedesc                          0               0.0\n",
       "calculatedfinishedsquarefeet                 0               0.0\n",
       "fips                                         0               0.0\n",
       "latitude                                     0               0.0\n",
       "longitude                                    0               0.0\n",
       "lotsizesquarefeet                            0               0.0\n",
       "yearbuilt                                    0               0.0\n",
       "structuretaxvaluedollarcnt                   0               0.0\n",
       "taxvaluedollarcnt                            0               0.0\n",
       "landtaxvaluedollarcnt                        0               0.0\n",
       "taxamount                                    0               0.0\n",
       "logerror                                     0               0.0\n",
       "transactiondate                              0               0.0"
      ]
     },
     "execution_count": 18,
     "metadata": {},
     "output_type": "execute_result"
    }
   ],
   "source": [
    "multi_frequency(houses_knn2, houses_knn2.columns).sort_values(by='pct_rows_missing', ascending=False)"
   ]
  },
  {
   "cell_type": "markdown",
   "id": "cbf939e7",
   "metadata": {},
   "source": [
    "##### I will continue my work with KNN = 1"
   ]
  },
  {
   "cell_type": "code",
   "execution_count": 19,
   "id": "57059861",
   "metadata": {
    "scrolled": true
   },
   "outputs": [
    {
     "data": {
      "text/plain": [
       "['parcelid',\n",
       " 'bathroomcnt',\n",
       " 'bedroomcnt',\n",
       " 'propertylandusedesc',\n",
       " 'calculatedfinishedsquarefeet',\n",
       " 'fips',\n",
       " 'latitude',\n",
       " 'longitude',\n",
       " 'lotsizesquarefeet',\n",
       " 'yearbuilt',\n",
       " 'structuretaxvaluedollarcnt',\n",
       " 'taxvaluedollarcnt',\n",
       " 'landtaxvaluedollarcnt',\n",
       " 'taxamount',\n",
       " 'logerror',\n",
       " 'transactiondate']"
      ]
     },
     "execution_count": 19,
     "metadata": {},
     "output_type": "execute_result"
    }
   ],
   "source": [
    "houses_knn1.columns.tolist()"
   ]
  },
  {
   "cell_type": "code",
   "execution_count": 87,
   "id": "dc830f8f",
   "metadata": {},
   "outputs": [],
   "source": [
    "def prepare_zillow(df):\n",
    "    '''\n",
    "    Takes in the df and changes county numbers\n",
    "    to a boolean column,  indicating county names \n",
    "    for properties and another one the age\n",
    "    '''\n",
    "# Creating df with counties as booleans\n",
    "    counties = pd.get_dummies(df.fips)\n",
    "    counties.columns = ['Los_Angeles', 'Orange', 'Ventura']\n",
    "    df = pd.concat([df, counties], axis = 1)\n",
    "# Dropping the propertylandusedesc column\n",
    "    df.drop(columns=['propertylandusedesc'], inplace=True)\n",
    "    df.drop(columns=['transactiondate'], inplace=True)\n",
    "# Calculating age of home\n",
    "# (will be useful when scaling but also maybe clustering as a 'new' feature)\n",
    "    df['age'] = 2017 - df.yearbuilt\n",
    "    df.drop(columns=['yearbuilt'], inplace=True)\n",
    "    \n",
    "# Renaming columns\n",
    "    cols_to_rename = {\n",
    "    'calculatedfinishedsquarefeet': 'habitable_sqft',\n",
    "    'taxvaluedollarcnt': 'parcel_tax_value',\n",
    "    'bedroomcnt': 'bedrooms',\n",
    "    'bathroomcnt': 'bathrooms',\n",
    "    'taxamount': 'tax_amount',\n",
    "    'lotsizesquarefeet': 'lot_sqft',\n",
    "    'structuretaxvaluedollarcnt': 'building_tax_value',\n",
    "    'landtaxvaluedollarcnt': 'land_tax_value',\n",
    "}\n",
    "    df = df.rename(columns=cols_to_rename)\n",
    "    return df\n",
    "\n",
    "# I missed one column so I will rename it in another cell"
   ]
  },
  {
   "cell_type": "code",
   "execution_count": 88,
   "id": "eb232d64",
   "metadata": {},
   "outputs": [],
   "source": [
    "# Assigning the renamed dataframe to a new one\n",
    "\n",
    "houses_renamed=prepare_zillow(houses_knn1)"
   ]
  },
  {
   "cell_type": "code",
   "execution_count": 89,
   "id": "df277ff9",
   "metadata": {},
   "outputs": [
    {
     "data": {
      "text/plain": [
       "(51897, 17)"
      ]
     },
     "execution_count": 89,
     "metadata": {},
     "output_type": "execute_result"
    }
   ],
   "source": [
    "houses_renamed.shape"
   ]
  },
  {
   "cell_type": "code",
   "execution_count": 90,
   "id": "65dd5e3e",
   "metadata": {},
   "outputs": [
    {
     "data": {
      "text/plain": [
       "['parcelid',\n",
       " 'bathrooms',\n",
       " 'bedrooms',\n",
       " 'habitable_sqft',\n",
       " 'fips',\n",
       " 'latitude',\n",
       " 'longitude',\n",
       " 'lot_sqft',\n",
       " 'building_tax_value',\n",
       " 'parcel_tax_value',\n",
       " 'land_tax_value',\n",
       " 'tax_amount',\n",
       " 'logerror',\n",
       " 'Los_Angeles',\n",
       " 'Orange',\n",
       " 'Ventura',\n",
       " 'age']"
      ]
     },
     "execution_count": 90,
     "metadata": {},
     "output_type": "execute_result"
    }
   ],
   "source": [
    "houses_renamed.columns.tolist()"
   ]
  },
  {
   "cell_type": "code",
   "execution_count": 24,
   "id": "9e9a764a",
   "metadata": {},
   "outputs": [
    {
     "data": {
      "image/png": "[encoded data removed]",
      "text/plain": [
       "<Figure size 504x288 with 1 Axes>"
      ]
     },
     "metadata": {
      "needs_background": "light"
     },
     "output_type": "display_data"
    }
   ],
   "source": [
    "plt.figure(figsize=(7,4))\n",
    "sb.boxplot(data=houses_renamed.bathrooms, orient='h')\n",
    "plt.show()"
   ]
  },
  {
   "cell_type": "code",
   "execution_count": 25,
   "id": "2f81ea5b",
   "metadata": {},
   "outputs": [
    {
     "data": {
      "image/png": "[encoded data removed]",
      "text/plain": [
       "<Figure size 504x288 with 1 Axes>"
      ]
     },
     "metadata": {
      "needs_background": "light"
     },
     "output_type": "display_data"
    }
   ],
   "source": [
    "plt.figure(figsize=(7,4))\n",
    "sb.boxplot(data=houses_renamed.bedrooms, orient='h')\n",
    "plt.show()"
   ]
  },
  {
   "cell_type": "code",
   "execution_count": 26,
   "id": "386f0981",
   "metadata": {},
   "outputs": [
    {
     "data": {
      "image/png": "[encoded data removed]",
      "text/plain": [
       "<Figure size 504x288 with 1 Axes>"
      ]
     },
     "metadata": {
      "needs_background": "light"
     },
     "output_type": "display_data"
    }
   ],
   "source": [
    "plt.figure(figsize=(7,4))\n",
    "sb.boxplot(data=houses_renamed.habitable_sqft, orient='h')\n",
    "plt.show()"
   ]
  },
  {
   "cell_type": "code",
   "execution_count": 27,
   "id": "cee55554",
   "metadata": {},
   "outputs": [
    {
     "data": {
      "image/png": "[encoded data removed]",
      "text/plain": [
       "<Figure size 504x288 with 1 Axes>"
      ]
     },
     "metadata": {
      "needs_background": "light"
     },
     "output_type": "display_data"
    }
   ],
   "source": [
    "plt.figure(figsize=(7,4))\n",
    "sb.boxplot(data=houses_renamed.fips, orient='h')\n",
    "plt.show()"
   ]
  },
  {
   "cell_type": "code",
   "execution_count": 28,
   "id": "6b9cb18b",
   "metadata": {},
   "outputs": [
    {
     "data": {
      "image/png": "[encoded data removed]",
      "text/plain": [
       "<Figure size 504x288 with 1 Axes>"
      ]
     },
     "metadata": {
      "needs_background": "light"
     },
     "output_type": "display_data"
    }
   ],
   "source": [
    "plt.figure(figsize=(7,4))\n",
    "sb.boxplot(data=houses_renamed.latitude, orient='h')\n",
    "plt.show()"
   ]
  },
  {
   "cell_type": "code",
   "execution_count": 29,
   "id": "b650d86d",
   "metadata": {},
   "outputs": [
    {
     "data": {
      "image/png": "[encoded data removed]",
      "text/plain": [
       "<Figure size 504x288 with 1 Axes>"
      ]
     },
     "metadata": {
      "needs_background": "light"
     },
     "output_type": "display_data"
    }
   ],
   "source": [
    "plt.figure(figsize=(7,4))\n",
    "sb.boxplot(data=houses_renamed.longitude, orient='h')\n",
    "plt.show()"
   ]
  },
  {
   "cell_type": "code",
   "execution_count": 30,
   "id": "a7df514b",
   "metadata": {},
   "outputs": [
    {
     "data": {
      "image/png": "[encoded data removed]",
      "text/plain": [
       "<Figure size 504x288 with 1 Axes>"
      ]
     },
     "metadata": {
      "needs_background": "light"
     },
     "output_type": "display_data"
    }
   ],
   "source": [
    "plt.figure(figsize=(7,4))\n",
    "sb.boxplot(data=houses_renamed.lot_sqft, orient='h')\n",
    "plt.show()"
   ]
  },
  {
   "cell_type": "code",
   "execution_count": 31,
   "id": "f8380ed4",
   "metadata": {},
   "outputs": [
    {
     "data": {
      "image/png": "[encoded data removed]",
      "text/plain": [
       "<Figure size 504x288 with 1 Axes>"
      ]
     },
     "metadata": {
      "needs_background": "light"
     },
     "output_type": "display_data"
    }
   ],
   "source": [
    "plt.figure(figsize=(7,4))\n",
    "sb.boxplot(data=houses_renamed.building_tax_value, orient='h')\n",
    "plt.show()"
   ]
  },
  {
   "cell_type": "code",
   "execution_count": 32,
   "id": "c460c2f1",
   "metadata": {},
   "outputs": [
    {
     "data": {
      "image/png": "[encoded data removed]",
      "text/plain": [
       "<Figure size 504x288 with 1 Axes>"
      ]
     },
     "metadata": {
      "needs_background": "light"
     },
     "output_type": "display_data"
    }
   ],
   "source": [
    "plt.figure(figsize=(7,4))\n",
    "sb.boxplot(data=houses_renamed.parcel_tax_value, orient='h')\n",
    "plt.show()"
   ]
  },
  {
   "cell_type": "code",
   "execution_count": 33,
   "id": "d60c3510",
   "metadata": {},
   "outputs": [
    {
     "data": {
      "image/png": "[encoded data removed]",
      "text/plain": [
       "<Figure size 504x288 with 1 Axes>"
      ]
     },
     "metadata": {
      "needs_background": "light"
     },
     "output_type": "display_data"
    }
   ],
   "source": [
    "\n",
    "plt.figure(figsize=(7,4))\n",
    "sb.boxplot(data=houses_renamed.land_tax_value, orient='h')\n",
    "plt.show()"
   ]
  },
  {
   "cell_type": "code",
   "execution_count": 34,
   "id": "23d0a855",
   "metadata": {},
   "outputs": [
    {
     "data": {
      "image/png": "[encoded data removed]",
      "text/plain": [
       "<Figure size 504x288 with 1 Axes>"
      ]
     },
     "metadata": {
      "needs_background": "light"
     },
     "output_type": "display_data"
    }
   ],
   "source": [
    "plt.figure(figsize=(7,4))\n",
    "sb.boxplot(data=houses_renamed.tax_amount, orient='h')\n",
    "plt.show()"
   ]
  },
  {
   "cell_type": "code",
   "execution_count": 35,
   "id": "069321d0",
   "metadata": {},
   "outputs": [
    {
     "data": {
      "image/png": "[encoded data removed]",
      "text/plain": [
       "<Figure size 504x288 with 1 Axes>"
      ]
     },
     "metadata": {
      "needs_background": "light"
     },
     "output_type": "display_data"
    }
   ],
   "source": [
    "plt.figure(figsize=(7,4))\n",
    "sb.boxplot(data=houses_renamed.logerror, orient='h')\n",
    "plt.show()"
   ]
  },
  {
   "cell_type": "code",
   "execution_count": 36,
   "id": "0e653be4",
   "metadata": {},
   "outputs": [
    {
     "data": {
      "image/png": "[encoded data removed]",
      "text/plain": [
       "<Figure size 504x288 with 1 Axes>"
      ]
     },
     "metadata": {
      "needs_background": "light"
     },
     "output_type": "display_data"
    }
   ],
   "source": [
    "plt.figure(figsize=(7,4))\n",
    "sb.boxplot(data=houses_renamed.Los_Angeles, orient='h')\n",
    "plt.show()"
   ]
  },
  {
   "cell_type": "code",
   "execution_count": 37,
   "id": "3ab86a42",
   "metadata": {},
   "outputs": [
    {
     "data": {
      "image/png": "[encoded data removed]",
      "text/plain": [
       "<Figure size 504x288 with 1 Axes>"
      ]
     },
     "metadata": {
      "needs_background": "light"
     },
     "output_type": "display_data"
    }
   ],
   "source": [
    "plt.figure(figsize=(7,4))\n",
    "sb.boxplot(data=houses_renamed.Orange, orient='h')\n",
    "plt.show()"
   ]
  },
  {
   "cell_type": "code",
   "execution_count": 38,
   "id": "7c878fca",
   "metadata": {},
   "outputs": [
    {
     "data": {
      "image/png": "[encoded data removed]",
      "text/plain": [
       "<Figure size 504x288 with 1 Axes>"
      ]
     },
     "metadata": {
      "needs_background": "light"
     },
     "output_type": "display_data"
    }
   ],
   "source": [
    "plt.figure(figsize=(7,4))\n",
    "sb.boxplot(data=houses_renamed.Ventura, orient='h')\n",
    "plt.show()"
   ]
  },
  {
   "cell_type": "code",
   "execution_count": 78,
   "id": "37cae233",
   "metadata": {
    "scrolled": true
   },
   "outputs": [
    {
     "data": {
      "image/png": "[encoded data removed]",
      "text/plain": [
       "<Figure size 504x288 with 1 Axes>"
      ]
     },
     "metadata": {
      "needs_background": "light"
     },
     "output_type": "display_data"
    }
   ],
   "source": [
    "plt.figure(figsize=(7,4))\n",
    "sb.boxplot(data=houses_renamed.age, orient='h')\n",
    "plt.show()"
   ]
  },
  {
   "cell_type": "markdown",
   "id": "d2b3797e",
   "metadata": {},
   "source": [
    "**<font color = 'blue'>Observations</font>**\n",
    "\n",
    "><font color = 'blue'>All columns but Orange and Los Angeles have upper-bound outliers</font>\n",
    "\n",
    "><font color = 'blue'>All columns but logerror, longitude, bathrooms, and bedrooms have lower-bound outliers</font>\n",
    "\n",
    "**<font color = 'blue'>Actions</font>**\n",
    "\n",
    "><font color = 'blue'>Detect outliers with a function in order to use that function to remove them</font>\n",
    "\n",
    "><font color = 'blue'>Remove outlier</font>\n",
    "\n",
    "><font color = 'brown'>In order to get to an MVP, I will skip the removal of outliers for now</font>"
   ]
  },
  {
   "cell_type": "code",
   "execution_count": null,
   "id": "71c4d128",
   "metadata": {},
   "outputs": [],
   "source": [
    "# Detectecting outliers\n",
    "\n",
    "def get_upper_outliers(s, k):\n",
    "    '''\n",
    "    Given a series and a cutoff value, k, returns the upper outliers for the\n",
    "    series.\n",
    "\n",
    "    The values returned will be either 0 (if the point is not an outlier), or a\n",
    "    number that indicates how far away from the upper bound the observation is.\n",
    "    '''\n",
    "    q1, q3 = s.quantile([.25, .75])\n",
    "    iqr = q3 - q1\n",
    "    upper_bound = q3 + k * iqr\n",
    "    return s.apply(lambda x: max([x - upper_bound, 0]))"
   ]
  },
  {
   "cell_type": "code",
   "execution_count": null,
   "id": "9a899558",
   "metadata": {},
   "outputs": [],
   "source": [
    "# Detectecting outliers\n",
    "\n",
    "def get_lower_outliers(s, k):\n",
    "    '''\n",
    "    Given a series and a cutoff value, k, returns the upper outliers for the\n",
    "    series.\n",
    "\n",
    "    The values returned will be either 0 (if the point is not an outlier), or a\n",
    "    number that indicates how far away from the upper bound the observation is.\n",
    "    '''\n",
    "    q1, q3 = s.quantile([.25, .75])\n",
    "    iqr = q3 - q1\n",
    "    lower_bound = q1 - k * iqr\n",
    "    return s.apply(lambda x: max([x - lower_bound, 0]))"
   ]
  },
  {
   "cell_type": "markdown",
   "id": "555d5b65",
   "metadata": {},
   "source": [
    "**<font color = 'blue'>Takeaways</font>**\n",
    "\n",
    "><font color = 'blue'>Nulls have been removed</font>\n",
    "\n",
    "><font color = 'blue'>Missing data imputed</font>\n",
    "\n",
    "><font color = 'blue'>Split the data into train, validate, and test</font>\n",
    "\n",
    "><font color = 'blue'>Scale and explore</font>"
   ]
  },
  {
   "cell_type": "markdown",
   "id": "e270d8f3",
   "metadata": {},
   "source": [
    "## Functions"
   ]
  },
  {
   "cell_type": "markdown",
   "id": "be08249f",
   "metadata": {},
   "source": [
    "# Exploration"
   ]
  },
  {
   "cell_type": "markdown",
   "id": "62520bc9",
   "metadata": {},
   "source": [
    "**I will try to answer these questions in my exploration phase**\n",
    "\n",
    "**My objective is to use the variables or a combination of them to understand**\n",
    "\n",
    "><font color = 'blue'>Is there a pattern in the data? Where?</font>\n",
    "\n",
    "><font color = 'brown'>I will explore parcel density,  to answer this question</font>\n",
    "    \n",
    "><font color = 'blue'>What features are driving the outcome? What are the most prominent ones?</font>\n",
    "\n",
    "><font color = 'brown'>I will use --- to answer this question</font>\n",
    "\n",
    "><font color = 'blue'>What features can I build from the ones I have that influence the target even more?</font>\n",
    "\n",
    "><font color = 'brown'>I will use --- to answer this question</font>\n",
    "\n",
    ">We want to walk away from exploration with with modeling strategies (feature selection, algorithm selection, evaluation methods, for example)."
   ]
  },
  {
   "cell_type": "code",
   "execution_count": 91,
   "id": "d45e2fd0",
   "metadata": {},
   "outputs": [
    {
     "data": {
      "text/plain": [
       "(51897, 17)"
      ]
     },
     "execution_count": 91,
     "metadata": {},
     "output_type": "execute_result"
    }
   ],
   "source": [
    "houses_renamed.shape"
   ]
  },
  {
   "cell_type": "code",
   "execution_count": 92,
   "id": "29986fee",
   "metadata": {},
   "outputs": [],
   "source": [
    "def split_zillow(df):\n",
    "     \n",
    "     # splits df into train_validate and test using train_test_split(), random state is set so that it is replicable\n",
    "    train_validate, test = train_test_split(houses_renamed, test_size=.2, random_state=175)\n",
    "\n",
    "    # splits train_validate into train and validate using train_test_split(), random state is set so that it is replicable\n",
    "    train, validate = train_test_split(train_validate, \n",
    "                                        test_size=.3, \n",
    "                                        random_state=175)\n",
    "    return train, validate, test"
   ]
  },
  {
   "cell_type": "code",
   "execution_count": 93,
   "id": "167e6695",
   "metadata": {},
   "outputs": [],
   "source": [
    "train, validate, test = split_zillow(houses_renamed)"
   ]
  },
  {
   "cell_type": "code",
   "execution_count": 94,
   "id": "da233983",
   "metadata": {},
   "outputs": [
    {
     "data": {
      "text/plain": [
       "(29061, 17)"
      ]
     },
     "execution_count": 94,
     "metadata": {},
     "output_type": "execute_result"
    }
   ],
   "source": [
    "train.shape"
   ]
  },
  {
   "cell_type": "code",
   "execution_count": 95,
   "id": "db7284d7",
   "metadata": {},
   "outputs": [
    {
     "data": {
      "text/plain": [
       "(12456, 17)"
      ]
     },
     "execution_count": 95,
     "metadata": {},
     "output_type": "execute_result"
    }
   ],
   "source": [
    "validate.shape"
   ]
  },
  {
   "cell_type": "code",
   "execution_count": 96,
   "id": "e36f4df5",
   "metadata": {},
   "outputs": [
    {
     "data": {
      "text/plain": [
       "(10380, 17)"
      ]
     },
     "execution_count": 96,
     "metadata": {},
     "output_type": "execute_result"
    }
   ],
   "source": [
    "test.shape"
   ]
  },
  {
   "cell_type": "code",
   "execution_count": 101,
   "id": "b2b4337a",
   "metadata": {},
   "outputs": [],
   "source": [
    "def min_max_scaler(train, validate, test):\n",
    "    '''Takes in train, validate, test then returns their copies \n",
    "    (copy set to True) scaled to positive integers\n",
    "    '''\n",
    "    scaler = MinMaxScaler(copy=True, feature_range=(0,1)).fit(train)\n",
    "    train_scaled = pd.DataFrame(scaler.transform(train), columns=train.columns.values).set_index([train.index.values])\n",
    "    validate_scaled = pd.DataFrame(scaler.transform(validate), columns=validate.columns.values).set_index([validate.index.values])\n",
    "    test_scaled = pd.DataFrame(scaler.transform(test), columns=test.columns.values).set_index([test.index.values])\n",
    "    return train_scaled, validate_scaled, test_scaled"
   ]
  },
  {
   "cell_type": "code",
   "execution_count": 102,
   "id": "47f5b426",
   "metadata": {},
   "outputs": [],
   "source": [
    "train_scaled, validate_scaled, test_scaled = min_max_scaler(train, validate, test)"
   ]
  },
  {
   "cell_type": "code",
   "execution_count": 103,
   "id": "c5f62d46",
   "metadata": {
    "scrolled": true
   },
   "outputs": [
    {
     "data": {
      "text/plain": [
       "(29061, 17)"
      ]
     },
     "execution_count": 103,
     "metadata": {},
     "output_type": "execute_result"
    }
   ],
   "source": [
    "train_scaled.shape"
   ]
  },
  {
   "cell_type": "code",
   "execution_count": 106,
   "id": "8c48d5c4",
   "metadata": {},
   "outputs": [
    {
     "data": {
      "text/html": [
       "<div>\n",
       "<style scoped>\n",
       "    .dataframe tbody tr th:only-of-type {\n",
       "        vertical-align: middle;\n",
       "    }\n",
       "\n",
       "    .dataframe tbody tr th {\n",
       "        vertical-align: top;\n",
       "    }\n",
       "\n",
       "    .dataframe thead th {\n",
       "        text-align: right;\n",
       "    }\n",
       "</style>\n",
       "<table border=\"1\" class=\"dataframe\">\n",
       "  <thead>\n",
       "    <tr style=\"text-align: right;\">\n",
       "      <th></th>\n",
       "      <th>parcelid</th>\n",
       "      <th>bathrooms</th>\n",
       "      <th>bedrooms</th>\n",
       "      <th>habitable_sqft</th>\n",
       "      <th>fips</th>\n",
       "      <th>latitude</th>\n",
       "      <th>longitude</th>\n",
       "      <th>lot_sqft</th>\n",
       "      <th>building_tax_value</th>\n",
       "      <th>parcel_tax_value</th>\n",
       "      <th>land_tax_value</th>\n",
       "      <th>tax_amount</th>\n",
       "      <th>logerror</th>\n",
       "      <th>Los_Angeles</th>\n",
       "      <th>Orange</th>\n",
       "      <th>Ventura</th>\n",
       "      <th>age</th>\n",
       "    </tr>\n",
       "  </thead>\n",
       "  <tbody>\n",
       "    <tr>\n",
       "      <th>28102</th>\n",
       "      <td>11292068</td>\n",
       "      <td>1.0</td>\n",
       "      <td>3.0</td>\n",
       "      <td>1609.0</td>\n",
       "      <td>6037.0</td>\n",
       "      <td>34697424.0</td>\n",
       "      <td>-118121280.0</td>\n",
       "      <td>10368.0</td>\n",
       "      <td>50591.0</td>\n",
       "      <td>63237.0</td>\n",
       "      <td>12646.0</td>\n",
       "      <td>1552.13</td>\n",
       "      <td>-0.009191</td>\n",
       "      <td>1</td>\n",
       "      <td>0</td>\n",
       "      <td>0</td>\n",
       "      <td>60.0</td>\n",
       "    </tr>\n",
       "    <tr>\n",
       "      <th>39546</th>\n",
       "      <td>11262127</td>\n",
       "      <td>2.0</td>\n",
       "      <td>4.0</td>\n",
       "      <td>1711.0</td>\n",
       "      <td>6037.0</td>\n",
       "      <td>34651728.0</td>\n",
       "      <td>-118232360.0</td>\n",
       "      <td>10019.0</td>\n",
       "      <td>178661.0</td>\n",
       "      <td>222586.0</td>\n",
       "      <td>43925.0</td>\n",
       "      <td>3530.12</td>\n",
       "      <td>-0.002279</td>\n",
       "      <td>1</td>\n",
       "      <td>0</td>\n",
       "      <td>0</td>\n",
       "      <td>25.0</td>\n",
       "    </tr>\n",
       "    <tr>\n",
       "      <th>49654</th>\n",
       "      <td>11968015</td>\n",
       "      <td>1.0</td>\n",
       "      <td>2.0</td>\n",
       "      <td>772.0</td>\n",
       "      <td>6037.0</td>\n",
       "      <td>34110447.0</td>\n",
       "      <td>-118206705.0</td>\n",
       "      <td>4544.0</td>\n",
       "      <td>36448.0</td>\n",
       "      <td>182276.0</td>\n",
       "      <td>145828.0</td>\n",
       "      <td>2189.64</td>\n",
       "      <td>0.068814</td>\n",
       "      <td>1</td>\n",
       "      <td>0</td>\n",
       "      <td>0</td>\n",
       "      <td>92.0</td>\n",
       "    </tr>\n",
       "    <tr>\n",
       "      <th>15628</th>\n",
       "      <td>11756342</td>\n",
       "      <td>1.0</td>\n",
       "      <td>3.0</td>\n",
       "      <td>1756.0</td>\n",
       "      <td>6037.0</td>\n",
       "      <td>34057366.0</td>\n",
       "      <td>-118329619.0</td>\n",
       "      <td>7822.0</td>\n",
       "      <td>70340.0</td>\n",
       "      <td>353187.0</td>\n",
       "      <td>282847.0</td>\n",
       "      <td>4399.15</td>\n",
       "      <td>0.002592</td>\n",
       "      <td>1</td>\n",
       "      <td>0</td>\n",
       "      <td>0</td>\n",
       "      <td>93.0</td>\n",
       "    </tr>\n",
       "    <tr>\n",
       "      <th>29412</th>\n",
       "      <td>11184808</td>\n",
       "      <td>2.0</td>\n",
       "      <td>3.0</td>\n",
       "      <td>1218.0</td>\n",
       "      <td>6037.0</td>\n",
       "      <td>34616616.0</td>\n",
       "      <td>-118195529.0</td>\n",
       "      <td>8397.0</td>\n",
       "      <td>165345.0</td>\n",
       "      <td>206678.0</td>\n",
       "      <td>41333.0</td>\n",
       "      <td>3426.00</td>\n",
       "      <td>0.002827</td>\n",
       "      <td>1</td>\n",
       "      <td>0</td>\n",
       "      <td>0</td>\n",
       "      <td>22.0</td>\n",
       "    </tr>\n",
       "  </tbody>\n",
       "</table>\n",
       "</div>"
      ],
      "text/plain": [
       "       parcelid  bathrooms  bedrooms  habitable_sqft    fips    latitude  \\\n",
       "28102  11292068        1.0       3.0          1609.0  6037.0  34697424.0   \n",
       "39546  11262127        2.0       4.0          1711.0  6037.0  34651728.0   \n",
       "49654  11968015        1.0       2.0           772.0  6037.0  34110447.0   \n",
       "15628  11756342        1.0       3.0          1756.0  6037.0  34057366.0   \n",
       "29412  11184808        2.0       3.0          1218.0  6037.0  34616616.0   \n",
       "\n",
       "         longitude  lot_sqft  building_tax_value  parcel_tax_value  \\\n",
       "28102 -118121280.0   10368.0             50591.0           63237.0   \n",
       "39546 -118232360.0   10019.0            178661.0          222586.0   \n",
       "49654 -118206705.0    4544.0             36448.0          182276.0   \n",
       "15628 -118329619.0    7822.0             70340.0          353187.0   \n",
       "29412 -118195529.0    8397.0            165345.0          206678.0   \n",
       "\n",
       "       land_tax_value  tax_amount  logerror  Los_Angeles  Orange  Ventura  \\\n",
       "28102         12646.0     1552.13 -0.009191            1       0        0   \n",
       "39546         43925.0     3530.12 -0.002279            1       0        0   \n",
       "49654        145828.0     2189.64  0.068814            1       0        0   \n",
       "15628        282847.0     4399.15  0.002592            1       0        0   \n",
       "29412         41333.0     3426.00  0.002827            1       0        0   \n",
       "\n",
       "        age  \n",
       "28102  60.0  \n",
       "39546  25.0  \n",
       "49654  92.0  \n",
       "15628  93.0  \n",
       "29412  22.0  "
      ]
     },
     "execution_count": 106,
     "metadata": {},
     "output_type": "execute_result"
    }
   ],
   "source": [
    "train.head()"
   ]
  },
  {
   "cell_type": "code",
   "execution_count": 104,
   "id": "f6191cc8",
   "metadata": {
    "scrolled": false
   },
   "outputs": [
    {
     "data": {
      "text/plain": [
       "array([[<AxesSubplot:title={'center':'parcelid'}>,\n",
       "        <AxesSubplot:title={'center':'bathrooms'}>,\n",
       "        <AxesSubplot:title={'center':'bedrooms'}>,\n",
       "        <AxesSubplot:title={'center':'habitable_sqft'}>],\n",
       "       [<AxesSubplot:title={'center':'fips'}>,\n",
       "        <AxesSubplot:title={'center':'latitude'}>,\n",
       "        <AxesSubplot:title={'center':'longitude'}>,\n",
       "        <AxesSubplot:title={'center':'lot_sqft'}>],\n",
       "       [<AxesSubplot:title={'center':'building_tax_value'}>,\n",
       "        <AxesSubplot:title={'center':'parcel_tax_value'}>,\n",
       "        <AxesSubplot:title={'center':'land_tax_value'}>,\n",
       "        <AxesSubplot:title={'center':'tax_amount'}>],\n",
       "       [<AxesSubplot:title={'center':'logerror'}>,\n",
       "        <AxesSubplot:title={'center':'Los_Angeles'}>,\n",
       "        <AxesSubplot:title={'center':'Orange'}>,\n",
       "        <AxesSubplot:title={'center':'Ventura'}>],\n",
       "       [<AxesSubplot:title={'center':'age'}>, <AxesSubplot:>,\n",
       "        <AxesSubplot:>, <AxesSubplot:>]], dtype=object)"
      ]
     },
     "execution_count": 104,
     "metadata": {},
     "output_type": "execute_result"
    },
    {
     "data": {
      "image/png": "[encoded data removed]",
      "text/plain": [
       "<Figure size 1440x1224 with 20 Axes>"
      ]
     },
     "metadata": {
      "needs_background": "light"
     },
     "output_type": "display_data"
    }
   ],
   "source": [
    "# Plotting histograms to visualize the data\n",
    "train.hist(figsize=(20, 17))"
   ]
  },
  {
   "cell_type": "markdown",
   "id": "696c2f95",
   "metadata": {},
   "source": [
    "**<font color = 'blue'>Observations</font>**\n",
    "\n",
    ">**<font color = 'blue'>The data distribution is all over the place</font>**\n",
    "\n",
    ">**<font color = 'blue'>Bathrooms, habitable_sqft, lot_sqft, building_tax_value, parcel_tax_value, land_tax_value, tax_amount, and logerror have the same right-skewed shape</font>**\n",
    "\n",
    ">**<font color = 'blue'>Bedrooms, latitude, longitude and age have a pseudo-normal ditribution</font>**"
   ]
  },
  {
   "cell_type": "markdown",
   "id": "18bd2649",
   "metadata": {},
   "source": [
    "**<font color = 'blue'>Questions</font>**\n",
    "\n",
    "Does the location impact logerror?\n",
    "\n"
   ]
  }
 ],
 "metadata": {
  "kernelspec": {
   "display_name": "Python 3 (ipykernel)",
   "language": "python",
   "name": "python3"
  },
  "language_info": {
   "codemirror_mode": {
    "name": "ipython",
    "version": 3
   },
   "file_extension": ".py",
   "mimetype": "text/x-python",
   "name": "python",
   "nbconvert_exporter": "python",
   "pygments_lexer": "ipython3",
   "version": "3.9.7"
  }
 },
 "nbformat": 4,
 "nbformat_minor": 5
}
