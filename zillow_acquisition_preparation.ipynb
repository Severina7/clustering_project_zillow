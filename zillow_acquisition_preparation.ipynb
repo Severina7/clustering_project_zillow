{
 "cells": [
  {
   "cell_type": "markdown",
   "id": "679eac2b",
   "metadata": {},
   "source": [
    "# ZILLOW"
   ]
  },
  {
   "cell_type": "markdown",
   "id": "1a6d6610",
   "metadata": {},
   "source": [
    "# Acquire"
   ]
  },
  {
   "cell_type": "code",
   "execution_count": 49,
   "id": "fdef3887",
   "metadata": {},
   "outputs": [],
   "source": [
    "import pandas as pd\n",
    "import numpy as np\n",
    "import matplotlib.pyplot as plt\n",
    "import seaborn as sb\n",
    "import sklearn.preprocessing\n",
    "import sklearn.model_selection\n",
    "import sklearn.impute\n",
    "import os\n",
    "from sklearn.model_selection import train_test_split\n",
    "from env import host, user, password\n",
    "from sklearn.impute import KNNImputer\n",
    "from sklearn.preprocessing import MinMaxScaler"
   ]
  },
  {
   "cell_type": "code",
   "execution_count": 2,
   "id": "212e64f1",
   "metadata": {},
   "outputs": [],
   "source": [
    "# Creating a string that connects me to MySQLWorkbench\n",
    "\n",
    "def get_connection(db, user=user, host=host, password=password):\n",
    "    '''\n",
    "    get_connection uses login info from env.py file to access Codeup db.\n",
    "    It takes in a string name of a database as an argument.\n",
    "    '''\n",
    "    return f'mysql+pymysql://{user}:{password}@{host}/{db}'\n",
    "    "
   ]
  },
  {
   "cell_type": "markdown",
   "id": "d0f3c500",
   "metadata": {},
   "source": [
    "**I imported specific usefulcolumns based on the experience I had using this dataframe in previous assignment from the data science team**"
   ]
  },
  {
   "cell_type": "code",
   "execution_count": 3,
   "id": "bd7c0d90",
   "metadata": {},
   "outputs": [],
   "source": [
    "# Getting the data from the Codeup database\n",
    "\n",
    "def get_zillow_data():\n",
    "    '''\n",
    "    zillow_data() gets the zillow (only properties_2017 table) data from Codeup db, then writes it to a csv file,\n",
    "    and returns the DF.\n",
    "    '''\n",
    "    # Creating a SQL query\n",
    "    sql_query = '''\n",
    "                SELECT\n",
    "      properties_2017.parcelid,\n",
    "      bathroomcnt,\n",
    "      bedroomcnt,\n",
    "      propertylandusedesc,\n",
    "      calculatedfinishedsquarefeet,\n",
    "      fips,\n",
    "      latitude,\n",
    "      longitude,  \n",
    "      lotsizesquarefeet,\n",
    "      yearbuilt, \n",
    "      structuretaxvaluedollarcnt,\n",
    "      taxvaluedollarcnt, \n",
    "      landtaxvaluedollarcnt,\n",
    "      taxamount,                      \n",
    "      predictions_2017.logerror,                       \n",
    "      predictions_2017.transactiondate\n",
    "   FROM properties_2017\n",
    "   JOIN predictions_2017 USING(parcelid)\n",
    "   LEFT JOIN airconditioningtype USING(airconditioningtypeid)\n",
    "   LEFT JOIN architecturalstyletype USING(architecturalstyletypeid)\n",
    "   LEFT JOIN buildingclasstype USING(buildingclasstypeid)\n",
    "   LEFT JOIN heatingorsystemtype USING(heatingorsystemtypeid)\n",
    "   LEFT JOIN propertylandusetype USING(propertylandusetypeid)\n",
    "   LEFT JOIN storytype USING(storytypeid)\n",
    "   LEFT JOIN typeconstructiontype USING(typeconstructiontypeid)\n",
    "   WHERE\n",
    "      latitude IS NOT NULL\n",
    "      AND longitude IS NOT NULL\n",
    "      AND propertylandusedesc = 'Single Family Residential';\n",
    "                '''\n",
    "    \n",
    "    # Reading in the DataFrame from Codeup db.\n",
    "    df = pd.read_sql(sql_query, get_connection('zillow'))\n",
    "    return df"
   ]
  },
  {
   "cell_type": "code",
   "execution_count": 4,
   "id": "3d996e1f",
   "metadata": {
    "scrolled": true
   },
   "outputs": [
    {
     "data": {
      "text/html": [
       "<div>\n",
       "<style scoped>\n",
       "    .dataframe tbody tr th:only-of-type {\n",
       "        vertical-align: middle;\n",
       "    }\n",
       "\n",
       "    .dataframe tbody tr th {\n",
       "        vertical-align: top;\n",
       "    }\n",
       "\n",
       "    .dataframe thead th {\n",
       "        text-align: right;\n",
       "    }\n",
       "</style>\n",
       "<table border=\"1\" class=\"dataframe\">\n",
       "  <thead>\n",
       "    <tr style=\"text-align: right;\">\n",
       "      <th></th>\n",
       "      <th>parcelid</th>\n",
       "      <th>bathroomcnt</th>\n",
       "      <th>bedroomcnt</th>\n",
       "      <th>propertylandusedesc</th>\n",
       "      <th>calculatedfinishedsquarefeet</th>\n",
       "      <th>fips</th>\n",
       "      <th>latitude</th>\n",
       "      <th>longitude</th>\n",
       "      <th>lotsizesquarefeet</th>\n",
       "      <th>yearbuilt</th>\n",
       "      <th>structuretaxvaluedollarcnt</th>\n",
       "      <th>taxvaluedollarcnt</th>\n",
       "      <th>landtaxvaluedollarcnt</th>\n",
       "      <th>taxamount</th>\n",
       "      <th>logerror</th>\n",
       "      <th>transactiondate</th>\n",
       "    </tr>\n",
       "  </thead>\n",
       "  <tbody>\n",
       "    <tr>\n",
       "      <th>0</th>\n",
       "      <td>14297519</td>\n",
       "      <td>3.5</td>\n",
       "      <td>4.0</td>\n",
       "      <td>Single Family Residential</td>\n",
       "      <td>3100.0</td>\n",
       "      <td>6059.0</td>\n",
       "      <td>33634931.0</td>\n",
       "      <td>-117869207.0</td>\n",
       "      <td>4506.0</td>\n",
       "      <td>1998.0</td>\n",
       "      <td>485713.0</td>\n",
       "      <td>1023282.0</td>\n",
       "      <td>537569.0</td>\n",
       "      <td>11013.72</td>\n",
       "      <td>0.025595</td>\n",
       "      <td>2017-01-01</td>\n",
       "    </tr>\n",
       "    <tr>\n",
       "      <th>1</th>\n",
       "      <td>17052889</td>\n",
       "      <td>1.0</td>\n",
       "      <td>2.0</td>\n",
       "      <td>Single Family Residential</td>\n",
       "      <td>1465.0</td>\n",
       "      <td>6111.0</td>\n",
       "      <td>34449266.0</td>\n",
       "      <td>-119281531.0</td>\n",
       "      <td>12647.0</td>\n",
       "      <td>1967.0</td>\n",
       "      <td>88000.0</td>\n",
       "      <td>464000.0</td>\n",
       "      <td>376000.0</td>\n",
       "      <td>5672.48</td>\n",
       "      <td>0.055619</td>\n",
       "      <td>2017-01-01</td>\n",
       "    </tr>\n",
       "    <tr>\n",
       "      <th>2</th>\n",
       "      <td>14186244</td>\n",
       "      <td>2.0</td>\n",
       "      <td>3.0</td>\n",
       "      <td>Single Family Residential</td>\n",
       "      <td>1243.0</td>\n",
       "      <td>6059.0</td>\n",
       "      <td>33886168.0</td>\n",
       "      <td>-117823170.0</td>\n",
       "      <td>8432.0</td>\n",
       "      <td>1962.0</td>\n",
       "      <td>85289.0</td>\n",
       "      <td>564778.0</td>\n",
       "      <td>479489.0</td>\n",
       "      <td>6488.30</td>\n",
       "      <td>0.005383</td>\n",
       "      <td>2017-01-01</td>\n",
       "    </tr>\n",
       "    <tr>\n",
       "      <th>3</th>\n",
       "      <td>12177905</td>\n",
       "      <td>3.0</td>\n",
       "      <td>4.0</td>\n",
       "      <td>Single Family Residential</td>\n",
       "      <td>2376.0</td>\n",
       "      <td>6037.0</td>\n",
       "      <td>34245180.0</td>\n",
       "      <td>-118240722.0</td>\n",
       "      <td>13038.0</td>\n",
       "      <td>1970.0</td>\n",
       "      <td>108918.0</td>\n",
       "      <td>145143.0</td>\n",
       "      <td>36225.0</td>\n",
       "      <td>1777.51</td>\n",
       "      <td>-0.103410</td>\n",
       "      <td>2017-01-01</td>\n",
       "    </tr>\n",
       "    <tr>\n",
       "      <th>4</th>\n",
       "      <td>12095076</td>\n",
       "      <td>3.0</td>\n",
       "      <td>4.0</td>\n",
       "      <td>Single Family Residential</td>\n",
       "      <td>2962.0</td>\n",
       "      <td>6037.0</td>\n",
       "      <td>34145202.0</td>\n",
       "      <td>-118179824.0</td>\n",
       "      <td>63000.0</td>\n",
       "      <td>1950.0</td>\n",
       "      <td>276684.0</td>\n",
       "      <td>773303.0</td>\n",
       "      <td>496619.0</td>\n",
       "      <td>9516.26</td>\n",
       "      <td>-0.001011</td>\n",
       "      <td>2017-01-01</td>\n",
       "    </tr>\n",
       "  </tbody>\n",
       "</table>\n",
       "</div>"
      ],
      "text/plain": [
       "   parcelid  bathroomcnt  bedroomcnt        propertylandusedesc  \\\n",
       "0  14297519          3.5         4.0  Single Family Residential   \n",
       "1  17052889          1.0         2.0  Single Family Residential   \n",
       "2  14186244          2.0         3.0  Single Family Residential   \n",
       "3  12177905          3.0         4.0  Single Family Residential   \n",
       "4  12095076          3.0         4.0  Single Family Residential   \n",
       "\n",
       "   calculatedfinishedsquarefeet    fips    latitude    longitude  \\\n",
       "0                        3100.0  6059.0  33634931.0 -117869207.0   \n",
       "1                        1465.0  6111.0  34449266.0 -119281531.0   \n",
       "2                        1243.0  6059.0  33886168.0 -117823170.0   \n",
       "3                        2376.0  6037.0  34245180.0 -118240722.0   \n",
       "4                        2962.0  6037.0  34145202.0 -118179824.0   \n",
       "\n",
       "   lotsizesquarefeet  yearbuilt  structuretaxvaluedollarcnt  \\\n",
       "0             4506.0     1998.0                    485713.0   \n",
       "1            12647.0     1967.0                     88000.0   \n",
       "2             8432.0     1962.0                     85289.0   \n",
       "3            13038.0     1970.0                    108918.0   \n",
       "4            63000.0     1950.0                    276684.0   \n",
       "\n",
       "   taxvaluedollarcnt  landtaxvaluedollarcnt  taxamount  logerror  \\\n",
       "0          1023282.0               537569.0   11013.72  0.025595   \n",
       "1           464000.0               376000.0    5672.48  0.055619   \n",
       "2           564778.0               479489.0    6488.30  0.005383   \n",
       "3           145143.0                36225.0    1777.51 -0.103410   \n",
       "4           773303.0               496619.0    9516.26 -0.001011   \n",
       "\n",
       "  transactiondate  \n",
       "0      2017-01-01  \n",
       "1      2017-01-01  \n",
       "2      2017-01-01  \n",
       "3      2017-01-01  \n",
       "4      2017-01-01  "
      ]
     },
     "execution_count": 4,
     "metadata": {},
     "output_type": "execute_result"
    }
   ],
   "source": [
    "# Assigning the dataframe to a variable and displaying of it to have a first look\n",
    "\n",
    "houses = get_zillow_data()\n",
    "houses.head()"
   ]
  },
  {
   "cell_type": "code",
   "execution_count": 5,
   "id": "6896df3e",
   "metadata": {},
   "outputs": [
    {
     "data": {
      "text/plain": [
       "(52442, 16)"
      ]
     },
     "execution_count": 5,
     "metadata": {},
     "output_type": "execute_result"
    }
   ],
   "source": [
    "# Displaying number of rows and columns\n",
    "\n",
    "houses.shape"
   ]
  },
  {
   "cell_type": "code",
   "execution_count": 6,
   "id": "45b443f6",
   "metadata": {},
   "outputs": [],
   "source": [
    "# Writing houses to csv on my computer\n",
    "\n",
    "houses.to_csv('houses.csv')"
   ]
  },
  {
   "cell_type": "code",
   "execution_count": 7,
   "id": "4a2ded87",
   "metadata": {
    "scrolled": false
   },
   "outputs": [
    {
     "name": "stdout",
     "output_type": "stream",
     "text": [
      "<class 'pandas.core.frame.DataFrame'>\n",
      "RangeIndex: 52442 entries, 0 to 52441\n",
      "Data columns (total 16 columns):\n",
      " #   Column                        Non-Null Count  Dtype  \n",
      "---  ------                        --------------  -----  \n",
      " 0   parcelid                      52442 non-null  int64  \n",
      " 1   bathroomcnt                   52442 non-null  float64\n",
      " 2   bedroomcnt                    52442 non-null  float64\n",
      " 3   propertylandusedesc           52442 non-null  object \n",
      " 4   calculatedfinishedsquarefeet  52360 non-null  float64\n",
      " 5   fips                          52442 non-null  float64\n",
      " 6   latitude                      52442 non-null  float64\n",
      " 7   longitude                     52442 non-null  float64\n",
      " 8   lotsizesquarefeet             52073 non-null  float64\n",
      " 9   yearbuilt                     52326 non-null  float64\n",
      " 10  structuretaxvaluedollarcnt    52358 non-null  float64\n",
      " 11  taxvaluedollarcnt             52441 non-null  float64\n",
      " 12  landtaxvaluedollarcnt         52441 non-null  float64\n",
      " 13  taxamount                     52438 non-null  float64\n",
      " 14  logerror                      52442 non-null  float64\n",
      " 15  transactiondate               52442 non-null  object \n",
      "dtypes: float64(13), int64(1), object(2)\n",
      "memory usage: 6.4+ MB\n"
     ]
    }
   ],
   "source": [
    "# Displaying some general information about the data\n",
    "\n",
    "houses.info()"
   ]
  },
  {
   "cell_type": "code",
   "execution_count": 8,
   "id": "050add6d",
   "metadata": {
    "scrolled": false
   },
   "outputs": [
    {
     "data": {
      "text/html": [
       "<div>\n",
       "<style scoped>\n",
       "    .dataframe tbody tr th:only-of-type {\n",
       "        vertical-align: middle;\n",
       "    }\n",
       "\n",
       "    .dataframe tbody tr th {\n",
       "        vertical-align: top;\n",
       "    }\n",
       "\n",
       "    .dataframe thead th {\n",
       "        text-align: right;\n",
       "    }\n",
       "</style>\n",
       "<table border=\"1\" class=\"dataframe\">\n",
       "  <thead>\n",
       "    <tr style=\"text-align: right;\">\n",
       "      <th></th>\n",
       "      <th>count</th>\n",
       "      <th>mean</th>\n",
       "      <th>std</th>\n",
       "      <th>min</th>\n",
       "      <th>25%</th>\n",
       "      <th>50%</th>\n",
       "      <th>75%</th>\n",
       "      <th>max</th>\n",
       "    </tr>\n",
       "  </thead>\n",
       "  <tbody>\n",
       "    <tr>\n",
       "      <th>parcelid</th>\n",
       "      <td>52442</td>\n",
       "      <td>12999117</td>\n",
       "      <td>3411411</td>\n",
       "      <td>10711855</td>\n",
       "      <td>11510295</td>\n",
       "      <td>12577655</td>\n",
       "      <td>14129510</td>\n",
       "      <td>167687839</td>\n",
       "    </tr>\n",
       "    <tr>\n",
       "      <th>bathroomcnt</th>\n",
       "      <td>52442</td>\n",
       "      <td>2</td>\n",
       "      <td>1</td>\n",
       "      <td>0</td>\n",
       "      <td>2</td>\n",
       "      <td>2</td>\n",
       "      <td>3</td>\n",
       "      <td>18</td>\n",
       "    </tr>\n",
       "    <tr>\n",
       "      <th>bedroomcnt</th>\n",
       "      <td>52442</td>\n",
       "      <td>3</td>\n",
       "      <td>0</td>\n",
       "      <td>0</td>\n",
       "      <td>3</td>\n",
       "      <td>3</td>\n",
       "      <td>4</td>\n",
       "      <td>14</td>\n",
       "    </tr>\n",
       "    <tr>\n",
       "      <th>calculatedfinishedsquarefeet</th>\n",
       "      <td>52360</td>\n",
       "      <td>1922</td>\n",
       "      <td>1004</td>\n",
       "      <td>128</td>\n",
       "      <td>1268</td>\n",
       "      <td>1659</td>\n",
       "      <td>2306</td>\n",
       "      <td>21929</td>\n",
       "    </tr>\n",
       "    <tr>\n",
       "      <th>fips</th>\n",
       "      <td>52442</td>\n",
       "      <td>6049</td>\n",
       "      <td>21</td>\n",
       "      <td>6037</td>\n",
       "      <td>6037</td>\n",
       "      <td>6037</td>\n",
       "      <td>6059</td>\n",
       "      <td>6111</td>\n",
       "    </tr>\n",
       "    <tr>\n",
       "      <th>latitude</th>\n",
       "      <td>52442</td>\n",
       "      <td>34022538</td>\n",
       "      <td>273976</td>\n",
       "      <td>33340620</td>\n",
       "      <td>33826909</td>\n",
       "      <td>34023771</td>\n",
       "      <td>34187149</td>\n",
       "      <td>34818767</td>\n",
       "    </tr>\n",
       "    <tr>\n",
       "      <th>longitude</th>\n",
       "      <td>52442</td>\n",
       "      <td>-118194184</td>\n",
       "      <td>356661</td>\n",
       "      <td>-119475416</td>\n",
       "      <td>-118400683</td>\n",
       "      <td>-118153075</td>\n",
       "      <td>-117929152</td>\n",
       "      <td>-117554636</td>\n",
       "    </tr>\n",
       "    <tr>\n",
       "      <th>lotsizesquarefeet</th>\n",
       "      <td>52073</td>\n",
       "      <td>11339</td>\n",
       "      <td>86746</td>\n",
       "      <td>236</td>\n",
       "      <td>5583</td>\n",
       "      <td>6840</td>\n",
       "      <td>8798</td>\n",
       "      <td>6971010</td>\n",
       "    </tr>\n",
       "    <tr>\n",
       "      <th>yearbuilt</th>\n",
       "      <td>52326</td>\n",
       "      <td>1963</td>\n",
       "      <td>23</td>\n",
       "      <td>1878</td>\n",
       "      <td>1950</td>\n",
       "      <td>1961</td>\n",
       "      <td>1979</td>\n",
       "      <td>2016</td>\n",
       "    </tr>\n",
       "    <tr>\n",
       "      <th>structuretaxvaluedollarcnt</th>\n",
       "      <td>52358</td>\n",
       "      <td>196531</td>\n",
       "      <td>254338</td>\n",
       "      <td>129</td>\n",
       "      <td>77071</td>\n",
       "      <td>131807</td>\n",
       "      <td>226319</td>\n",
       "      <td>9164901</td>\n",
       "    </tr>\n",
       "    <tr>\n",
       "      <th>taxvaluedollarcnt</th>\n",
       "      <td>52441</td>\n",
       "      <td>529683</td>\n",
       "      <td>751888</td>\n",
       "      <td>1000</td>\n",
       "      <td>193750</td>\n",
       "      <td>373612</td>\n",
       "      <td>619301</td>\n",
       "      <td>49061236</td>\n",
       "    </tr>\n",
       "    <tr>\n",
       "      <th>landtaxvaluedollarcnt</th>\n",
       "      <td>52441</td>\n",
       "      <td>333462</td>\n",
       "      <td>570522</td>\n",
       "      <td>161</td>\n",
       "      <td>76026</td>\n",
       "      <td>218025</td>\n",
       "      <td>408600</td>\n",
       "      <td>48952198</td>\n",
       "    </tr>\n",
       "    <tr>\n",
       "      <th>taxamount</th>\n",
       "      <td>52438</td>\n",
       "      <td>6453</td>\n",
       "      <td>8755</td>\n",
       "      <td>49</td>\n",
       "      <td>2656</td>\n",
       "      <td>4647</td>\n",
       "      <td>7377</td>\n",
       "      <td>586639</td>\n",
       "    </tr>\n",
       "    <tr>\n",
       "      <th>logerror</th>\n",
       "      <td>52442</td>\n",
       "      <td>0</td>\n",
       "      <td>0</td>\n",
       "      <td>-4</td>\n",
       "      <td>0</td>\n",
       "      <td>0</td>\n",
       "      <td>0</td>\n",
       "      <td>5</td>\n",
       "    </tr>\n",
       "  </tbody>\n",
       "</table>\n",
       "</div>"
      ],
      "text/plain": [
       "                              count       mean      std        min        25%  \\\n",
       "parcelid                      52442   12999117  3411411   10711855   11510295   \n",
       "bathroomcnt                   52442          2        1          0          2   \n",
       "bedroomcnt                    52442          3        0          0          3   \n",
       "calculatedfinishedsquarefeet  52360       1922     1004        128       1268   \n",
       "fips                          52442       6049       21       6037       6037   \n",
       "latitude                      52442   34022538   273976   33340620   33826909   \n",
       "longitude                     52442 -118194184   356661 -119475416 -118400683   \n",
       "lotsizesquarefeet             52073      11339    86746        236       5583   \n",
       "yearbuilt                     52326       1963       23       1878       1950   \n",
       "structuretaxvaluedollarcnt    52358     196531   254338        129      77071   \n",
       "taxvaluedollarcnt             52441     529683   751888       1000     193750   \n",
       "landtaxvaluedollarcnt         52441     333462   570522        161      76026   \n",
       "taxamount                     52438       6453     8755         49       2656   \n",
       "logerror                      52442          0        0         -4          0   \n",
       "\n",
       "                                    50%        75%        max  \n",
       "parcelid                       12577655   14129510  167687839  \n",
       "bathroomcnt                           2          3         18  \n",
       "bedroomcnt                            3          4         14  \n",
       "calculatedfinishedsquarefeet       1659       2306      21929  \n",
       "fips                               6037       6059       6111  \n",
       "latitude                       34023771   34187149   34818767  \n",
       "longitude                    -118153075 -117929152 -117554636  \n",
       "lotsizesquarefeet                  6840       8798    6971010  \n",
       "yearbuilt                          1961       1979       2016  \n",
       "structuretaxvaluedollarcnt       131807     226319    9164901  \n",
       "taxvaluedollarcnt                373612     619301   49061236  \n",
       "landtaxvaluedollarcnt            218025     408600   48952198  \n",
       "taxamount                          4647       7377     586639  \n",
       "logerror                              0          0          5  "
      ]
     },
     "execution_count": 8,
     "metadata": {},
     "output_type": "execute_result"
    }
   ],
   "source": [
    "# Displaying statistical analysis of the data through.descibe()\n",
    "# with astype('int64') to cut through all the noise of the float data\n",
    "# displayed when using only 'houses.describe().T'\n",
    "\n",
    "houses.describe().T.astype('int64')"
   ]
  },
  {
   "cell_type": "markdown",
   "id": "b0e7cabc",
   "metadata": {},
   "source": [
    "**<font color = 'blue'>Observations</font>**\n",
    "\n",
    "><font color = 'blue'>There are still some null values</font>\n",
    "\n",
    "><font color = 'blue'>The counties are designated by their respective numbers and need to be renamed</font>\n",
    "\n",
    "><font color = 'blue'>Many columns need to be renamed for better readability</font>\n",
    "\n",
    "><font color = 'blue'>Having the age of the house would help instead of the year built for better grouping</font>\n",
    "\n",
    "**<font color = 'blue'>Actions</font>**\n",
    "\n",
    "><font color = 'blue'>Check for duplicates and if there are some remove them</font>\n",
    "\n",
    "><font color = 'blue'>Drop nulls</font>\n",
    "\n",
    "><font color = 'blue'>Determine a threshhold to drop null value-ridden columns and drop them</font>\n",
    "\n",
    "><font color = 'blue'>Detect and remove outliers if necessary unless going for MVP then wait to get MVP</font>\n",
    "\n",
    "><font color = 'blue'>Create a county column with boolean and names for exploration and scaling</font>\n",
    "\n",
    "><font color = 'blue'>Create a column for the houses' age</font>\n",
    "\n",
    "><font color = 'blue'>Rename difficult to read columns</font>"
   ]
  },
  {
   "cell_type": "markdown",
   "id": "41e77f8a",
   "metadata": {},
   "source": [
    "# Prepare"
   ]
  },
  {
   "cell_type": "code",
   "execution_count": 9,
   "id": "96190c00",
   "metadata": {
    "scrolled": true
   },
   "outputs": [
    {
     "data": {
      "text/plain": [
       "(52442, 16)"
      ]
     },
     "execution_count": 9,
     "metadata": {},
     "output_type": "execute_result"
    }
   ],
   "source": [
    "# Dropping duplicates in rows if there are any and displaying the new count of columns and rows\n",
    "houses.drop_duplicates(keep='first')\n",
    "\n",
    "houses.shape"
   ]
  },
  {
   "cell_type": "markdown",
   "id": "da1a64a3",
   "metadata": {},
   "source": [
    "><font color = 'blue'>**There are no duplicates in the data**</font>"
   ]
  },
  {
   "cell_type": "code",
   "execution_count": 10,
   "id": "fb3b6033",
   "metadata": {},
   "outputs": [],
   "source": [
    "# Using a function that provides number of nulls and their percent in the data\n",
    "\n",
    "def multi_frequency(df,vars):\n",
    "    '''multi_frequency takes a dataframe in *arg and a *kwarg in the form of a list of columns\n",
    "    and return a dataframe with the count and the frequency of the data\n",
    "    '''\n",
    "    frequency=df[vars].isnull().sum()\n",
    "    percentage=df[vars].isnull().sum()*100/(len(df))\n",
    "    df=pd.concat([frequency,percentage], axis=1, keys=['num_rows_missing', 'pct_rows_missing'])\n",
    "    return df"
   ]
  },
  {
   "cell_type": "code",
   "execution_count": 11,
   "id": "5d3399fb",
   "metadata": {},
   "outputs": [
    {
     "data": {
      "text/html": [
       "<div>\n",
       "<style scoped>\n",
       "    .dataframe tbody tr th:only-of-type {\n",
       "        vertical-align: middle;\n",
       "    }\n",
       "\n",
       "    .dataframe tbody tr th {\n",
       "        vertical-align: top;\n",
       "    }\n",
       "\n",
       "    .dataframe thead th {\n",
       "        text-align: right;\n",
       "    }\n",
       "</style>\n",
       "<table border=\"1\" class=\"dataframe\">\n",
       "  <thead>\n",
       "    <tr style=\"text-align: right;\">\n",
       "      <th></th>\n",
       "      <th>num_rows_missing</th>\n",
       "      <th>pct_rows_missing</th>\n",
       "    </tr>\n",
       "  </thead>\n",
       "  <tbody>\n",
       "    <tr>\n",
       "      <th>lotsizesquarefeet</th>\n",
       "      <td>369</td>\n",
       "      <td>0.703634</td>\n",
       "    </tr>\n",
       "    <tr>\n",
       "      <th>yearbuilt</th>\n",
       "      <td>116</td>\n",
       "      <td>0.221197</td>\n",
       "    </tr>\n",
       "    <tr>\n",
       "      <th>structuretaxvaluedollarcnt</th>\n",
       "      <td>84</td>\n",
       "      <td>0.160177</td>\n",
       "    </tr>\n",
       "    <tr>\n",
       "      <th>calculatedfinishedsquarefeet</th>\n",
       "      <td>82</td>\n",
       "      <td>0.156363</td>\n",
       "    </tr>\n",
       "    <tr>\n",
       "      <th>taxamount</th>\n",
       "      <td>4</td>\n",
       "      <td>0.007627</td>\n",
       "    </tr>\n",
       "    <tr>\n",
       "      <th>taxvaluedollarcnt</th>\n",
       "      <td>1</td>\n",
       "      <td>0.001907</td>\n",
       "    </tr>\n",
       "    <tr>\n",
       "      <th>landtaxvaluedollarcnt</th>\n",
       "      <td>1</td>\n",
       "      <td>0.001907</td>\n",
       "    </tr>\n",
       "    <tr>\n",
       "      <th>parcelid</th>\n",
       "      <td>0</td>\n",
       "      <td>0.000000</td>\n",
       "    </tr>\n",
       "    <tr>\n",
       "      <th>bathroomcnt</th>\n",
       "      <td>0</td>\n",
       "      <td>0.000000</td>\n",
       "    </tr>\n",
       "    <tr>\n",
       "      <th>bedroomcnt</th>\n",
       "      <td>0</td>\n",
       "      <td>0.000000</td>\n",
       "    </tr>\n",
       "    <tr>\n",
       "      <th>propertylandusedesc</th>\n",
       "      <td>0</td>\n",
       "      <td>0.000000</td>\n",
       "    </tr>\n",
       "    <tr>\n",
       "      <th>fips</th>\n",
       "      <td>0</td>\n",
       "      <td>0.000000</td>\n",
       "    </tr>\n",
       "    <tr>\n",
       "      <th>latitude</th>\n",
       "      <td>0</td>\n",
       "      <td>0.000000</td>\n",
       "    </tr>\n",
       "    <tr>\n",
       "      <th>longitude</th>\n",
       "      <td>0</td>\n",
       "      <td>0.000000</td>\n",
       "    </tr>\n",
       "    <tr>\n",
       "      <th>logerror</th>\n",
       "      <td>0</td>\n",
       "      <td>0.000000</td>\n",
       "    </tr>\n",
       "    <tr>\n",
       "      <th>transactiondate</th>\n",
       "      <td>0</td>\n",
       "      <td>0.000000</td>\n",
       "    </tr>\n",
       "  </tbody>\n",
       "</table>\n",
       "</div>"
      ],
      "text/plain": [
       "                              num_rows_missing  pct_rows_missing\n",
       "lotsizesquarefeet                          369          0.703634\n",
       "yearbuilt                                  116          0.221197\n",
       "structuretaxvaluedollarcnt                  84          0.160177\n",
       "calculatedfinishedsquarefeet                82          0.156363\n",
       "taxamount                                    4          0.007627\n",
       "taxvaluedollarcnt                            1          0.001907\n",
       "landtaxvaluedollarcnt                        1          0.001907\n",
       "parcelid                                     0          0.000000\n",
       "bathroomcnt                                  0          0.000000\n",
       "bedroomcnt                                   0          0.000000\n",
       "propertylandusedesc                          0          0.000000\n",
       "fips                                         0          0.000000\n",
       "latitude                                     0          0.000000\n",
       "longitude                                    0          0.000000\n",
       "logerror                                     0          0.000000\n",
       "transactiondate                              0          0.000000"
      ]
     },
     "execution_count": 11,
     "metadata": {},
     "output_type": "execute_result"
    }
   ],
   "source": [
    "# Displaying the distribution of nulls in a dataframe\n",
    "\n",
    "multi_frequency(houses, houses.columns).sort_values(by='pct_rows_missing', ascending=False)"
   ]
  },
  {
   "cell_type": "markdown",
   "id": "4300b48e",
   "metadata": {},
   "source": [
    "**<font color = 'blue'>Conclusions</font>**\n",
    "\n",
    ">**lotsizesquarefeet, yearbuilt, structuretaxvaluedollarcnt, and calculatedfinishedsquarefeet have the most nulls, I will use KNNImputer to handle them**\n",
    "\n",
    ">**I will drop the null rows in taxamount, taxvaluedollarcnt, and landtaxvaluedollarcnt because there are very few of them**\n",
    "\n",
    ">**<font color = 'brown'>I will impute at KNN=1 and KNN =2. If I have time I will run the explore, split, scale and model on data from imputing KNN=2</font>**"
   ]
  },
  {
   "cell_type": "markdown",
   "id": "c70eac5b",
   "metadata": {},
   "source": [
    "##### KNN = 1"
   ]
  },
  {
   "cell_type": "code",
   "execution_count": 181,
   "id": "5a6119b5",
   "metadata": {},
   "outputs": [],
   "source": [
    "# Handling missing values\n",
    "\n",
    "def handle_missing_values(df):\n",
    "    imputer = KNNImputer(n_neighbors=1)\n",
    "    imputer.fit_transform(houses[['lotsizesquarefeet',\n",
    "                                  'yearbuilt',\n",
    "                                  'structuretaxvaluedollarcnt',\n",
    "                                  'calculatedfinishedsquarefeet']])\n",
    "    df = df.dropna()\n",
    "    return df"
   ]
  },
  {
   "cell_type": "code",
   "execution_count": 182,
   "id": "1f9b26f9",
   "metadata": {
    "scrolled": false
   },
   "outputs": [],
   "source": [
    "houses_knn1 = handle_missing_values(houses)"
   ]
  },
  {
   "cell_type": "code",
   "execution_count": 183,
   "id": "3a47d871",
   "metadata": {},
   "outputs": [
    {
     "data": {
      "text/html": [
       "<div>\n",
       "<style scoped>\n",
       "    .dataframe tbody tr th:only-of-type {\n",
       "        vertical-align: middle;\n",
       "    }\n",
       "\n",
       "    .dataframe tbody tr th {\n",
       "        vertical-align: top;\n",
       "    }\n",
       "\n",
       "    .dataframe thead th {\n",
       "        text-align: right;\n",
       "    }\n",
       "</style>\n",
       "<table border=\"1\" class=\"dataframe\">\n",
       "  <thead>\n",
       "    <tr style=\"text-align: right;\">\n",
       "      <th></th>\n",
       "      <th>num_rows_missing</th>\n",
       "      <th>pct_rows_missing</th>\n",
       "    </tr>\n",
       "  </thead>\n",
       "  <tbody>\n",
       "    <tr>\n",
       "      <th>parcelid</th>\n",
       "      <td>0</td>\n",
       "      <td>0.0</td>\n",
       "    </tr>\n",
       "    <tr>\n",
       "      <th>bathroomcnt</th>\n",
       "      <td>0</td>\n",
       "      <td>0.0</td>\n",
       "    </tr>\n",
       "    <tr>\n",
       "      <th>bedroomcnt</th>\n",
       "      <td>0</td>\n",
       "      <td>0.0</td>\n",
       "    </tr>\n",
       "    <tr>\n",
       "      <th>propertylandusedesc</th>\n",
       "      <td>0</td>\n",
       "      <td>0.0</td>\n",
       "    </tr>\n",
       "    <tr>\n",
       "      <th>calculatedfinishedsquarefeet</th>\n",
       "      <td>0</td>\n",
       "      <td>0.0</td>\n",
       "    </tr>\n",
       "    <tr>\n",
       "      <th>fips</th>\n",
       "      <td>0</td>\n",
       "      <td>0.0</td>\n",
       "    </tr>\n",
       "    <tr>\n",
       "      <th>latitude</th>\n",
       "      <td>0</td>\n",
       "      <td>0.0</td>\n",
       "    </tr>\n",
       "    <tr>\n",
       "      <th>longitude</th>\n",
       "      <td>0</td>\n",
       "      <td>0.0</td>\n",
       "    </tr>\n",
       "    <tr>\n",
       "      <th>lotsizesquarefeet</th>\n",
       "      <td>0</td>\n",
       "      <td>0.0</td>\n",
       "    </tr>\n",
       "    <tr>\n",
       "      <th>yearbuilt</th>\n",
       "      <td>0</td>\n",
       "      <td>0.0</td>\n",
       "    </tr>\n",
       "    <tr>\n",
       "      <th>structuretaxvaluedollarcnt</th>\n",
       "      <td>0</td>\n",
       "      <td>0.0</td>\n",
       "    </tr>\n",
       "    <tr>\n",
       "      <th>taxvaluedollarcnt</th>\n",
       "      <td>0</td>\n",
       "      <td>0.0</td>\n",
       "    </tr>\n",
       "    <tr>\n",
       "      <th>landtaxvaluedollarcnt</th>\n",
       "      <td>0</td>\n",
       "      <td>0.0</td>\n",
       "    </tr>\n",
       "    <tr>\n",
       "      <th>taxamount</th>\n",
       "      <td>0</td>\n",
       "      <td>0.0</td>\n",
       "    </tr>\n",
       "    <tr>\n",
       "      <th>logerror</th>\n",
       "      <td>0</td>\n",
       "      <td>0.0</td>\n",
       "    </tr>\n",
       "    <tr>\n",
       "      <th>transactiondate</th>\n",
       "      <td>0</td>\n",
       "      <td>0.0</td>\n",
       "    </tr>\n",
       "  </tbody>\n",
       "</table>\n",
       "</div>"
      ],
      "text/plain": [
       "                              num_rows_missing  pct_rows_missing\n",
       "parcelid                                     0               0.0\n",
       "bathroomcnt                                  0               0.0\n",
       "bedroomcnt                                   0               0.0\n",
       "propertylandusedesc                          0               0.0\n",
       "calculatedfinishedsquarefeet                 0               0.0\n",
       "fips                                         0               0.0\n",
       "latitude                                     0               0.0\n",
       "longitude                                    0               0.0\n",
       "lotsizesquarefeet                            0               0.0\n",
       "yearbuilt                                    0               0.0\n",
       "structuretaxvaluedollarcnt                   0               0.0\n",
       "taxvaluedollarcnt                            0               0.0\n",
       "landtaxvaluedollarcnt                        0               0.0\n",
       "taxamount                                    0               0.0\n",
       "logerror                                     0               0.0\n",
       "transactiondate                              0               0.0"
      ]
     },
     "execution_count": 183,
     "metadata": {},
     "output_type": "execute_result"
    }
   ],
   "source": [
    "multi_frequency(houses_knn1, houses_knn1.columns).sort_values(by='pct_rows_missing', ascending=False)"
   ]
  },
  {
   "cell_type": "code",
   "execution_count": 184,
   "id": "5c1bc7b8",
   "metadata": {},
   "outputs": [
    {
     "data": {
      "text/plain": [
       "(51897, 16)"
      ]
     },
     "execution_count": 184,
     "metadata": {},
     "output_type": "execute_result"
    }
   ],
   "source": [
    "houses_knn1.shape"
   ]
  },
  {
   "cell_type": "markdown",
   "id": "6c098488",
   "metadata": {},
   "source": [
    "##### KNN = 2"
   ]
  },
  {
   "cell_type": "code",
   "execution_count": 185,
   "id": "7d45eed3",
   "metadata": {},
   "outputs": [],
   "source": [
    "def handle_missing_values2(df):\n",
    "    imputer = KNNImputer(n_neighbors=2)\n",
    "    imputer.fit_transform(houses[['lotsizesquarefeet',\n",
    "                                  'yearbuilt',\n",
    "                                  'structuretaxvaluedollarcnt',\n",
    "                                  'calculatedfinishedsquarefeet']])\n",
    "    df = df.dropna()\n",
    "    return df"
   ]
  },
  {
   "cell_type": "code",
   "execution_count": 186,
   "id": "090c20de",
   "metadata": {},
   "outputs": [],
   "source": [
    "houses_knn2 = handle_missing_values(houses)"
   ]
  },
  {
   "cell_type": "code",
   "execution_count": 187,
   "id": "66628be7",
   "metadata": {},
   "outputs": [
    {
     "data": {
      "text/html": [
       "<div>\n",
       "<style scoped>\n",
       "    .dataframe tbody tr th:only-of-type {\n",
       "        vertical-align: middle;\n",
       "    }\n",
       "\n",
       "    .dataframe tbody tr th {\n",
       "        vertical-align: top;\n",
       "    }\n",
       "\n",
       "    .dataframe thead th {\n",
       "        text-align: right;\n",
       "    }\n",
       "</style>\n",
       "<table border=\"1\" class=\"dataframe\">\n",
       "  <thead>\n",
       "    <tr style=\"text-align: right;\">\n",
       "      <th></th>\n",
       "      <th>num_rows_missing</th>\n",
       "      <th>pct_rows_missing</th>\n",
       "    </tr>\n",
       "  </thead>\n",
       "  <tbody>\n",
       "    <tr>\n",
       "      <th>parcelid</th>\n",
       "      <td>0</td>\n",
       "      <td>0.0</td>\n",
       "    </tr>\n",
       "    <tr>\n",
       "      <th>bathroomcnt</th>\n",
       "      <td>0</td>\n",
       "      <td>0.0</td>\n",
       "    </tr>\n",
       "    <tr>\n",
       "      <th>bedroomcnt</th>\n",
       "      <td>0</td>\n",
       "      <td>0.0</td>\n",
       "    </tr>\n",
       "    <tr>\n",
       "      <th>propertylandusedesc</th>\n",
       "      <td>0</td>\n",
       "      <td>0.0</td>\n",
       "    </tr>\n",
       "    <tr>\n",
       "      <th>calculatedfinishedsquarefeet</th>\n",
       "      <td>0</td>\n",
       "      <td>0.0</td>\n",
       "    </tr>\n",
       "    <tr>\n",
       "      <th>fips</th>\n",
       "      <td>0</td>\n",
       "      <td>0.0</td>\n",
       "    </tr>\n",
       "    <tr>\n",
       "      <th>latitude</th>\n",
       "      <td>0</td>\n",
       "      <td>0.0</td>\n",
       "    </tr>\n",
       "    <tr>\n",
       "      <th>longitude</th>\n",
       "      <td>0</td>\n",
       "      <td>0.0</td>\n",
       "    </tr>\n",
       "    <tr>\n",
       "      <th>lotsizesquarefeet</th>\n",
       "      <td>0</td>\n",
       "      <td>0.0</td>\n",
       "    </tr>\n",
       "    <tr>\n",
       "      <th>yearbuilt</th>\n",
       "      <td>0</td>\n",
       "      <td>0.0</td>\n",
       "    </tr>\n",
       "    <tr>\n",
       "      <th>structuretaxvaluedollarcnt</th>\n",
       "      <td>0</td>\n",
       "      <td>0.0</td>\n",
       "    </tr>\n",
       "    <tr>\n",
       "      <th>taxvaluedollarcnt</th>\n",
       "      <td>0</td>\n",
       "      <td>0.0</td>\n",
       "    </tr>\n",
       "    <tr>\n",
       "      <th>landtaxvaluedollarcnt</th>\n",
       "      <td>0</td>\n",
       "      <td>0.0</td>\n",
       "    </tr>\n",
       "    <tr>\n",
       "      <th>taxamount</th>\n",
       "      <td>0</td>\n",
       "      <td>0.0</td>\n",
       "    </tr>\n",
       "    <tr>\n",
       "      <th>logerror</th>\n",
       "      <td>0</td>\n",
       "      <td>0.0</td>\n",
       "    </tr>\n",
       "    <tr>\n",
       "      <th>transactiondate</th>\n",
       "      <td>0</td>\n",
       "      <td>0.0</td>\n",
       "    </tr>\n",
       "  </tbody>\n",
       "</table>\n",
       "</div>"
      ],
      "text/plain": [
       "                              num_rows_missing  pct_rows_missing\n",
       "parcelid                                     0               0.0\n",
       "bathroomcnt                                  0               0.0\n",
       "bedroomcnt                                   0               0.0\n",
       "propertylandusedesc                          0               0.0\n",
       "calculatedfinishedsquarefeet                 0               0.0\n",
       "fips                                         0               0.0\n",
       "latitude                                     0               0.0\n",
       "longitude                                    0               0.0\n",
       "lotsizesquarefeet                            0               0.0\n",
       "yearbuilt                                    0               0.0\n",
       "structuretaxvaluedollarcnt                   0               0.0\n",
       "taxvaluedollarcnt                            0               0.0\n",
       "landtaxvaluedollarcnt                        0               0.0\n",
       "taxamount                                    0               0.0\n",
       "logerror                                     0               0.0\n",
       "transactiondate                              0               0.0"
      ]
     },
     "execution_count": 187,
     "metadata": {},
     "output_type": "execute_result"
    }
   ],
   "source": [
    "multi_frequency(houses_knn2, houses_knn2.columns).sort_values(by='pct_rows_missing', ascending=False)"
   ]
  },
  {
   "cell_type": "markdown",
   "id": "dc6d73d0",
   "metadata": {},
   "source": [
    "##### I will continue my work with KNN = 1"
   ]
  },
  {
   "cell_type": "code",
   "execution_count": 188,
   "id": "6019d89f",
   "metadata": {
    "scrolled": true
   },
   "outputs": [
    {
     "data": {
      "text/plain": [
       "['parcelid',\n",
       " 'bathroomcnt',\n",
       " 'bedroomcnt',\n",
       " 'propertylandusedesc',\n",
       " 'calculatedfinishedsquarefeet',\n",
       " 'fips',\n",
       " 'latitude',\n",
       " 'longitude',\n",
       " 'lotsizesquarefeet',\n",
       " 'yearbuilt',\n",
       " 'structuretaxvaluedollarcnt',\n",
       " 'taxvaluedollarcnt',\n",
       " 'landtaxvaluedollarcnt',\n",
       " 'taxamount',\n",
       " 'logerror',\n",
       " 'transactiondate']"
      ]
     },
     "execution_count": 188,
     "metadata": {},
     "output_type": "execute_result"
    }
   ],
   "source": [
    "houses_knn1.columns.tolist()"
   ]
  },
  {
   "cell_type": "code",
   "execution_count": 189,
   "id": "32eac23f",
   "metadata": {},
   "outputs": [],
   "source": [
    "def prepare_zillow(df):\n",
    "    '''\n",
    "    Takes in the df and changes county numbers\n",
    "    to a boolean column,  indicating county names \n",
    "    for properties and another one the age\n",
    "    '''\n",
    "# Creating df with counties as booleans\n",
    "    counties = pd.get_dummies(df.fips)\n",
    "    counties.columns = ['Los_Angeles', 'Orange', 'Ventura']\n",
    "    df = pd.concat([df, counties], axis = 1)\n",
    "# Dropping the propertylandusedesc column\n",
    "    df.drop(columns=['propertylandusedesc'], inplace=True)\n",
    "    df.drop(columns=['transactiondate'], inplace=True)\n",
    "    df.drop(columns=['fips'], inplace=True)\n",
    "    df.drop(columns=['parcelid'], inplace=True)\n",
    "# Calculating age of home\n",
    "# (will be useful when scaling but also maybe clustering as a 'new' feature)\n",
    "    df['age'] = 2017 - df.yearbuilt\n",
    "    df.drop(columns=['yearbuilt'], inplace=True)\n",
    "# Renaming columns\n",
    "    cols_to_rename = {\n",
    "    'calculatedfinishedsquarefeet': 'habitable_sqft',\n",
    "    'taxvaluedollarcnt': 'parcel_tax_value',\n",
    "    'bedroomcnt': 'bedrooms',\n",
    "    'bathroomcnt': 'bathrooms',\n",
    "    'taxamount': 'tax_amount',\n",
    "    'lotsizesquarefeet': 'lot_sqft',\n",
    "    'structuretaxvaluedollarcnt': 'building_tax_value',\n",
    "    'landtaxvaluedollarcnt': 'land_tax_value',\n",
    "}\n",
    "    df = df.rename(columns=cols_to_rename)\n",
    "    return df\n",
    "\n",
    "# I missed one column so I will rename it in another cell"
   ]
  },
  {
   "cell_type": "code",
   "execution_count": 219,
   "id": "3411f170",
   "metadata": {},
   "outputs": [],
   "source": [
    "# Assigning the renamed dataframe to a new one\n",
    "\n",
    "houses_renamed=prepare_zillow(houses_knn1)"
   ]
  },
  {
   "cell_type": "code",
   "execution_count": 220,
   "id": "2376cb6f",
   "metadata": {},
   "outputs": [
    {
     "data": {
      "text/plain": [
       "(51897, 15)"
      ]
     },
     "execution_count": 220,
     "metadata": {},
     "output_type": "execute_result"
    }
   ],
   "source": [
    "houses_renamed.shape"
   ]
  },
  {
   "cell_type": "code",
   "execution_count": 221,
   "id": "f22d24e1",
   "metadata": {},
   "outputs": [
    {
     "data": {
      "text/plain": [
       "['bathrooms',\n",
       " 'bedrooms',\n",
       " 'habitable_sqft',\n",
       " 'latitude',\n",
       " 'longitude',\n",
       " 'lot_sqft',\n",
       " 'building_tax_value',\n",
       " 'parcel_tax_value',\n",
       " 'land_tax_value',\n",
       " 'tax_amount',\n",
       " 'logerror',\n",
       " 'Los_Angeles',\n",
       " 'Orange',\n",
       " 'Ventura',\n",
       " 'age']"
      ]
     },
     "execution_count": 221,
     "metadata": {},
     "output_type": "execute_result"
    }
   ],
   "source": [
    "houses_renamed.columns.tolist()"
   ]
  },
  {
   "cell_type": "code",
   "execution_count": 222,
   "id": "3c4de7c8",
   "metadata": {},
   "outputs": [],
   "source": [
    "def tax_rate(df):\n",
    "    '''    \n",
    "    tax_rate takes in a dataframe and creates a new column\n",
    "    tax_rate from tax_amount and parcel_tax_value, drops the tax_amount column\n",
    "    and returns a dataframe\n",
    "    '''\n",
    "    \n",
    "    df['tax_rate'] = df.tax_amount / df.parcel_tax_value\n",
    "    df.drop(['tax_amount'], axis=1, inplace=True)\n",
    "    return df"
   ]
  },
  {
   "cell_type": "code",
   "execution_count": 223,
   "id": "05735c77",
   "metadata": {},
   "outputs": [],
   "source": [
    "def value_per_sqft(df):\n",
    "    '''    \n",
    "    value_per_sqft takes in a dataframe and creates a new column\n",
    "    value_per_sqft from lot_sqft and parcel_tax_value, drops the tax_amount column\n",
    "    and returns a dataframe\n",
    "    '''\n",
    "    \n",
    "    df['value_per_sqft'] = df.parcel_tax_value / df.lot_sqft\n",
    "    return df"
   ]
  },
  {
   "cell_type": "code",
   "execution_count": 203,
   "id": "c30f5099",
   "metadata": {},
   "outputs": [],
   "source": [
    "# def location(df):\n",
    "#     \"\"\"\n",
    "#     Create a new taxrate column and drop the taxamount column, as it no longer adds value.\n",
    "#     \"\"\"\n",
    "    \n",
    "#     df['location'] = list(zip(df['longitude'], df['latitude']))\n",
    "#     df.drop(['longitude', 'latitude'], axis=1, inplace=True)\n",
    "#     return df"
   ]
  },
  {
   "cell_type": "code",
   "execution_count": 224,
   "id": "2ec50e01",
   "metadata": {},
   "outputs": [
    {
     "data": {
      "text/plain": [
       "['bathrooms',\n",
       " 'bedrooms',\n",
       " 'habitable_sqft',\n",
       " 'latitude',\n",
       " 'longitude',\n",
       " 'lot_sqft',\n",
       " 'building_tax_value',\n",
       " 'parcel_tax_value',\n",
       " 'land_tax_value',\n",
       " 'tax_amount',\n",
       " 'logerror',\n",
       " 'Los_Angeles',\n",
       " 'Orange',\n",
       " 'Ventura',\n",
       " 'age']"
      ]
     },
     "execution_count": 224,
     "metadata": {},
     "output_type": "execute_result"
    }
   ],
   "source": [
    "houses_renamed.columns.tolist()"
   ]
  },
  {
   "cell_type": "code",
   "execution_count": 225,
   "id": "2d912412",
   "metadata": {},
   "outputs": [
    {
     "data": {
      "text/html": [
       "<div>\n",
       "<style scoped>\n",
       "    .dataframe tbody tr th:only-of-type {\n",
       "        vertical-align: middle;\n",
       "    }\n",
       "\n",
       "    .dataframe tbody tr th {\n",
       "        vertical-align: top;\n",
       "    }\n",
       "\n",
       "    .dataframe thead th {\n",
       "        text-align: right;\n",
       "    }\n",
       "</style>\n",
       "<table border=\"1\" class=\"dataframe\">\n",
       "  <thead>\n",
       "    <tr style=\"text-align: right;\">\n",
       "      <th></th>\n",
       "      <th>bathrooms</th>\n",
       "      <th>bedrooms</th>\n",
       "      <th>habitable_sqft</th>\n",
       "      <th>latitude</th>\n",
       "      <th>longitude</th>\n",
       "      <th>lot_sqft</th>\n",
       "      <th>building_tax_value</th>\n",
       "      <th>parcel_tax_value</th>\n",
       "      <th>land_tax_value</th>\n",
       "      <th>logerror</th>\n",
       "      <th>Los_Angeles</th>\n",
       "      <th>Orange</th>\n",
       "      <th>Ventura</th>\n",
       "      <th>age</th>\n",
       "      <th>tax_rate</th>\n",
       "    </tr>\n",
       "  </thead>\n",
       "  <tbody>\n",
       "    <tr>\n",
       "      <th>0</th>\n",
       "      <td>3.5</td>\n",
       "      <td>4.0</td>\n",
       "      <td>3100.0</td>\n",
       "      <td>33634931.0</td>\n",
       "      <td>-117869207.0</td>\n",
       "      <td>4506.0</td>\n",
       "      <td>485713.0</td>\n",
       "      <td>1023282.0</td>\n",
       "      <td>537569.0</td>\n",
       "      <td>0.025595</td>\n",
       "      <td>0</td>\n",
       "      <td>1</td>\n",
       "      <td>0</td>\n",
       "      <td>19.0</td>\n",
       "      <td>0.010763</td>\n",
       "    </tr>\n",
       "    <tr>\n",
       "      <th>1</th>\n",
       "      <td>1.0</td>\n",
       "      <td>2.0</td>\n",
       "      <td>1465.0</td>\n",
       "      <td>34449266.0</td>\n",
       "      <td>-119281531.0</td>\n",
       "      <td>12647.0</td>\n",
       "      <td>88000.0</td>\n",
       "      <td>464000.0</td>\n",
       "      <td>376000.0</td>\n",
       "      <td>0.055619</td>\n",
       "      <td>0</td>\n",
       "      <td>0</td>\n",
       "      <td>1</td>\n",
       "      <td>50.0</td>\n",
       "      <td>0.012225</td>\n",
       "    </tr>\n",
       "    <tr>\n",
       "      <th>2</th>\n",
       "      <td>2.0</td>\n",
       "      <td>3.0</td>\n",
       "      <td>1243.0</td>\n",
       "      <td>33886168.0</td>\n",
       "      <td>-117823170.0</td>\n",
       "      <td>8432.0</td>\n",
       "      <td>85289.0</td>\n",
       "      <td>564778.0</td>\n",
       "      <td>479489.0</td>\n",
       "      <td>0.005383</td>\n",
       "      <td>0</td>\n",
       "      <td>1</td>\n",
       "      <td>0</td>\n",
       "      <td>55.0</td>\n",
       "      <td>0.011488</td>\n",
       "    </tr>\n",
       "    <tr>\n",
       "      <th>3</th>\n",
       "      <td>3.0</td>\n",
       "      <td>4.0</td>\n",
       "      <td>2376.0</td>\n",
       "      <td>34245180.0</td>\n",
       "      <td>-118240722.0</td>\n",
       "      <td>13038.0</td>\n",
       "      <td>108918.0</td>\n",
       "      <td>145143.0</td>\n",
       "      <td>36225.0</td>\n",
       "      <td>-0.103410</td>\n",
       "      <td>1</td>\n",
       "      <td>0</td>\n",
       "      <td>0</td>\n",
       "      <td>47.0</td>\n",
       "      <td>0.012247</td>\n",
       "    </tr>\n",
       "    <tr>\n",
       "      <th>4</th>\n",
       "      <td>3.0</td>\n",
       "      <td>4.0</td>\n",
       "      <td>2962.0</td>\n",
       "      <td>34145202.0</td>\n",
       "      <td>-118179824.0</td>\n",
       "      <td>63000.0</td>\n",
       "      <td>276684.0</td>\n",
       "      <td>773303.0</td>\n",
       "      <td>496619.0</td>\n",
       "      <td>-0.001011</td>\n",
       "      <td>1</td>\n",
       "      <td>0</td>\n",
       "      <td>0</td>\n",
       "      <td>67.0</td>\n",
       "      <td>0.012306</td>\n",
       "    </tr>\n",
       "    <tr>\n",
       "      <th>...</th>\n",
       "      <td>...</td>\n",
       "      <td>...</td>\n",
       "      <td>...</td>\n",
       "      <td>...</td>\n",
       "      <td>...</td>\n",
       "      <td>...</td>\n",
       "      <td>...</td>\n",
       "      <td>...</td>\n",
       "      <td>...</td>\n",
       "      <td>...</td>\n",
       "      <td>...</td>\n",
       "      <td>...</td>\n",
       "      <td>...</td>\n",
       "      <td>...</td>\n",
       "      <td>...</td>\n",
       "    </tr>\n",
       "    <tr>\n",
       "      <th>52437</th>\n",
       "      <td>2.0</td>\n",
       "      <td>2.0</td>\n",
       "      <td>1286.0</td>\n",
       "      <td>34245368.0</td>\n",
       "      <td>-118282383.0</td>\n",
       "      <td>47405.0</td>\n",
       "      <td>70917.0</td>\n",
       "      <td>354621.0</td>\n",
       "      <td>283704.0</td>\n",
       "      <td>0.020615</td>\n",
       "      <td>1</td>\n",
       "      <td>0</td>\n",
       "      <td>0</td>\n",
       "      <td>77.0</td>\n",
       "      <td>0.012629</td>\n",
       "    </tr>\n",
       "    <tr>\n",
       "      <th>52438</th>\n",
       "      <td>2.0</td>\n",
       "      <td>4.0</td>\n",
       "      <td>1612.0</td>\n",
       "      <td>34300140.0</td>\n",
       "      <td>-118706327.0</td>\n",
       "      <td>12105.0</td>\n",
       "      <td>50683.0</td>\n",
       "      <td>67205.0</td>\n",
       "      <td>16522.0</td>\n",
       "      <td>0.013209</td>\n",
       "      <td>0</td>\n",
       "      <td>0</td>\n",
       "      <td>1</td>\n",
       "      <td>53.0</td>\n",
       "      <td>0.016479</td>\n",
       "    </tr>\n",
       "    <tr>\n",
       "      <th>52439</th>\n",
       "      <td>1.0</td>\n",
       "      <td>3.0</td>\n",
       "      <td>1032.0</td>\n",
       "      <td>34040895.0</td>\n",
       "      <td>-118038169.0</td>\n",
       "      <td>5074.0</td>\n",
       "      <td>32797.0</td>\n",
       "      <td>49546.0</td>\n",
       "      <td>16749.0</td>\n",
       "      <td>0.037129</td>\n",
       "      <td>1</td>\n",
       "      <td>0</td>\n",
       "      <td>0</td>\n",
       "      <td>63.0</td>\n",
       "      <td>0.017689</td>\n",
       "    </tr>\n",
       "    <tr>\n",
       "      <th>52440</th>\n",
       "      <td>2.0</td>\n",
       "      <td>3.0</td>\n",
       "      <td>1762.0</td>\n",
       "      <td>33937685.0</td>\n",
       "      <td>-117996709.0</td>\n",
       "      <td>6347.0</td>\n",
       "      <td>140000.0</td>\n",
       "      <td>522000.0</td>\n",
       "      <td>382000.0</td>\n",
       "      <td>0.007204</td>\n",
       "      <td>1</td>\n",
       "      <td>0</td>\n",
       "      <td>0</td>\n",
       "      <td>62.0</td>\n",
       "      <td>0.012102</td>\n",
       "    </tr>\n",
       "    <tr>\n",
       "      <th>52441</th>\n",
       "      <td>2.0</td>\n",
       "      <td>3.0</td>\n",
       "      <td>1050.0</td>\n",
       "      <td>34010864.0</td>\n",
       "      <td>-117900894.0</td>\n",
       "      <td>5927.0</td>\n",
       "      <td>77118.0</td>\n",
       "      <td>259334.0</td>\n",
       "      <td>182216.0</td>\n",
       "      <td>-0.197755</td>\n",
       "      <td>1</td>\n",
       "      <td>0</td>\n",
       "      <td>0</td>\n",
       "      <td>57.0</td>\n",
       "      <td>0.012901</td>\n",
       "    </tr>\n",
       "  </tbody>\n",
       "</table>\n",
       "<p>51897 rows × 15 columns</p>\n",
       "</div>"
      ],
      "text/plain": [
       "       bathrooms  bedrooms  habitable_sqft    latitude    longitude  lot_sqft  \\\n",
       "0            3.5       4.0          3100.0  33634931.0 -117869207.0    4506.0   \n",
       "1            1.0       2.0          1465.0  34449266.0 -119281531.0   12647.0   \n",
       "2            2.0       3.0          1243.0  33886168.0 -117823170.0    8432.0   \n",
       "3            3.0       4.0          2376.0  34245180.0 -118240722.0   13038.0   \n",
       "4            3.0       4.0          2962.0  34145202.0 -118179824.0   63000.0   \n",
       "...          ...       ...             ...         ...          ...       ...   \n",
       "52437        2.0       2.0          1286.0  34245368.0 -118282383.0   47405.0   \n",
       "52438        2.0       4.0          1612.0  34300140.0 -118706327.0   12105.0   \n",
       "52439        1.0       3.0          1032.0  34040895.0 -118038169.0    5074.0   \n",
       "52440        2.0       3.0          1762.0  33937685.0 -117996709.0    6347.0   \n",
       "52441        2.0       3.0          1050.0  34010864.0 -117900894.0    5927.0   \n",
       "\n",
       "       building_tax_value  parcel_tax_value  land_tax_value  logerror  \\\n",
       "0                485713.0         1023282.0        537569.0  0.025595   \n",
       "1                 88000.0          464000.0        376000.0  0.055619   \n",
       "2                 85289.0          564778.0        479489.0  0.005383   \n",
       "3                108918.0          145143.0         36225.0 -0.103410   \n",
       "4                276684.0          773303.0        496619.0 -0.001011   \n",
       "...                   ...               ...             ...       ...   \n",
       "52437             70917.0          354621.0        283704.0  0.020615   \n",
       "52438             50683.0           67205.0         16522.0  0.013209   \n",
       "52439             32797.0           49546.0         16749.0  0.037129   \n",
       "52440            140000.0          522000.0        382000.0  0.007204   \n",
       "52441             77118.0          259334.0        182216.0 -0.197755   \n",
       "\n",
       "       Los_Angeles  Orange  Ventura   age  tax_rate  \n",
       "0                0       1        0  19.0  0.010763  \n",
       "1                0       0        1  50.0  0.012225  \n",
       "2                0       1        0  55.0  0.011488  \n",
       "3                1       0        0  47.0  0.012247  \n",
       "4                1       0        0  67.0  0.012306  \n",
       "...            ...     ...      ...   ...       ...  \n",
       "52437            1       0        0  77.0  0.012629  \n",
       "52438            0       0        1  53.0  0.016479  \n",
       "52439            1       0        0  63.0  0.017689  \n",
       "52440            1       0        0  62.0  0.012102  \n",
       "52441            1       0        0  57.0  0.012901  \n",
       "\n",
       "[51897 rows x 15 columns]"
      ]
     },
     "execution_count": 225,
     "metadata": {},
     "output_type": "execute_result"
    }
   ],
   "source": [
    "tax_rate(houses_renamed)"
   ]
  },
  {
   "cell_type": "code",
   "execution_count": 226,
   "id": "219bab61",
   "metadata": {},
   "outputs": [
    {
     "data": {
      "text/html": [
       "<div>\n",
       "<style scoped>\n",
       "    .dataframe tbody tr th:only-of-type {\n",
       "        vertical-align: middle;\n",
       "    }\n",
       "\n",
       "    .dataframe tbody tr th {\n",
       "        vertical-align: top;\n",
       "    }\n",
       "\n",
       "    .dataframe thead th {\n",
       "        text-align: right;\n",
       "    }\n",
       "</style>\n",
       "<table border=\"1\" class=\"dataframe\">\n",
       "  <thead>\n",
       "    <tr style=\"text-align: right;\">\n",
       "      <th></th>\n",
       "      <th>bathrooms</th>\n",
       "      <th>bedrooms</th>\n",
       "      <th>habitable_sqft</th>\n",
       "      <th>latitude</th>\n",
       "      <th>longitude</th>\n",
       "      <th>lot_sqft</th>\n",
       "      <th>building_tax_value</th>\n",
       "      <th>parcel_tax_value</th>\n",
       "      <th>land_tax_value</th>\n",
       "      <th>logerror</th>\n",
       "      <th>Los_Angeles</th>\n",
       "      <th>Orange</th>\n",
       "      <th>Ventura</th>\n",
       "      <th>age</th>\n",
       "      <th>tax_rate</th>\n",
       "      <th>value_per_sqft</th>\n",
       "    </tr>\n",
       "  </thead>\n",
       "  <tbody>\n",
       "    <tr>\n",
       "      <th>0</th>\n",
       "      <td>3.5</td>\n",
       "      <td>4.0</td>\n",
       "      <td>3100.0</td>\n",
       "      <td>33634931.0</td>\n",
       "      <td>-117869207.0</td>\n",
       "      <td>4506.0</td>\n",
       "      <td>485713.0</td>\n",
       "      <td>1023282.0</td>\n",
       "      <td>537569.0</td>\n",
       "      <td>0.025595</td>\n",
       "      <td>0</td>\n",
       "      <td>1</td>\n",
       "      <td>0</td>\n",
       "      <td>19.0</td>\n",
       "      <td>0.010763</td>\n",
       "      <td>227.093209</td>\n",
       "    </tr>\n",
       "    <tr>\n",
       "      <th>1</th>\n",
       "      <td>1.0</td>\n",
       "      <td>2.0</td>\n",
       "      <td>1465.0</td>\n",
       "      <td>34449266.0</td>\n",
       "      <td>-119281531.0</td>\n",
       "      <td>12647.0</td>\n",
       "      <td>88000.0</td>\n",
       "      <td>464000.0</td>\n",
       "      <td>376000.0</td>\n",
       "      <td>0.055619</td>\n",
       "      <td>0</td>\n",
       "      <td>0</td>\n",
       "      <td>1</td>\n",
       "      <td>50.0</td>\n",
       "      <td>0.012225</td>\n",
       "      <td>36.688543</td>\n",
       "    </tr>\n",
       "    <tr>\n",
       "      <th>2</th>\n",
       "      <td>2.0</td>\n",
       "      <td>3.0</td>\n",
       "      <td>1243.0</td>\n",
       "      <td>33886168.0</td>\n",
       "      <td>-117823170.0</td>\n",
       "      <td>8432.0</td>\n",
       "      <td>85289.0</td>\n",
       "      <td>564778.0</td>\n",
       "      <td>479489.0</td>\n",
       "      <td>0.005383</td>\n",
       "      <td>0</td>\n",
       "      <td>1</td>\n",
       "      <td>0</td>\n",
       "      <td>55.0</td>\n",
       "      <td>0.011488</td>\n",
       "      <td>66.980313</td>\n",
       "    </tr>\n",
       "    <tr>\n",
       "      <th>3</th>\n",
       "      <td>3.0</td>\n",
       "      <td>4.0</td>\n",
       "      <td>2376.0</td>\n",
       "      <td>34245180.0</td>\n",
       "      <td>-118240722.0</td>\n",
       "      <td>13038.0</td>\n",
       "      <td>108918.0</td>\n",
       "      <td>145143.0</td>\n",
       "      <td>36225.0</td>\n",
       "      <td>-0.103410</td>\n",
       "      <td>1</td>\n",
       "      <td>0</td>\n",
       "      <td>0</td>\n",
       "      <td>47.0</td>\n",
       "      <td>0.012247</td>\n",
       "      <td>11.132306</td>\n",
       "    </tr>\n",
       "    <tr>\n",
       "      <th>4</th>\n",
       "      <td>3.0</td>\n",
       "      <td>4.0</td>\n",
       "      <td>2962.0</td>\n",
       "      <td>34145202.0</td>\n",
       "      <td>-118179824.0</td>\n",
       "      <td>63000.0</td>\n",
       "      <td>276684.0</td>\n",
       "      <td>773303.0</td>\n",
       "      <td>496619.0</td>\n",
       "      <td>-0.001011</td>\n",
       "      <td>1</td>\n",
       "      <td>0</td>\n",
       "      <td>0</td>\n",
       "      <td>67.0</td>\n",
       "      <td>0.012306</td>\n",
       "      <td>12.274651</td>\n",
       "    </tr>\n",
       "    <tr>\n",
       "      <th>...</th>\n",
       "      <td>...</td>\n",
       "      <td>...</td>\n",
       "      <td>...</td>\n",
       "      <td>...</td>\n",
       "      <td>...</td>\n",
       "      <td>...</td>\n",
       "      <td>...</td>\n",
       "      <td>...</td>\n",
       "      <td>...</td>\n",
       "      <td>...</td>\n",
       "      <td>...</td>\n",
       "      <td>...</td>\n",
       "      <td>...</td>\n",
       "      <td>...</td>\n",
       "      <td>...</td>\n",
       "      <td>...</td>\n",
       "    </tr>\n",
       "    <tr>\n",
       "      <th>52437</th>\n",
       "      <td>2.0</td>\n",
       "      <td>2.0</td>\n",
       "      <td>1286.0</td>\n",
       "      <td>34245368.0</td>\n",
       "      <td>-118282383.0</td>\n",
       "      <td>47405.0</td>\n",
       "      <td>70917.0</td>\n",
       "      <td>354621.0</td>\n",
       "      <td>283704.0</td>\n",
       "      <td>0.020615</td>\n",
       "      <td>1</td>\n",
       "      <td>0</td>\n",
       "      <td>0</td>\n",
       "      <td>77.0</td>\n",
       "      <td>0.012629</td>\n",
       "      <td>7.480667</td>\n",
       "    </tr>\n",
       "    <tr>\n",
       "      <th>52438</th>\n",
       "      <td>2.0</td>\n",
       "      <td>4.0</td>\n",
       "      <td>1612.0</td>\n",
       "      <td>34300140.0</td>\n",
       "      <td>-118706327.0</td>\n",
       "      <td>12105.0</td>\n",
       "      <td>50683.0</td>\n",
       "      <td>67205.0</td>\n",
       "      <td>16522.0</td>\n",
       "      <td>0.013209</td>\n",
       "      <td>0</td>\n",
       "      <td>0</td>\n",
       "      <td>1</td>\n",
       "      <td>53.0</td>\n",
       "      <td>0.016479</td>\n",
       "      <td>5.551838</td>\n",
       "    </tr>\n",
       "    <tr>\n",
       "      <th>52439</th>\n",
       "      <td>1.0</td>\n",
       "      <td>3.0</td>\n",
       "      <td>1032.0</td>\n",
       "      <td>34040895.0</td>\n",
       "      <td>-118038169.0</td>\n",
       "      <td>5074.0</td>\n",
       "      <td>32797.0</td>\n",
       "      <td>49546.0</td>\n",
       "      <td>16749.0</td>\n",
       "      <td>0.037129</td>\n",
       "      <td>1</td>\n",
       "      <td>0</td>\n",
       "      <td>0</td>\n",
       "      <td>63.0</td>\n",
       "      <td>0.017689</td>\n",
       "      <td>9.764683</td>\n",
       "    </tr>\n",
       "    <tr>\n",
       "      <th>52440</th>\n",
       "      <td>2.0</td>\n",
       "      <td>3.0</td>\n",
       "      <td>1762.0</td>\n",
       "      <td>33937685.0</td>\n",
       "      <td>-117996709.0</td>\n",
       "      <td>6347.0</td>\n",
       "      <td>140000.0</td>\n",
       "      <td>522000.0</td>\n",
       "      <td>382000.0</td>\n",
       "      <td>0.007204</td>\n",
       "      <td>1</td>\n",
       "      <td>0</td>\n",
       "      <td>0</td>\n",
       "      <td>62.0</td>\n",
       "      <td>0.012102</td>\n",
       "      <td>82.243580</td>\n",
       "    </tr>\n",
       "    <tr>\n",
       "      <th>52441</th>\n",
       "      <td>2.0</td>\n",
       "      <td>3.0</td>\n",
       "      <td>1050.0</td>\n",
       "      <td>34010864.0</td>\n",
       "      <td>-117900894.0</td>\n",
       "      <td>5927.0</td>\n",
       "      <td>77118.0</td>\n",
       "      <td>259334.0</td>\n",
       "      <td>182216.0</td>\n",
       "      <td>-0.197755</td>\n",
       "      <td>1</td>\n",
       "      <td>0</td>\n",
       "      <td>0</td>\n",
       "      <td>57.0</td>\n",
       "      <td>0.012901</td>\n",
       "      <td>43.754682</td>\n",
       "    </tr>\n",
       "  </tbody>\n",
       "</table>\n",
       "<p>51897 rows × 16 columns</p>\n",
       "</div>"
      ],
      "text/plain": [
       "       bathrooms  bedrooms  habitable_sqft    latitude    longitude  lot_sqft  \\\n",
       "0            3.5       4.0          3100.0  33634931.0 -117869207.0    4506.0   \n",
       "1            1.0       2.0          1465.0  34449266.0 -119281531.0   12647.0   \n",
       "2            2.0       3.0          1243.0  33886168.0 -117823170.0    8432.0   \n",
       "3            3.0       4.0          2376.0  34245180.0 -118240722.0   13038.0   \n",
       "4            3.0       4.0          2962.0  34145202.0 -118179824.0   63000.0   \n",
       "...          ...       ...             ...         ...          ...       ...   \n",
       "52437        2.0       2.0          1286.0  34245368.0 -118282383.0   47405.0   \n",
       "52438        2.0       4.0          1612.0  34300140.0 -118706327.0   12105.0   \n",
       "52439        1.0       3.0          1032.0  34040895.0 -118038169.0    5074.0   \n",
       "52440        2.0       3.0          1762.0  33937685.0 -117996709.0    6347.0   \n",
       "52441        2.0       3.0          1050.0  34010864.0 -117900894.0    5927.0   \n",
       "\n",
       "       building_tax_value  parcel_tax_value  land_tax_value  logerror  \\\n",
       "0                485713.0         1023282.0        537569.0  0.025595   \n",
       "1                 88000.0          464000.0        376000.0  0.055619   \n",
       "2                 85289.0          564778.0        479489.0  0.005383   \n",
       "3                108918.0          145143.0         36225.0 -0.103410   \n",
       "4                276684.0          773303.0        496619.0 -0.001011   \n",
       "...                   ...               ...             ...       ...   \n",
       "52437             70917.0          354621.0        283704.0  0.020615   \n",
       "52438             50683.0           67205.0         16522.0  0.013209   \n",
       "52439             32797.0           49546.0         16749.0  0.037129   \n",
       "52440            140000.0          522000.0        382000.0  0.007204   \n",
       "52441             77118.0          259334.0        182216.0 -0.197755   \n",
       "\n",
       "       Los_Angeles  Orange  Ventura   age  tax_rate  value_per_sqft  \n",
       "0                0       1        0  19.0  0.010763      227.093209  \n",
       "1                0       0        1  50.0  0.012225       36.688543  \n",
       "2                0       1        0  55.0  0.011488       66.980313  \n",
       "3                1       0        0  47.0  0.012247       11.132306  \n",
       "4                1       0        0  67.0  0.012306       12.274651  \n",
       "...            ...     ...      ...   ...       ...             ...  \n",
       "52437            1       0        0  77.0  0.012629        7.480667  \n",
       "52438            0       0        1  53.0  0.016479        5.551838  \n",
       "52439            1       0        0  63.0  0.017689        9.764683  \n",
       "52440            1       0        0  62.0  0.012102       82.243580  \n",
       "52441            1       0        0  57.0  0.012901       43.754682  \n",
       "\n",
       "[51897 rows x 16 columns]"
      ]
     },
     "execution_count": 226,
     "metadata": {},
     "output_type": "execute_result"
    }
   ],
   "source": [
    "value_per_sqft(houses_renamed)"
   ]
  },
  {
   "cell_type": "code",
   "execution_count": 227,
   "id": "5540f931",
   "metadata": {},
   "outputs": [
    {
     "data": {
      "text/html": [
       "<div>\n",
       "<style scoped>\n",
       "    .dataframe tbody tr th:only-of-type {\n",
       "        vertical-align: middle;\n",
       "    }\n",
       "\n",
       "    .dataframe tbody tr th {\n",
       "        vertical-align: top;\n",
       "    }\n",
       "\n",
       "    .dataframe thead th {\n",
       "        text-align: right;\n",
       "    }\n",
       "</style>\n",
       "<table border=\"1\" class=\"dataframe\">\n",
       "  <thead>\n",
       "    <tr style=\"text-align: right;\">\n",
       "      <th></th>\n",
       "      <th>bathrooms</th>\n",
       "      <th>bedrooms</th>\n",
       "      <th>habitable_sqft</th>\n",
       "      <th>latitude</th>\n",
       "      <th>longitude</th>\n",
       "      <th>lot_sqft</th>\n",
       "      <th>building_tax_value</th>\n",
       "      <th>parcel_tax_value</th>\n",
       "      <th>land_tax_value</th>\n",
       "      <th>logerror</th>\n",
       "      <th>Los_Angeles</th>\n",
       "      <th>Orange</th>\n",
       "      <th>Ventura</th>\n",
       "      <th>age</th>\n",
       "      <th>tax_rate</th>\n",
       "      <th>value_per_sqft</th>\n",
       "    </tr>\n",
       "  </thead>\n",
       "  <tbody>\n",
       "    <tr>\n",
       "      <th>0</th>\n",
       "      <td>3.5</td>\n",
       "      <td>4.0</td>\n",
       "      <td>3100.0</td>\n",
       "      <td>33634931.0</td>\n",
       "      <td>-117869207.0</td>\n",
       "      <td>4506.0</td>\n",
       "      <td>485713.0</td>\n",
       "      <td>1023282.0</td>\n",
       "      <td>537569.0</td>\n",
       "      <td>0.025595</td>\n",
       "      <td>0</td>\n",
       "      <td>1</td>\n",
       "      <td>0</td>\n",
       "      <td>19.0</td>\n",
       "      <td>0.010763</td>\n",
       "      <td>227.093209</td>\n",
       "    </tr>\n",
       "    <tr>\n",
       "      <th>1</th>\n",
       "      <td>1.0</td>\n",
       "      <td>2.0</td>\n",
       "      <td>1465.0</td>\n",
       "      <td>34449266.0</td>\n",
       "      <td>-119281531.0</td>\n",
       "      <td>12647.0</td>\n",
       "      <td>88000.0</td>\n",
       "      <td>464000.0</td>\n",
       "      <td>376000.0</td>\n",
       "      <td>0.055619</td>\n",
       "      <td>0</td>\n",
       "      <td>0</td>\n",
       "      <td>1</td>\n",
       "      <td>50.0</td>\n",
       "      <td>0.012225</td>\n",
       "      <td>36.688543</td>\n",
       "    </tr>\n",
       "    <tr>\n",
       "      <th>2</th>\n",
       "      <td>2.0</td>\n",
       "      <td>3.0</td>\n",
       "      <td>1243.0</td>\n",
       "      <td>33886168.0</td>\n",
       "      <td>-117823170.0</td>\n",
       "      <td>8432.0</td>\n",
       "      <td>85289.0</td>\n",
       "      <td>564778.0</td>\n",
       "      <td>479489.0</td>\n",
       "      <td>0.005383</td>\n",
       "      <td>0</td>\n",
       "      <td>1</td>\n",
       "      <td>0</td>\n",
       "      <td>55.0</td>\n",
       "      <td>0.011488</td>\n",
       "      <td>66.980313</td>\n",
       "    </tr>\n",
       "    <tr>\n",
       "      <th>3</th>\n",
       "      <td>3.0</td>\n",
       "      <td>4.0</td>\n",
       "      <td>2376.0</td>\n",
       "      <td>34245180.0</td>\n",
       "      <td>-118240722.0</td>\n",
       "      <td>13038.0</td>\n",
       "      <td>108918.0</td>\n",
       "      <td>145143.0</td>\n",
       "      <td>36225.0</td>\n",
       "      <td>-0.103410</td>\n",
       "      <td>1</td>\n",
       "      <td>0</td>\n",
       "      <td>0</td>\n",
       "      <td>47.0</td>\n",
       "      <td>0.012247</td>\n",
       "      <td>11.132306</td>\n",
       "    </tr>\n",
       "    <tr>\n",
       "      <th>4</th>\n",
       "      <td>3.0</td>\n",
       "      <td>4.0</td>\n",
       "      <td>2962.0</td>\n",
       "      <td>34145202.0</td>\n",
       "      <td>-118179824.0</td>\n",
       "      <td>63000.0</td>\n",
       "      <td>276684.0</td>\n",
       "      <td>773303.0</td>\n",
       "      <td>496619.0</td>\n",
       "      <td>-0.001011</td>\n",
       "      <td>1</td>\n",
       "      <td>0</td>\n",
       "      <td>0</td>\n",
       "      <td>67.0</td>\n",
       "      <td>0.012306</td>\n",
       "      <td>12.274651</td>\n",
       "    </tr>\n",
       "  </tbody>\n",
       "</table>\n",
       "</div>"
      ],
      "text/plain": [
       "   bathrooms  bedrooms  habitable_sqft    latitude    longitude  lot_sqft  \\\n",
       "0        3.5       4.0          3100.0  33634931.0 -117869207.0    4506.0   \n",
       "1        1.0       2.0          1465.0  34449266.0 -119281531.0   12647.0   \n",
       "2        2.0       3.0          1243.0  33886168.0 -117823170.0    8432.0   \n",
       "3        3.0       4.0          2376.0  34245180.0 -118240722.0   13038.0   \n",
       "4        3.0       4.0          2962.0  34145202.0 -118179824.0   63000.0   \n",
       "\n",
       "   building_tax_value  parcel_tax_value  land_tax_value  logerror  \\\n",
       "0            485713.0         1023282.0        537569.0  0.025595   \n",
       "1             88000.0          464000.0        376000.0  0.055619   \n",
       "2             85289.0          564778.0        479489.0  0.005383   \n",
       "3            108918.0          145143.0         36225.0 -0.103410   \n",
       "4            276684.0          773303.0        496619.0 -0.001011   \n",
       "\n",
       "   Los_Angeles  Orange  Ventura   age  tax_rate  value_per_sqft  \n",
       "0            0       1        0  19.0  0.010763      227.093209  \n",
       "1            0       0        1  50.0  0.012225       36.688543  \n",
       "2            0       1        0  55.0  0.011488       66.980313  \n",
       "3            1       0        0  47.0  0.012247       11.132306  \n",
       "4            1       0        0  67.0  0.012306       12.274651  "
      ]
     },
     "execution_count": 227,
     "metadata": {},
     "output_type": "execute_result"
    }
   ],
   "source": [
    "houses_renamed.head()"
   ]
  },
  {
   "cell_type": "code",
   "execution_count": 228,
   "id": "a448e5e4",
   "metadata": {},
   "outputs": [
    {
     "data": {
      "text/plain": [
       "(51897, 16)"
      ]
     },
     "execution_count": 228,
     "metadata": {},
     "output_type": "execute_result"
    }
   ],
   "source": [
    "houses_renamed.shape"
   ]
  },
  {
   "cell_type": "code",
   "execution_count": 24,
   "id": "f1361c8f",
   "metadata": {},
   "outputs": [
    {
     "data": {
      "image/png": "[encoded data removed]",
      "text/plain": [
       "<Figure size 504x288 with 1 Axes>"
      ]
     },
     "metadata": {
      "needs_background": "light"
     },
     "output_type": "display_data"
    }
   ],
   "source": [
    "plt.figure(figsize=(7,4))\n",
    "sb.boxplot(data=houses_renamed.bathrooms, orient='h')\n",
    "plt.show()"
   ]
  },
  {
   "cell_type": "code",
   "execution_count": 25,
   "id": "dcabbfde",
   "metadata": {},
   "outputs": [
    {
     "data": {
      "image/png": "[encoded data removed]",
      "text/plain": [
       "<Figure size 504x288 with 1 Axes>"
      ]
     },
     "metadata": {
      "needs_background": "light"
     },
     "output_type": "display_data"
    }
   ],
   "source": [
    "plt.figure(figsize=(7,4))\n",
    "sb.boxplot(data=houses_renamed.bedrooms, orient='h')\n",
    "plt.show()"
   ]
  },
  {
   "cell_type": "code",
   "execution_count": 26,
   "id": "eea0c48a",
   "metadata": {},
   "outputs": [
    {
     "data": {
      "image/png": "[encoded data removed]",
      "text/plain": [
       "<Figure size 504x288 with 1 Axes>"
      ]
     },
     "metadata": {
      "needs_background": "light"
     },
     "output_type": "display_data"
    }
   ],
   "source": [
    "plt.figure(figsize=(7,4))\n",
    "sb.boxplot(data=houses_renamed.habitable_sqft, orient='h')\n",
    "plt.show()"
   ]
  },
  {
   "cell_type": "code",
   "execution_count": 28,
   "id": "934e58b9",
   "metadata": {},
   "outputs": [
    {
     "data": {
      "image/png": "[encoded data removed]",
      "text/plain": [
       "<Figure size 504x288 with 1 Axes>"
      ]
     },
     "metadata": {
      "needs_background": "light"
     },
     "output_type": "display_data"
    }
   ],
   "source": [
    "plt.figure(figsize=(7,4))\n",
    "sb.boxplot(data=houses_renamed.latitude, orient='h')\n",
    "plt.show()"
   ]
  },
  {
   "cell_type": "code",
   "execution_count": 29,
   "id": "821a56cd",
   "metadata": {},
   "outputs": [
    {
     "data": {
      "image/png": "[encoded data removed]",
      "text/plain": [
       "<Figure size 504x288 with 1 Axes>"
      ]
     },
     "metadata": {
      "needs_background": "light"
     },
     "output_type": "display_data"
    }
   ],
   "source": [
    "plt.figure(figsize=(7,4))\n",
    "sb.boxplot(data=houses_renamed.longitude, orient='h')\n",
    "plt.show()"
   ]
  },
  {
   "cell_type": "code",
   "execution_count": 30,
   "id": "f0c5e98a",
   "metadata": {},
   "outputs": [
    {
     "data": {
      "image/png": "[encoded data removed]",
      "text/plain": [
       "<Figure size 504x288 with 1 Axes>"
      ]
     },
     "metadata": {
      "needs_background": "light"
     },
     "output_type": "display_data"
    }
   ],
   "source": [
    "plt.figure(figsize=(7,4))\n",
    "sb.boxplot(data=houses_renamed.lot_sqft, orient='h')\n",
    "plt.show()"
   ]
  },
  {
   "cell_type": "code",
   "execution_count": 31,
   "id": "efe484ba",
   "metadata": {},
   "outputs": [
    {
     "data": {
      "image/png": "[encoded data removed]",
      "text/plain": [
       "<Figure size 504x288 with 1 Axes>"
      ]
     },
     "metadata": {
      "needs_background": "light"
     },
     "output_type": "display_data"
    }
   ],
   "source": [
    "plt.figure(figsize=(7,4))\n",
    "sb.boxplot(data=houses_renamed.building_tax_value, orient='h')\n",
    "plt.show()"
   ]
  },
  {
   "cell_type": "code",
   "execution_count": 32,
   "id": "74dee719",
   "metadata": {},
   "outputs": [
    {
     "data": {
      "image/png": "[encoded data removed]",
      "text/plain": [
       "<Figure size 504x288 with 1 Axes>"
      ]
     },
     "metadata": {
      "needs_background": "light"
     },
     "output_type": "display_data"
    }
   ],
   "source": [
    "plt.figure(figsize=(7,4))\n",
    "sb.boxplot(data=houses_renamed.parcel_tax_value, orient='h')\n",
    "plt.show()"
   ]
  },
  {
   "cell_type": "code",
   "execution_count": 33,
   "id": "d60ed25a",
   "metadata": {},
   "outputs": [
    {
     "data": {
      "image/png": "[encoded data removed]",
      "text/plain": [
       "<Figure size 504x288 with 1 Axes>"
      ]
     },
     "metadata": {
      "needs_background": "light"
     },
     "output_type": "display_data"
    }
   ],
   "source": [
    "\n",
    "plt.figure(figsize=(7,4))\n",
    "sb.boxplot(data=houses_renamed.land_tax_value, orient='h')\n",
    "plt.show()"
   ]
  },
  {
   "cell_type": "code",
   "execution_count": 34,
   "id": "1b2f3096",
   "metadata": {},
   "outputs": [
    {
     "data": {
      "image/png": "[encoded data removed]",
      "text/plain": [
       "<Figure size 504x288 with 1 Axes>"
      ]
     },
     "metadata": {
      "needs_background": "light"
     },
     "output_type": "display_data"
    }
   ],
   "source": [
    "plt.figure(figsize=(7,4))\n",
    "sb.boxplot(data=houses_renamed.tax_amount, orient='h')\n",
    "plt.show()"
   ]
  },
  {
   "cell_type": "code",
   "execution_count": 35,
   "id": "fac4a8ca",
   "metadata": {},
   "outputs": [
    {
     "data": {
      "image/png": "[encoded data removed]",
      "text/plain": [
       "<Figure size 504x288 with 1 Axes>"
      ]
     },
     "metadata": {
      "needs_background": "light"
     },
     "output_type": "display_data"
    }
   ],
   "source": [
    "plt.figure(figsize=(7,4))\n",
    "sb.boxplot(data=houses_renamed.logerror, orient='h')\n",
    "plt.show()"
   ]
  },
  {
   "cell_type": "code",
   "execution_count": 36,
   "id": "2bd5ac6d",
   "metadata": {},
   "outputs": [
    {
     "data": {
      "image/png": "[encoded data removed]",
      "text/plain": [
       "<Figure size 504x288 with 1 Axes>"
      ]
     },
     "metadata": {
      "needs_background": "light"
     },
     "output_type": "display_data"
    }
   ],
   "source": [
    "plt.figure(figsize=(7,4))\n",
    "sb.boxplot(data=houses_renamed.Los_Angeles, orient='h')\n",
    "plt.show()"
   ]
  },
  {
   "cell_type": "code",
   "execution_count": 37,
   "id": "3bd9a6fd",
   "metadata": {},
   "outputs": [
    {
     "data": {
      "image/png": "[encoded data removed]",
      "text/plain": [
       "<Figure size 504x288 with 1 Axes>"
      ]
     },
     "metadata": {
      "needs_background": "light"
     },
     "output_type": "display_data"
    }
   ],
   "source": [
    "plt.figure(figsize=(7,4))\n",
    "sb.boxplot(data=houses_renamed.Orange, orient='h')\n",
    "plt.show()"
   ]
  },
  {
   "cell_type": "code",
   "execution_count": 38,
   "id": "7bfc83b4",
   "metadata": {},
   "outputs": [
    {
     "data": {
      "image/png": "[encoded data removed]",
      "text/plain": [
       "<Figure size 504x288 with 1 Axes>"
      ]
     },
     "metadata": {
      "needs_background": "light"
     },
     "output_type": "display_data"
    }
   ],
   "source": [
    "plt.figure(figsize=(7,4))\n",
    "sb.boxplot(data=houses_renamed.Ventura, orient='h')\n",
    "plt.show()"
   ]
  },
  {
   "cell_type": "code",
   "execution_count": 78,
   "id": "a3edd59e",
   "metadata": {
    "scrolled": true
   },
   "outputs": [
    {
     "data": {
      "image/png": "[encoded data removed]",
      "text/plain": [
       "<Figure size 504x288 with 1 Axes>"
      ]
     },
     "metadata": {
      "needs_background": "light"
     },
     "output_type": "display_data"
    }
   ],
   "source": [
    "plt.figure(figsize=(7,4))\n",
    "sb.boxplot(data=houses_renamed.age, orient='h')\n",
    "plt.show()"
   ]
  },
  {
   "cell_type": "markdown",
   "id": "0311d3f8",
   "metadata": {},
   "source": [
    "**<font color = 'blue'>Observations</font>**\n",
    "\n",
    "><font color = 'blue'>All columns but Orange and Los Angeles have upper-bound outliers</font>\n",
    "\n",
    "><font color = 'blue'>All columns but logerror, longitude, bathrooms, and bedrooms have lower-bound outliers</font>\n",
    "\n",
    "**<font color = 'blue'>Actions</font>**\n",
    "\n",
    "><font color = 'blue'>Detect outliers with a function in order to use that function to remove them</font>\n",
    "\n",
    "><font color = 'blue'>Remove outlier</font>\n",
    "\n",
    "><font color = 'brown'>In order to get to an MVP, I will skip the removal of outliers for now</font>"
   ]
  },
  {
   "cell_type": "code",
   "execution_count": null,
   "id": "5b3a17c0",
   "metadata": {},
   "outputs": [],
   "source": [
    "# Detectecting outliers\n",
    "\n",
    "def get_upper_outliers(s, k):\n",
    "    '''\n",
    "    Given a series and a cutoff value, k, returns the upper outliers for the\n",
    "    series.\n",
    "\n",
    "    The values returned will be either 0 (if the point is not an outlier), or a\n",
    "    number that indicates how far away from the upper bound the observation is.\n",
    "    '''\n",
    "    q1, q3 = s.quantile([.25, .75])\n",
    "    iqr = q3 - q1\n",
    "    upper_bound = q3 + k * iqr\n",
    "    return s.apply(lambda x: max([x - upper_bound, 0]))"
   ]
  },
  {
   "cell_type": "code",
   "execution_count": null,
   "id": "1bf3e56e",
   "metadata": {},
   "outputs": [],
   "source": [
    "# Detectecting outliers\n",
    "\n",
    "def get_lower_outliers(s, k):\n",
    "    '''\n",
    "    Given a series and a cutoff value, k, returns the upper outliers for the\n",
    "    series.\n",
    "\n",
    "    The values returned will be either 0 (if the point is not an outlier), or a\n",
    "    number that indicates how far away from the upper bound the observation is.\n",
    "    '''\n",
    "    q1, q3 = s.quantile([.25, .75])\n",
    "    iqr = q3 - q1\n",
    "    lower_bound = q1 - k * iqr\n",
    "    return s.apply(lambda x: max([x - lower_bound, 0]))"
   ]
  },
  {
   "cell_type": "markdown",
   "id": "3adf2a88",
   "metadata": {},
   "source": [
    "**<font color = 'blue'>Takeaways</font>**\n",
    "\n",
    "><font color = 'blue'>Nulls have been removed</font>\n",
    "\n",
    "><font color = 'blue'>Missing data imputed</font>\n",
    "\n",
    "><font color = 'blue'>Split the data into train, validate, and test</font>\n",
    "\n",
    "><font color = 'blue'>Scale and explore</font>"
   ]
  },
  {
   "cell_type": "markdown",
   "id": "a2fddf52",
   "metadata": {},
   "source": [
    "## Functions"
   ]
  },
  {
   "cell_type": "markdown",
   "id": "e20543d2",
   "metadata": {},
   "source": [
    "New features?\n",
    "\n",
    "- bins for: age, square feet\n",
    "- tax rate\n",
    "- bath/bed ratio: (bathroom count / bedroom count)\n",
    "- acres (lotsizesquarefeet/43560)\n",
    "- dollar per square foot\n",
    "- within city of Los Angeles"
   ]
  },
  {
   "cell_type": "markdown",
   "id": "3c5bd817",
   "metadata": {},
   "source": [
    "# Exploration"
   ]
  },
  {
   "cell_type": "markdown",
   "id": "8dc7c44a",
   "metadata": {},
   "source": [
    "**I will try to answer these questions in my exploration phase**\n",
    "\n",
    "**My objective is to use the variables or a combination of them to understand**\n",
    "\n",
    "><font color = 'blue'>Is there a pattern in the data? Where?</font>\n",
    "\n",
    "><font color = 'brown'>I will explore parcel density,  to answer this question</font>\n",
    "    \n",
    "><font color = 'blue'>What features are driving the outcome? What are the most prominent ones?</font>\n",
    "\n",
    "><font color = 'brown'>I will use --- to answer this question</font>\n",
    "\n",
    "><font color = 'blue'>What features can I build from the ones I have that influence the target even more?</font>\n",
    "\n",
    "><font color = 'brown'>I will use --- to answer this question</font>\n",
    "\n",
    ">We want to walk away from exploration with with modeling strategies (feature selection, algorithm selection, evaluation methods, for example)."
   ]
  },
  {
   "cell_type": "code",
   "execution_count": 229,
   "id": "ddcf6ac8",
   "metadata": {},
   "outputs": [
    {
     "data": {
      "text/plain": [
       "(51897, 16)"
      ]
     },
     "execution_count": 229,
     "metadata": {},
     "output_type": "execute_result"
    }
   ],
   "source": [
    "houses_renamed.shape"
   ]
  },
  {
   "cell_type": "code",
   "execution_count": 230,
   "id": "8a36f130",
   "metadata": {},
   "outputs": [],
   "source": [
    "def split_zillow(df):\n",
    "     \n",
    "# splits df into train_validate and test using train_test_split(),\n",
    "# random state is set so that it is replicable\n",
    "    train_validate, test = train_test_split(houses_renamed,\n",
    "                                            test_size=.2,\n",
    "                                            random_state=174)\n",
    "\n",
    "# splits train_validate into train and validate using train_test_split(),\n",
    "# random state is set so that it is replicable\n",
    "    train, validate = train_test_split(train_validate, \n",
    "                                        test_size=.3, \n",
    "                                        random_state=174)\n",
    "    return train, validate, test"
   ]
  },
  {
   "cell_type": "code",
   "execution_count": 231,
   "id": "57bcc915",
   "metadata": {},
   "outputs": [],
   "source": [
    "train, validate, test = split_zillow(houses_renamed)"
   ]
  },
  {
   "cell_type": "code",
   "execution_count": 232,
   "id": "c571a247",
   "metadata": {},
   "outputs": [
    {
     "data": {
      "text/plain": [
       "(29061, 16)"
      ]
     },
     "execution_count": 232,
     "metadata": {},
     "output_type": "execute_result"
    }
   ],
   "source": [
    "train.shape"
   ]
  },
  {
   "cell_type": "code",
   "execution_count": 233,
   "id": "46f87ce5",
   "metadata": {},
   "outputs": [
    {
     "data": {
      "text/plain": [
       "(12456, 16)"
      ]
     },
     "execution_count": 233,
     "metadata": {},
     "output_type": "execute_result"
    }
   ],
   "source": [
    "validate.shape"
   ]
  },
  {
   "cell_type": "code",
   "execution_count": 234,
   "id": "a9ba5ae1",
   "metadata": {},
   "outputs": [
    {
     "data": {
      "text/plain": [
       "(10380, 16)"
      ]
     },
     "execution_count": 234,
     "metadata": {},
     "output_type": "execute_result"
    }
   ],
   "source": [
    "test.shape"
   ]
  },
  {
   "cell_type": "code",
   "execution_count": 235,
   "id": "f419530d",
   "metadata": {},
   "outputs": [],
   "source": [
    "def min_max_scaler(train, validate, test):\n",
    "    '''Takes in train, validate, test then returns their copies \n",
    "    (copy set to True) scaled to positive integers\n",
    "    '''\n",
    "    scaler = MinMaxScaler(copy=True, feature_range=(0,1)).fit(train)\n",
    "    train_scaled = pd.DataFrame(scaler.transform(train), columns=train.columns.values).set_index([train.index.values])\n",
    "    validate_scaled = pd.DataFrame(scaler.transform(validate), columns=validate.columns.values).set_index([validate.index.values])\n",
    "    test_scaled = pd.DataFrame(scaler.transform(test), columns=test.columns.values).set_index([test.index.values])\n",
    "    return train_scaled, validate_scaled, test_scaled"
   ]
  },
  {
   "cell_type": "code",
   "execution_count": 236,
   "id": "005f3662",
   "metadata": {},
   "outputs": [],
   "source": [
    "train_scaled, validate_scaled, test_scaled = min_max_scaler(train, validate, test)"
   ]
  },
  {
   "cell_type": "code",
   "execution_count": 237,
   "id": "aa1a42c5",
   "metadata": {
    "scrolled": true
   },
   "outputs": [
    {
     "data": {
      "text/plain": [
       "(29061, 16)"
      ]
     },
     "execution_count": 237,
     "metadata": {},
     "output_type": "execute_result"
    }
   ],
   "source": [
    "train_scaled.shape"
   ]
  },
  {
   "cell_type": "code",
   "execution_count": 238,
   "id": "9e8ed612",
   "metadata": {},
   "outputs": [
    {
     "data": {
      "text/html": [
       "<div>\n",
       "<style scoped>\n",
       "    .dataframe tbody tr th:only-of-type {\n",
       "        vertical-align: middle;\n",
       "    }\n",
       "\n",
       "    .dataframe tbody tr th {\n",
       "        vertical-align: top;\n",
       "    }\n",
       "\n",
       "    .dataframe thead th {\n",
       "        text-align: right;\n",
       "    }\n",
       "</style>\n",
       "<table border=\"1\" class=\"dataframe\">\n",
       "  <thead>\n",
       "    <tr style=\"text-align: right;\">\n",
       "      <th></th>\n",
       "      <th>bathrooms</th>\n",
       "      <th>bedrooms</th>\n",
       "      <th>habitable_sqft</th>\n",
       "      <th>latitude</th>\n",
       "      <th>longitude</th>\n",
       "      <th>lot_sqft</th>\n",
       "      <th>building_tax_value</th>\n",
       "      <th>parcel_tax_value</th>\n",
       "      <th>land_tax_value</th>\n",
       "      <th>logerror</th>\n",
       "      <th>Los_Angeles</th>\n",
       "      <th>Orange</th>\n",
       "      <th>Ventura</th>\n",
       "      <th>age</th>\n",
       "      <th>tax_rate</th>\n",
       "      <th>value_per_sqft</th>\n",
       "    </tr>\n",
       "  </thead>\n",
       "  <tbody>\n",
       "    <tr>\n",
       "      <th>47125</th>\n",
       "      <td>2.0</td>\n",
       "      <td>3.0</td>\n",
       "      <td>1855.0</td>\n",
       "      <td>34024010.0</td>\n",
       "      <td>-118103633.0</td>\n",
       "      <td>12192.0</td>\n",
       "      <td>162899.0</td>\n",
       "      <td>436895.0</td>\n",
       "      <td>273996.0</td>\n",
       "      <td>0.009804</td>\n",
       "      <td>1</td>\n",
       "      <td>0</td>\n",
       "      <td>0</td>\n",
       "      <td>41.0</td>\n",
       "      <td>0.015280</td>\n",
       "      <td>35.834564</td>\n",
       "    </tr>\n",
       "    <tr>\n",
       "      <th>17076</th>\n",
       "      <td>1.0</td>\n",
       "      <td>2.0</td>\n",
       "      <td>888.0</td>\n",
       "      <td>33725113.0</td>\n",
       "      <td>-117901991.0</td>\n",
       "      <td>5220.0</td>\n",
       "      <td>62403.0</td>\n",
       "      <td>250218.0</td>\n",
       "      <td>187815.0</td>\n",
       "      <td>-0.012305</td>\n",
       "      <td>0</td>\n",
       "      <td>1</td>\n",
       "      <td>0</td>\n",
       "      <td>92.0</td>\n",
       "      <td>0.012228</td>\n",
       "      <td>47.934483</td>\n",
       "    </tr>\n",
       "    <tr>\n",
       "      <th>8250</th>\n",
       "      <td>3.0</td>\n",
       "      <td>4.0</td>\n",
       "      <td>2433.0</td>\n",
       "      <td>33596214.0</td>\n",
       "      <td>-117732380.0</td>\n",
       "      <td>5655.0</td>\n",
       "      <td>284730.0</td>\n",
       "      <td>345827.0</td>\n",
       "      <td>61097.0</td>\n",
       "      <td>0.045210</td>\n",
       "      <td>0</td>\n",
       "      <td>1</td>\n",
       "      <td>0</td>\n",
       "      <td>23.0</td>\n",
       "      <td>0.009769</td>\n",
       "      <td>61.154200</td>\n",
       "    </tr>\n",
       "    <tr>\n",
       "      <th>25719</th>\n",
       "      <td>3.0</td>\n",
       "      <td>5.0</td>\n",
       "      <td>2800.0</td>\n",
       "      <td>34470586.0</td>\n",
       "      <td>-118632739.0</td>\n",
       "      <td>28935.0</td>\n",
       "      <td>259916.0</td>\n",
       "      <td>375637.0</td>\n",
       "      <td>115721.0</td>\n",
       "      <td>-0.053900</td>\n",
       "      <td>1</td>\n",
       "      <td>0</td>\n",
       "      <td>0</td>\n",
       "      <td>19.0</td>\n",
       "      <td>0.014653</td>\n",
       "      <td>12.982098</td>\n",
       "    </tr>\n",
       "    <tr>\n",
       "      <th>33826</th>\n",
       "      <td>3.0</td>\n",
       "      <td>4.0</td>\n",
       "      <td>2562.0</td>\n",
       "      <td>33448945.0</td>\n",
       "      <td>-117634729.0</td>\n",
       "      <td>7564.0</td>\n",
       "      <td>225156.0</td>\n",
       "      <td>795000.0</td>\n",
       "      <td>569844.0</td>\n",
       "      <td>0.084207</td>\n",
       "      <td>0</td>\n",
       "      <td>1</td>\n",
       "      <td>0</td>\n",
       "      <td>34.0</td>\n",
       "      <td>0.010073</td>\n",
       "      <td>105.103120</td>\n",
       "    </tr>\n",
       "  </tbody>\n",
       "</table>\n",
       "</div>"
      ],
      "text/plain": [
       "       bathrooms  bedrooms  habitable_sqft    latitude    longitude  lot_sqft  \\\n",
       "47125        2.0       3.0          1855.0  34024010.0 -118103633.0   12192.0   \n",
       "17076        1.0       2.0           888.0  33725113.0 -117901991.0    5220.0   \n",
       "8250         3.0       4.0          2433.0  33596214.0 -117732380.0    5655.0   \n",
       "25719        3.0       5.0          2800.0  34470586.0 -118632739.0   28935.0   \n",
       "33826        3.0       4.0          2562.0  33448945.0 -117634729.0    7564.0   \n",
       "\n",
       "       building_tax_value  parcel_tax_value  land_tax_value  logerror  \\\n",
       "47125            162899.0          436895.0        273996.0  0.009804   \n",
       "17076             62403.0          250218.0        187815.0 -0.012305   \n",
       "8250             284730.0          345827.0         61097.0  0.045210   \n",
       "25719            259916.0          375637.0        115721.0 -0.053900   \n",
       "33826            225156.0          795000.0        569844.0  0.084207   \n",
       "\n",
       "       Los_Angeles  Orange  Ventura   age  tax_rate  value_per_sqft  \n",
       "47125            1       0        0  41.0  0.015280       35.834564  \n",
       "17076            0       1        0  92.0  0.012228       47.934483  \n",
       "8250             0       1        0  23.0  0.009769       61.154200  \n",
       "25719            1       0        0  19.0  0.014653       12.982098  \n",
       "33826            0       1        0  34.0  0.010073      105.103120  "
      ]
     },
     "execution_count": 238,
     "metadata": {},
     "output_type": "execute_result"
    }
   ],
   "source": [
    "train.head()"
   ]
  },
  {
   "cell_type": "code",
   "execution_count": 239,
   "id": "096bea83",
   "metadata": {
    "scrolled": false
   },
   "outputs": [
    {
     "data": {
      "text/plain": [
       "array([[<AxesSubplot:title={'center':'bathrooms'}>,\n",
       "        <AxesSubplot:title={'center':'bedrooms'}>,\n",
       "        <AxesSubplot:title={'center':'habitable_sqft'}>,\n",
       "        <AxesSubplot:title={'center':'latitude'}>],\n",
       "       [<AxesSubplot:title={'center':'longitude'}>,\n",
       "        <AxesSubplot:title={'center':'lot_sqft'}>,\n",
       "        <AxesSubplot:title={'center':'building_tax_value'}>,\n",
       "        <AxesSubplot:title={'center':'parcel_tax_value'}>],\n",
       "       [<AxesSubplot:title={'center':'land_tax_value'}>,\n",
       "        <AxesSubplot:title={'center':'logerror'}>,\n",
       "        <AxesSubplot:title={'center':'Los_Angeles'}>,\n",
       "        <AxesSubplot:title={'center':'Orange'}>],\n",
       "       [<AxesSubplot:title={'center':'Ventura'}>,\n",
       "        <AxesSubplot:title={'center':'age'}>,\n",
       "        <AxesSubplot:title={'center':'tax_rate'}>,\n",
       "        <AxesSubplot:title={'center':'value_per_sqft'}>]], dtype=object)"
      ]
     },
     "execution_count": 239,
     "metadata": {},
     "output_type": "execute_result"
    },
    {
     "data": {
      "image/png": "[encoded data removed]",
      "text/plain": [
       "<Figure size 1440x1224 with 16 Axes>"
      ]
     },
     "metadata": {
      "needs_background": "light"
     },
     "output_type": "display_data"
    }
   ],
   "source": [
    "# Plotting histograms to visualize the data\n",
    "train.hist(figsize=(20, 17))"
   ]
  },
  {
   "cell_type": "markdown",
   "id": "eee6bb59",
   "metadata": {},
   "source": [
    "**<font color = 'blue'>Observations</font>**\n",
    "\n",
    ">**<font color = 'blue'>The data distribution is all over the place</font>**\n",
    "\n",
    ">**<font color = 'blue'>Bathrooms, habitable_sqft, lot_sqft, building_tax_value, parcel_tax_value, land_tax_value, tax_amount, tax_rate, value_per_sqft, and logerror have the same right-skewed shape</font>**\n",
    "\n",
    ">**<font color = 'blue'>Bedrooms, latitude, longitude and age have a pseudo-normal ditribution</font>**"
   ]
  },
  {
   "cell_type": "markdown",
   "id": "dd63ab1f",
   "metadata": {},
   "source": [
    "**<font color = 'blue'>Questions and strategies</font>**\n",
    "\n",
    ">Which variable correlate more to logerror? (plot all of them together)\n",
    "\n",
    ">Which variable correlate more to each other in order to create more synthetic variables?"
   ]
  },
  {
   "cell_type": "code",
   "execution_count": 146,
   "id": "b0eaa814",
   "metadata": {},
   "outputs": [
    {
     "data": {
      "image/png": "[encoded data removed]",
      "text/plain": [
       "<Figure size 1008x504 with 1 Axes>"
      ]
     },
     "metadata": {
      "needs_background": "light"
     },
     "output_type": "display_data"
    }
   ],
   "source": [
    "# Displaying the logerror distribution\n",
    "plt.figure(figsize=(14, 7))\n",
    "\n",
    "sb.histplot(train.logerror)\n",
    "plt.title('Log Error Distribution', fontsize=12)\n",
    "plt.xlabel('Log Error')\n",
    "\n",
    "plt.show()"
   ]
  },
  {
   "cell_type": "code",
   "execution_count": 240,
   "id": "9779a002",
   "metadata": {
    "scrolled": false
   },
   "outputs": [
    {
     "data": {
      "image/png": "[encoded data removed]",
      "text/plain": [
       "<Figure size 1440x864 with 2 Axes>"
      ]
     },
     "metadata": {
      "needs_background": "light"
     },
     "output_type": "display_data"
    }
   ],
   "source": [
    "# Plotting a heatmap of the correlation between variables and the target logerror\n",
    "\n",
    "plt.figure(figsize=(20, 12))\n",
    "sb.heatmap(train.corr(), cmap='Oranges', annot=True)\n",
    "plt.title('Train data Columns Correlation', fontsize=14)\n",
    "plt.show()"
   ]
  },
  {
   "cell_type": "markdown",
   "id": "e13c8f21",
   "metadata": {},
   "source": [
    "**It does not seem to be a strong meaningful relationship between the variables that I have**\n",
    "\n",
    "**I will create a few features to help me explore the data. I will try the most wholesome groupings and not just 2 features  unless that is as wholesome as it gets (e.g. ):**\n",
    ">- Distance from the coast = longitude+latitude from a point of the coastline (this stat is imperfect but it;s what I've got)\n",
    ">- Dollar per square footage of the building+land = parcel_tax_value/lot_sqft\n",
    ">- Tax rate = tax_amount/parcel_tax_value"
   ]
  },
  {
   "cell_type": "code",
   "execution_count": 241,
   "id": "81c745df",
   "metadata": {
    "scrolled": false
   },
   "outputs": [
    {
     "data": {
      "text/plain": [
       "['bathrooms',\n",
       " 'bedrooms',\n",
       " 'habitable_sqft',\n",
       " 'latitude',\n",
       " 'longitude',\n",
       " 'lot_sqft',\n",
       " 'building_tax_value',\n",
       " 'parcel_tax_value',\n",
       " 'land_tax_value',\n",
       " 'logerror',\n",
       " 'Los_Angeles',\n",
       " 'Orange',\n",
       " 'Ventura',\n",
       " 'age',\n",
       " 'tax_rate',\n",
       " 'value_per_sqft']"
      ]
     },
     "execution_count": 241,
     "metadata": {},
     "output_type": "execute_result"
    }
   ],
   "source": [
    "train.columns.tolist()"
   ]
  },
  {
   "cell_type": "markdown",
   "id": "47a12371",
   "metadata": {},
   "source": [
    "**<font color = 'blue'>Observations</font>**\n",
    "\n",
    ">bathrooms, bedrooms, and habitable_sqft seem to correlate more to logerror\n",
    "\n",
    ">age seem to correlate more with the number of bathrooms, bedrooms, habitable_sqft, and the location of the houses?\n",
    "\n",
    "**<font color = 'blue'>Strategies</font>**\n",
    ">I will examine bathrooms, bedrooms, habitable_sqft, and age"
   ]
  },
  {
   "cell_type": "markdown",
   "id": "9c007f90",
   "metadata": {},
   "source": [
    "**<font color = 'blue'>Questions</font>**\n",
    "\n",
    ">1. Is bathrooms correlated to logerror?\n",
    "\n",
    ">2. Is berooms correlated to logerror?\n",
    "\n",
    ">3. Is habitable_sqft correlated to logerror?\n",
    "\n",
    ">4. Is Los_Angeles correlated to logerror?\n",
    "\n",
    ">5. Is Orange correlated to logerror?"
   ]
  },
  {
   "cell_type": "markdown",
   "id": "db0f5a21",
   "metadata": {},
   "source": [
    "## Bathrooms correlation to logerror"
   ]
  },
  {
   "cell_type": "code",
   "execution_count": 244,
   "id": "0c3374b9",
   "metadata": {
    "scrolled": false
   },
   "outputs": [
    {
     "data": {
      "image/png": "[encoded data removed]",
      "text/plain": [
       "<Figure size 1008x504 with 1 Axes>"
      ]
     },
     "metadata": {
      "needs_background": "light"
     },
     "output_type": "display_data"
    }
   ],
   "source": [
    "# Plotting a barplot with confidence line for bathrooms\n",
    "\n",
    "plt.figure(figsize=(14,7))\n",
    "with sb.color_palette('Blues'):\n",
    "    sb.barplot(x='bathrooms', y='logerror', data=train)\n",
    "plt.xlabel('Bathrooms Count')\n",
    "plt.ylabel('Log Error')\n",
    "plt.title('Bathrooms correlation to logerror')\n",
    "plt.show()"
   ]
  },
  {
   "cell_type": "markdown",
   "id": "59e8bb1e",
   "metadata": {},
   "source": [
    "**Homes with smaller bathroom counts (between 1 and 6) tend to produce smaller log error**\n",
    ">There are major errors with 0, 7, 7.5, 8, 9, 10 and 11\n",
    "\n",
    ">This could possibly be a driver of log error. I mark this feature for further investigation"
   ]
  },
  {
   "cell_type": "markdown",
   "id": "1257e005",
   "metadata": {},
   "source": [
    "## Bedrooms correlation to logerror"
   ]
  },
  {
   "cell_type": "code",
   "execution_count": 245,
   "id": "56443905",
   "metadata": {},
   "outputs": [
    {
     "data": {
      "image/png": "[encoded data removed]",
      "text/plain": [
       "<Figure size 1008x504 with 1 Axes>"
      ]
     },
     "metadata": {
      "needs_background": "light"
     },
     "output_type": "display_data"
    }
   ],
   "source": [
    "# Plotting a barplot with confidence line for bedrooms\n",
    "\n",
    "plt.figure(figsize=(14,7))\n",
    "with sb.color_palette('Blues'):\n",
    "    sb.barplot(x='bedrooms', y='logerror', data=train)\n",
    "plt.xlabel('Bedrooms Count')\n",
    "plt.ylabel('Log Error')\n",
    "plt.title('Bedrooms correlation to logerror')\n",
    "plt.show()"
   ]
  },
  {
   "cell_type": "markdown",
   "id": "ec250b22",
   "metadata": {},
   "source": [
    "**Homes with smaller bedroom counts (between 1 and 6) tend to produce smaller log error**\n",
    ">There are major errors with 0, 7, 8, and 9\n",
    "\n",
    ">This could possibly be a driver of log error. I mark this feature for further investigation"
   ]
  },
  {
   "cell_type": "markdown",
   "id": "7983a6e8",
   "metadata": {},
   "source": [
    "##  Habitable_sqft correlation to logerror"
   ]
  },
  {
   "cell_type": "code",
   "execution_count": null,
   "id": "75fb1322",
   "metadata": {},
   "outputs": [],
   "source": [
    "# Plotting a barplot with confidence line for habitable_sqft\n",
    "\n",
    "plt.figure(figsize=(14,7))\n",
    "with sb.color_palette('Blues'):\n",
    "    sb.barplot(x='habitable_sqft', y='logerror', data=train)\n",
    "plt.xlabel('Habitable square footage')\n",
    "plt.ylabel('Log Error')\n",
    "plt.title('Habitable square footage correlation to logerror')\n",
    "plt.show()"
   ]
  },
  {
   "cell_type": "markdown",
   "id": "9e535612",
   "metadata": {},
   "source": [
    "## Los_Angeles correlation to logerror"
   ]
  },
  {
   "cell_type": "markdown",
   "id": "558ec683",
   "metadata": {},
   "source": [
    "## Orange correlation to logerror"
   ]
  },
  {
   "cell_type": "code",
   "execution_count": null,
   "id": "1d4a409f",
   "metadata": {},
   "outputs": [],
   "source": []
  }
 ],
 "metadata": {
  "kernelspec": {
   "display_name": "Python 3 (ipykernel)",
   "language": "python",
   "name": "python3"
  },
  "language_info": {
   "codemirror_mode": {
    "name": "ipython",
    "version": 3
   },
   "file_extension": ".py",
   "mimetype": "text/x-python",
   "name": "python",
   "nbconvert_exporter": "python",
   "pygments_lexer": "ipython3",
   "version": "3.9.7"
  }
 },
 "nbformat": 4,
 "nbformat_minor": 5
}
