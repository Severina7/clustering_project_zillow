{
 "cells": [
  {
   "cell_type": "markdown",
   "id": "679eac2b",
   "metadata": {},
   "source": [
    "# The Clustering Project using Zillow data\n",
    "\n",
    "## *General background about the project*:\n",
    "\n",
    "> Clustering is an unsupervised machine learning methodology. It is used to group and identify similar observations when we do not have labels that identify the groups.\n",
    "\n",
    ">It is often a preprocessing or an exploratory step in the data science pipeline\n",
    "\n",
    "> In this project, I am using clusters to help my exploration, understanding, and modeling of the data.\n",
    "\n",
    "## *Goals*\n",
    "\n",
    ">Use clusters to help my exploration, understanding, and modeling of the Zillow data using the <ins>logerror</ins> column as a 'target' and determining the best suitable clusters that impact <ins>logerror</ins>\n",
    "\n",
    ">Logerror is the log of the error between actual home price and estimated home price\n",
    "\n",
    "\n"
   ]
  },
  {
   "cell_type": "markdown",
   "id": "1a6d6610",
   "metadata": {},
   "source": [
    "# Acquire"
   ]
  },
  {
   "cell_type": "code",
   "execution_count": 100,
   "id": "fdef3887",
   "metadata": {},
   "outputs": [],
   "source": [
    "# Importing librairies for general use and visuals\n",
    "import pandas as pd\n",
    "import numpy as np\n",
    "import matplotlib.pyplot as plt\n",
    "import seaborn as sb\n",
    "import scipy.stats as stats\n",
    "import sklearn.preprocessing\n",
    "import sklearn.model_selection\n",
    "import sklearn.impute\n",
    "import os\n",
    "\n",
    "# Importing modules\n",
    "import wrangle\n",
    "import prep\n",
    "import split_scale\n",
    "import cluster_model\n",
    "from env import host, user, password\n",
    "\n",
    "# Importing modules for modeling\n",
    "from sklearn.impute import KNNImputer\n",
    "from sklearn.model_selection import train_test_split\n",
    "from sklearn.preprocessing import MinMaxScaler\n",
    "from sklearn.cluster import KMeans, dbscan"
   ]
  },
  {
   "cell_type": "markdown",
   "id": "bf7a8a98",
   "metadata": {},
   "source": [
    "**I imported specific usefulcolumns based on the experience I had using this dataframe in previous assignment from the data science team**"
   ]
  },
  {
   "cell_type": "code",
   "execution_count": 2,
   "id": "3d996e1f",
   "metadata": {
    "collapsed": true
   },
   "outputs": [
    {
     "data": {
      "text/html": [
       "<div>\n",
       "<style scoped>\n",
       "    .dataframe tbody tr th:only-of-type {\n",
       "        vertical-align: middle;\n",
       "    }\n",
       "\n",
       "    .dataframe tbody tr th {\n",
       "        vertical-align: top;\n",
       "    }\n",
       "\n",
       "    .dataframe thead th {\n",
       "        text-align: right;\n",
       "    }\n",
       "</style>\n",
       "<table border=\"1\" class=\"dataframe\">\n",
       "  <thead>\n",
       "    <tr style=\"text-align: right;\">\n",
       "      <th></th>\n",
       "      <th>parcelid</th>\n",
       "      <th>bathroomcnt</th>\n",
       "      <th>bedroomcnt</th>\n",
       "      <th>calculatedfinishedsquarefeet</th>\n",
       "      <th>fips</th>\n",
       "      <th>latitude</th>\n",
       "      <th>longitude</th>\n",
       "      <th>lotsizesquarefeet</th>\n",
       "      <th>yearbuilt</th>\n",
       "      <th>structuretaxvaluedollarcnt</th>\n",
       "      <th>taxvaluedollarcnt</th>\n",
       "      <th>landtaxvaluedollarcnt</th>\n",
       "      <th>taxamount</th>\n",
       "      <th>logerror</th>\n",
       "      <th>transactiondate</th>\n",
       "    </tr>\n",
       "  </thead>\n",
       "  <tbody>\n",
       "    <tr>\n",
       "      <th>0</th>\n",
       "      <td>14297519</td>\n",
       "      <td>3.5</td>\n",
       "      <td>4.0</td>\n",
       "      <td>3100.0</td>\n",
       "      <td>6059.0</td>\n",
       "      <td>33634931.0</td>\n",
       "      <td>-117869207.0</td>\n",
       "      <td>4506.0</td>\n",
       "      <td>1998.0</td>\n",
       "      <td>485713.0</td>\n",
       "      <td>1023282.0</td>\n",
       "      <td>537569.0</td>\n",
       "      <td>11013.72</td>\n",
       "      <td>0.025595</td>\n",
       "      <td>2017-01-01</td>\n",
       "    </tr>\n",
       "    <tr>\n",
       "      <th>1</th>\n",
       "      <td>17052889</td>\n",
       "      <td>1.0</td>\n",
       "      <td>2.0</td>\n",
       "      <td>1465.0</td>\n",
       "      <td>6111.0</td>\n",
       "      <td>34449266.0</td>\n",
       "      <td>-119281531.0</td>\n",
       "      <td>12647.0</td>\n",
       "      <td>1967.0</td>\n",
       "      <td>88000.0</td>\n",
       "      <td>464000.0</td>\n",
       "      <td>376000.0</td>\n",
       "      <td>5672.48</td>\n",
       "      <td>0.055619</td>\n",
       "      <td>2017-01-01</td>\n",
       "    </tr>\n",
       "    <tr>\n",
       "      <th>2</th>\n",
       "      <td>14186244</td>\n",
       "      <td>2.0</td>\n",
       "      <td>3.0</td>\n",
       "      <td>1243.0</td>\n",
       "      <td>6059.0</td>\n",
       "      <td>33886168.0</td>\n",
       "      <td>-117823170.0</td>\n",
       "      <td>8432.0</td>\n",
       "      <td>1962.0</td>\n",
       "      <td>85289.0</td>\n",
       "      <td>564778.0</td>\n",
       "      <td>479489.0</td>\n",
       "      <td>6488.30</td>\n",
       "      <td>0.005383</td>\n",
       "      <td>2017-01-01</td>\n",
       "    </tr>\n",
       "    <tr>\n",
       "      <th>3</th>\n",
       "      <td>12177905</td>\n",
       "      <td>3.0</td>\n",
       "      <td>4.0</td>\n",
       "      <td>2376.0</td>\n",
       "      <td>6037.0</td>\n",
       "      <td>34245180.0</td>\n",
       "      <td>-118240722.0</td>\n",
       "      <td>13038.0</td>\n",
       "      <td>1970.0</td>\n",
       "      <td>108918.0</td>\n",
       "      <td>145143.0</td>\n",
       "      <td>36225.0</td>\n",
       "      <td>1777.51</td>\n",
       "      <td>-0.103410</td>\n",
       "      <td>2017-01-01</td>\n",
       "    </tr>\n",
       "    <tr>\n",
       "      <th>4</th>\n",
       "      <td>10887214</td>\n",
       "      <td>3.0</td>\n",
       "      <td>3.0</td>\n",
       "      <td>1312.0</td>\n",
       "      <td>6037.0</td>\n",
       "      <td>34185120.0</td>\n",
       "      <td>-118414640.0</td>\n",
       "      <td>278581.0</td>\n",
       "      <td>1964.0</td>\n",
       "      <td>73681.0</td>\n",
       "      <td>119407.0</td>\n",
       "      <td>45726.0</td>\n",
       "      <td>1533.89</td>\n",
       "      <td>0.006940</td>\n",
       "      <td>2017-01-01</td>\n",
       "    </tr>\n",
       "  </tbody>\n",
       "</table>\n",
       "</div>"
      ],
      "text/plain": [
       "   parcelid  bathroomcnt  bedroomcnt  calculatedfinishedsquarefeet    fips  \\\n",
       "0  14297519          3.5         4.0                        3100.0  6059.0   \n",
       "1  17052889          1.0         2.0                        1465.0  6111.0   \n",
       "2  14186244          2.0         3.0                        1243.0  6059.0   \n",
       "3  12177905          3.0         4.0                        2376.0  6037.0   \n",
       "4  10887214          3.0         3.0                        1312.0  6037.0   \n",
       "\n",
       "     latitude    longitude  lotsizesquarefeet  yearbuilt  \\\n",
       "0  33634931.0 -117869207.0             4506.0     1998.0   \n",
       "1  34449266.0 -119281531.0            12647.0     1967.0   \n",
       "2  33886168.0 -117823170.0             8432.0     1962.0   \n",
       "3  34245180.0 -118240722.0            13038.0     1970.0   \n",
       "4  34185120.0 -118414640.0           278581.0     1964.0   \n",
       "\n",
       "   structuretaxvaluedollarcnt  taxvaluedollarcnt  landtaxvaluedollarcnt  \\\n",
       "0                    485713.0          1023282.0               537569.0   \n",
       "1                     88000.0           464000.0               376000.0   \n",
       "2                     85289.0           564778.0               479489.0   \n",
       "3                    108918.0           145143.0                36225.0   \n",
       "4                     73681.0           119407.0                45726.0   \n",
       "\n",
       "   taxamount  logerror transactiondate  \n",
       "0   11013.72  0.025595      2017-01-01  \n",
       "1    5672.48  0.055619      2017-01-01  \n",
       "2    6488.30  0.005383      2017-01-01  \n",
       "3    1777.51 -0.103410      2017-01-01  \n",
       "4    1533.89  0.006940      2017-01-01  "
      ]
     },
     "execution_count": 2,
     "metadata": {},
     "output_type": "execute_result"
    }
   ],
   "source": [
    "# Assigning the dataframe to a variable after accessing\n",
    "# the data through wrangle.get_zillow_data()\n",
    "# and displaying it to have a first look\n",
    "\n",
    "houses = wrangle.get_zillow_data()\n",
    "houses.head()"
   ]
  },
  {
   "cell_type": "code",
   "execution_count": 3,
   "id": "4a2ded87",
   "metadata": {
    "collapsed": true
   },
   "outputs": [
    {
     "name": "stdout",
     "output_type": "stream",
     "text": [
      "Shape: (77579, 15) \n",
      "\n",
      "##########\n",
      "\n",
      "\n",
      "Info\n",
      "<class 'pandas.core.frame.DataFrame'>\n",
      "RangeIndex: 77579 entries, 0 to 77578\n",
      "Data columns (total 15 columns):\n",
      " #   Column                        Non-Null Count  Dtype  \n",
      "---  ------                        --------------  -----  \n",
      " 0   parcelid                      77579 non-null  int64  \n",
      " 1   bathroomcnt                   77579 non-null  float64\n",
      " 2   bedroomcnt                    77579 non-null  float64\n",
      " 3   calculatedfinishedsquarefeet  77378 non-null  float64\n",
      " 4   fips                          77579 non-null  float64\n",
      " 5   latitude                      77579 non-null  float64\n",
      " 6   longitude                     77579 non-null  float64\n",
      " 7   lotsizesquarefeet             69321 non-null  float64\n",
      " 8   yearbuilt                     77309 non-null  float64\n",
      " 9   structuretaxvaluedollarcnt    77464 non-null  float64\n",
      " 10  taxvaluedollarcnt             77578 non-null  float64\n",
      " 11  landtaxvaluedollarcnt         77577 non-null  float64\n",
      " 12  taxamount                     77574 non-null  float64\n",
      " 13  logerror                      77579 non-null  float64\n",
      " 14  transactiondate               77579 non-null  object \n",
      "dtypes: float64(13), int64(1), object(1)\n",
      "memory usage: 8.9+ MB\n",
      "\n",
      "\n",
      "##########\n",
      "\n",
      "\n",
      "Statistical description\n",
      "\n",
      "                                count unique         top  freq  \\\n",
      "parcelid                      77579.0    NaN         NaN   NaN   \n",
      "bathroomcnt                   77579.0    NaN         NaN   NaN   \n",
      "bedroomcnt                    77579.0    NaN         NaN   NaN   \n",
      "calculatedfinishedsquarefeet  77378.0    NaN         NaN   NaN   \n",
      "fips                          77579.0    NaN         NaN   NaN   \n",
      "latitude                      77579.0    NaN         NaN   NaN   \n",
      "longitude                     77579.0    NaN         NaN   NaN   \n",
      "lotsizesquarefeet             69321.0    NaN         NaN   NaN   \n",
      "yearbuilt                     77309.0    NaN         NaN   NaN   \n",
      "structuretaxvaluedollarcnt    77464.0    NaN         NaN   NaN   \n",
      "taxvaluedollarcnt             77578.0    NaN         NaN   NaN   \n",
      "landtaxvaluedollarcnt         77577.0    NaN         NaN   NaN   \n",
      "taxamount                     77574.0    NaN         NaN   NaN   \n",
      "logerror                      77579.0    NaN         NaN   NaN   \n",
      "transactiondate                 77579    264  2017-06-30  1194   \n",
      "\n",
      "                                          mean             std          min  \\\n",
      "parcelid                       13008278.059552  3519398.645713   10711855.0   \n",
      "bathroomcnt                           2.298496        0.996732          0.0   \n",
      "bedroomcnt                            3.053223         1.14048          0.0   \n",
      "calculatedfinishedsquarefeet       1784.935421      954.250373        128.0   \n",
      "fips                               6048.814151       20.747252       6037.0   \n",
      "latitude                       34008369.060622   265287.311842   33339527.0   \n",
      "longitude                    -118203733.200969   359408.473908 -119475416.0   \n",
      "lotsizesquarefeet                  29973.43701   123305.048685        236.0   \n",
      "yearbuilt                          1968.611507       23.793171       1824.0   \n",
      "structuretaxvaluedollarcnt       189281.084594    230410.68331         44.0   \n",
      "taxvaluedollarcnt                490150.588891   653797.859628       1000.0   \n",
      "landtaxvaluedollarcnt            301151.532645   492724.916224        161.0   \n",
      "taxamount                          5995.961788     7628.859728        19.92   \n",
      "logerror                              0.016803        0.170738     -4.65542   \n",
      "transactiondate                            NaN             NaN          NaN   \n",
      "\n",
      "                                      25%          50%          75%  \\\n",
      "parcelid                       11538198.0   12530543.0   14211357.5   \n",
      "bathroomcnt                           2.0          2.0          3.0   \n",
      "bedroomcnt                            2.0          3.0          4.0   \n",
      "calculatedfinishedsquarefeet       1182.0       1542.0       2112.0   \n",
      "fips                               6037.0       6037.0       6059.0   \n",
      "latitude                       33814629.0   34022000.0   34174313.0   \n",
      "longitude                    -118415007.0 -118181000.0 -117928642.5   \n",
      "lotsizesquarefeet                  5700.0       7206.0      11837.0   \n",
      "yearbuilt                          1953.0       1970.0       1987.0   \n",
      "structuretaxvaluedollarcnt       84179.25     136404.5     218734.0   \n",
      "taxvaluedollarcnt                206898.5     358878.5     569000.0   \n",
      "landtaxvaluedollarcnt             85293.0     203188.0     366753.0   \n",
      "taxamount                         2712.63     4448.265    6926.9175   \n",
      "logerror                        -0.024309     0.006676     0.039291   \n",
      "transactiondate                       NaN          NaN          NaN   \n",
      "\n",
      "                                      max  \n",
      "parcelid                      167689317.0  \n",
      "bathroomcnt                          18.0  \n",
      "bedroomcnt                           16.0  \n",
      "calculatedfinishedsquarefeet      35640.0  \n",
      "fips                               6111.0  \n",
      "latitude                       34818767.0  \n",
      "longitude                    -117554636.0  \n",
      "lotsizesquarefeet               6971010.0  \n",
      "yearbuilt                          2016.0  \n",
      "structuretaxvaluedollarcnt     11421790.0  \n",
      "taxvaluedollarcnt              49061236.0  \n",
      "landtaxvaluedollarcnt          48952198.0  \n",
      "taxamount                        586639.3  \n",
      "logerror                         5.262999  \n",
      "transactiondate                       NaN  \n"
     ]
    }
   ],
   "source": [
    "# Displaying general information and\n",
    "# statistical summary about the data\n",
    "\n",
    "wrangle.summarize(houses)"
   ]
  },
  {
   "cell_type": "markdown",
   "id": "52472433",
   "metadata": {},
   "source": [
    "****"
   ]
  },
  {
   "cell_type": "markdown",
   "id": "89732e8b",
   "metadata": {},
   "source": [
    "# Prepare"
   ]
  },
  {
   "cell_type": "code",
   "execution_count": 4,
   "id": "ce54228e",
   "metadata": {},
   "outputs": [
    {
     "data": {
      "text/html": [
       "<div>\n",
       "<style scoped>\n",
       "    .dataframe tbody tr th:only-of-type {\n",
       "        vertical-align: middle;\n",
       "    }\n",
       "\n",
       "    .dataframe tbody tr th {\n",
       "        vertical-align: top;\n",
       "    }\n",
       "\n",
       "    .dataframe thead th {\n",
       "        text-align: right;\n",
       "    }\n",
       "</style>\n",
       "<table border=\"1\" class=\"dataframe\">\n",
       "  <thead>\n",
       "    <tr style=\"text-align: right;\">\n",
       "      <th></th>\n",
       "      <th>num_rows_missing</th>\n",
       "      <th>pct_rows_missing</th>\n",
       "    </tr>\n",
       "  </thead>\n",
       "  <tbody>\n",
       "    <tr>\n",
       "      <th>parcelid</th>\n",
       "      <td>0</td>\n",
       "      <td>0.000000</td>\n",
       "    </tr>\n",
       "    <tr>\n",
       "      <th>bathroomcnt</th>\n",
       "      <td>0</td>\n",
       "      <td>0.000000</td>\n",
       "    </tr>\n",
       "    <tr>\n",
       "      <th>bedroomcnt</th>\n",
       "      <td>0</td>\n",
       "      <td>0.000000</td>\n",
       "    </tr>\n",
       "    <tr>\n",
       "      <th>calculatedfinishedsquarefeet</th>\n",
       "      <td>201</td>\n",
       "      <td>0.259091</td>\n",
       "    </tr>\n",
       "    <tr>\n",
       "      <th>fips</th>\n",
       "      <td>0</td>\n",
       "      <td>0.000000</td>\n",
       "    </tr>\n",
       "    <tr>\n",
       "      <th>latitude</th>\n",
       "      <td>0</td>\n",
       "      <td>0.000000</td>\n",
       "    </tr>\n",
       "    <tr>\n",
       "      <th>longitude</th>\n",
       "      <td>0</td>\n",
       "      <td>0.000000</td>\n",
       "    </tr>\n",
       "    <tr>\n",
       "      <th>lotsizesquarefeet</th>\n",
       "      <td>8258</td>\n",
       "      <td>10.644633</td>\n",
       "    </tr>\n",
       "    <tr>\n",
       "      <th>yearbuilt</th>\n",
       "      <td>270</td>\n",
       "      <td>0.348032</td>\n",
       "    </tr>\n",
       "    <tr>\n",
       "      <th>structuretaxvaluedollarcnt</th>\n",
       "      <td>115</td>\n",
       "      <td>0.148236</td>\n",
       "    </tr>\n",
       "    <tr>\n",
       "      <th>taxvaluedollarcnt</th>\n",
       "      <td>1</td>\n",
       "      <td>0.001289</td>\n",
       "    </tr>\n",
       "    <tr>\n",
       "      <th>landtaxvaluedollarcnt</th>\n",
       "      <td>2</td>\n",
       "      <td>0.002578</td>\n",
       "    </tr>\n",
       "    <tr>\n",
       "      <th>taxamount</th>\n",
       "      <td>5</td>\n",
       "      <td>0.006445</td>\n",
       "    </tr>\n",
       "    <tr>\n",
       "      <th>logerror</th>\n",
       "      <td>0</td>\n",
       "      <td>0.000000</td>\n",
       "    </tr>\n",
       "    <tr>\n",
       "      <th>transactiondate</th>\n",
       "      <td>0</td>\n",
       "      <td>0.000000</td>\n",
       "    </tr>\n",
       "  </tbody>\n",
       "</table>\n",
       "</div>"
      ],
      "text/plain": [
       "                              num_rows_missing  pct_rows_missing\n",
       "parcelid                                     0          0.000000\n",
       "bathroomcnt                                  0          0.000000\n",
       "bedroomcnt                                   0          0.000000\n",
       "calculatedfinishedsquarefeet               201          0.259091\n",
       "fips                                         0          0.000000\n",
       "latitude                                     0          0.000000\n",
       "longitude                                    0          0.000000\n",
       "lotsizesquarefeet                         8258         10.644633\n",
       "yearbuilt                                  270          0.348032\n",
       "structuretaxvaluedollarcnt                 115          0.148236\n",
       "taxvaluedollarcnt                            1          0.001289\n",
       "landtaxvaluedollarcnt                        2          0.002578\n",
       "taxamount                                    5          0.006445\n",
       "logerror                                     0          0.000000\n",
       "transactiondate                              0          0.000000"
      ]
     },
     "execution_count": 4,
     "metadata": {},
     "output_type": "execute_result"
    }
   ],
   "source": [
    "# Displaying the number of rows missing and their perecentage\n",
    "\n",
    "prep.multi_frequency(houses, houses.columns)"
   ]
  },
  {
   "cell_type": "code",
   "execution_count": 5,
   "id": "957b7a82",
   "metadata": {},
   "outputs": [],
   "source": [
    "# Imputing values to some of the missing entries through KNN (n_neighbor=1)\n",
    "# and dropping the ones that are left\n",
    "\n",
    "houses_renamed = prep.handle_missing_values(houses)"
   ]
  },
  {
   "cell_type": "code",
   "execution_count": 6,
   "id": "094d76ca",
   "metadata": {},
   "outputs": [
    {
     "data": {
      "text/plain": [
       "(69044, 15)"
      ]
     },
     "execution_count": 6,
     "metadata": {},
     "output_type": "execute_result"
    }
   ],
   "source": [
    "# Checking the shape of the dataframe\n",
    "\n",
    "houses_renamed.shape"
   ]
  },
  {
   "cell_type": "code",
   "execution_count": 7,
   "id": "64b3836e",
   "metadata": {},
   "outputs": [
    {
     "data": {
      "text/plain": [
       "parcelid                        0\n",
       "bathroomcnt                     0\n",
       "bedroomcnt                      0\n",
       "calculatedfinishedsquarefeet    0\n",
       "fips                            0\n",
       "latitude                        0\n",
       "longitude                       0\n",
       "lotsizesquarefeet               0\n",
       "yearbuilt                       0\n",
       "structuretaxvaluedollarcnt      0\n",
       "taxvaluedollarcnt               0\n",
       "landtaxvaluedollarcnt           0\n",
       "taxamount                       0\n",
       "logerror                        0\n",
       "transactiondate                 0\n",
       "dtype: int64"
      ]
     },
     "execution_count": 7,
     "metadata": {},
     "output_type": "execute_result"
    }
   ],
   "source": [
    "# Confirming that there are no nulls\n",
    "\n",
    "houses_renamed.isnull().sum()"
   ]
  },
  {
   "cell_type": "code",
   "execution_count": 8,
   "id": "a714e820",
   "metadata": {
    "scrolled": false
   },
   "outputs": [],
   "source": [
    "# Creating df with counties as booleans\n",
    "# Dropping columns\n",
    "# Calculating age of houses\n",
    "# Renaming columns\n",
    "\n",
    "houses_renamed2 = prep.prepare_zillow(houses_renamed)"
   ]
  },
  {
   "cell_type": "code",
   "execution_count": 9,
   "id": "dc6920c3",
   "metadata": {
    "scrolled": true
   },
   "outputs": [
    {
     "data": {
      "text/html": [
       "<div>\n",
       "<style scoped>\n",
       "    .dataframe tbody tr th:only-of-type {\n",
       "        vertical-align: middle;\n",
       "    }\n",
       "\n",
       "    .dataframe tbody tr th {\n",
       "        vertical-align: top;\n",
       "    }\n",
       "\n",
       "    .dataframe thead th {\n",
       "        text-align: right;\n",
       "    }\n",
       "</style>\n",
       "<table border=\"1\" class=\"dataframe\">\n",
       "  <thead>\n",
       "    <tr style=\"text-align: right;\">\n",
       "      <th></th>\n",
       "      <th>bathrooms</th>\n",
       "      <th>bedrooms</th>\n",
       "      <th>habitable_sqft</th>\n",
       "      <th>latitude</th>\n",
       "      <th>longitude</th>\n",
       "      <th>lot_sqft</th>\n",
       "      <th>building_tax_value</th>\n",
       "      <th>parcel_tax_value</th>\n",
       "      <th>land_tax_value</th>\n",
       "      <th>tax_amount</th>\n",
       "      <th>logerror</th>\n",
       "      <th>Los_Angeles</th>\n",
       "      <th>Orange</th>\n",
       "      <th>Ventura</th>\n",
       "      <th>age</th>\n",
       "    </tr>\n",
       "  </thead>\n",
       "  <tbody>\n",
       "    <tr>\n",
       "      <th>0</th>\n",
       "      <td>3.5</td>\n",
       "      <td>4.0</td>\n",
       "      <td>3100.0</td>\n",
       "      <td>33634931.0</td>\n",
       "      <td>-117869207.0</td>\n",
       "      <td>4506.0</td>\n",
       "      <td>485713.0</td>\n",
       "      <td>1023282.0</td>\n",
       "      <td>537569.0</td>\n",
       "      <td>11013.72</td>\n",
       "      <td>0.025595</td>\n",
       "      <td>0</td>\n",
       "      <td>1</td>\n",
       "      <td>0</td>\n",
       "      <td>19.0</td>\n",
       "    </tr>\n",
       "    <tr>\n",
       "      <th>1</th>\n",
       "      <td>1.0</td>\n",
       "      <td>2.0</td>\n",
       "      <td>1465.0</td>\n",
       "      <td>34449266.0</td>\n",
       "      <td>-119281531.0</td>\n",
       "      <td>12647.0</td>\n",
       "      <td>88000.0</td>\n",
       "      <td>464000.0</td>\n",
       "      <td>376000.0</td>\n",
       "      <td>5672.48</td>\n",
       "      <td>0.055619</td>\n",
       "      <td>0</td>\n",
       "      <td>0</td>\n",
       "      <td>1</td>\n",
       "      <td>50.0</td>\n",
       "    </tr>\n",
       "    <tr>\n",
       "      <th>2</th>\n",
       "      <td>2.0</td>\n",
       "      <td>3.0</td>\n",
       "      <td>1243.0</td>\n",
       "      <td>33886168.0</td>\n",
       "      <td>-117823170.0</td>\n",
       "      <td>8432.0</td>\n",
       "      <td>85289.0</td>\n",
       "      <td>564778.0</td>\n",
       "      <td>479489.0</td>\n",
       "      <td>6488.30</td>\n",
       "      <td>0.005383</td>\n",
       "      <td>0</td>\n",
       "      <td>1</td>\n",
       "      <td>0</td>\n",
       "      <td>55.0</td>\n",
       "    </tr>\n",
       "    <tr>\n",
       "      <th>3</th>\n",
       "      <td>3.0</td>\n",
       "      <td>4.0</td>\n",
       "      <td>2376.0</td>\n",
       "      <td>34245180.0</td>\n",
       "      <td>-118240722.0</td>\n",
       "      <td>13038.0</td>\n",
       "      <td>108918.0</td>\n",
       "      <td>145143.0</td>\n",
       "      <td>36225.0</td>\n",
       "      <td>1777.51</td>\n",
       "      <td>-0.103410</td>\n",
       "      <td>1</td>\n",
       "      <td>0</td>\n",
       "      <td>0</td>\n",
       "      <td>47.0</td>\n",
       "    </tr>\n",
       "    <tr>\n",
       "      <th>4</th>\n",
       "      <td>3.0</td>\n",
       "      <td>3.0</td>\n",
       "      <td>1312.0</td>\n",
       "      <td>34185120.0</td>\n",
       "      <td>-118414640.0</td>\n",
       "      <td>278581.0</td>\n",
       "      <td>73681.0</td>\n",
       "      <td>119407.0</td>\n",
       "      <td>45726.0</td>\n",
       "      <td>1533.89</td>\n",
       "      <td>0.006940</td>\n",
       "      <td>1</td>\n",
       "      <td>0</td>\n",
       "      <td>0</td>\n",
       "      <td>53.0</td>\n",
       "    </tr>\n",
       "  </tbody>\n",
       "</table>\n",
       "</div>"
      ],
      "text/plain": [
       "   bathrooms  bedrooms  habitable_sqft    latitude    longitude  lot_sqft  \\\n",
       "0        3.5       4.0          3100.0  33634931.0 -117869207.0    4506.0   \n",
       "1        1.0       2.0          1465.0  34449266.0 -119281531.0   12647.0   \n",
       "2        2.0       3.0          1243.0  33886168.0 -117823170.0    8432.0   \n",
       "3        3.0       4.0          2376.0  34245180.0 -118240722.0   13038.0   \n",
       "4        3.0       3.0          1312.0  34185120.0 -118414640.0  278581.0   \n",
       "\n",
       "   building_tax_value  parcel_tax_value  land_tax_value  tax_amount  logerror  \\\n",
       "0            485713.0         1023282.0        537569.0    11013.72  0.025595   \n",
       "1             88000.0          464000.0        376000.0     5672.48  0.055619   \n",
       "2             85289.0          564778.0        479489.0     6488.30  0.005383   \n",
       "3            108918.0          145143.0         36225.0     1777.51 -0.103410   \n",
       "4             73681.0          119407.0         45726.0     1533.89  0.006940   \n",
       "\n",
       "   Los_Angeles  Orange  Ventura   age  \n",
       "0            0       1        0  19.0  \n",
       "1            0       0        1  50.0  \n",
       "2            0       1        0  55.0  \n",
       "3            1       0        0  47.0  \n",
       "4            1       0        0  53.0  "
      ]
     },
     "execution_count": 9,
     "metadata": {},
     "output_type": "execute_result"
    }
   ],
   "source": [
    "houses_renamed2.head()"
   ]
  },
  {
   "cell_type": "code",
   "execution_count": 10,
   "id": "eaa46adf",
   "metadata": {},
   "outputs": [],
   "source": [
    "houses_synt = prep.tax_rate(houses_renamed2)"
   ]
  },
  {
   "cell_type": "code",
   "execution_count": 11,
   "id": "744a8cd1",
   "metadata": {},
   "outputs": [
    {
     "data": {
      "text/html": [
       "<div>\n",
       "<style scoped>\n",
       "    .dataframe tbody tr th:only-of-type {\n",
       "        vertical-align: middle;\n",
       "    }\n",
       "\n",
       "    .dataframe tbody tr th {\n",
       "        vertical-align: top;\n",
       "    }\n",
       "\n",
       "    .dataframe thead th {\n",
       "        text-align: right;\n",
       "    }\n",
       "</style>\n",
       "<table border=\"1\" class=\"dataframe\">\n",
       "  <thead>\n",
       "    <tr style=\"text-align: right;\">\n",
       "      <th></th>\n",
       "      <th>bathrooms</th>\n",
       "      <th>bedrooms</th>\n",
       "      <th>habitable_sqft</th>\n",
       "      <th>latitude</th>\n",
       "      <th>longitude</th>\n",
       "      <th>lot_sqft</th>\n",
       "      <th>building_tax_value</th>\n",
       "      <th>parcel_tax_value</th>\n",
       "      <th>land_tax_value</th>\n",
       "      <th>logerror</th>\n",
       "      <th>Los_Angeles</th>\n",
       "      <th>Orange</th>\n",
       "      <th>Ventura</th>\n",
       "      <th>age</th>\n",
       "      <th>tax_rate</th>\n",
       "    </tr>\n",
       "  </thead>\n",
       "  <tbody>\n",
       "    <tr>\n",
       "      <th>0</th>\n",
       "      <td>3.5</td>\n",
       "      <td>4.0</td>\n",
       "      <td>3100.0</td>\n",
       "      <td>33634931.0</td>\n",
       "      <td>-117869207.0</td>\n",
       "      <td>4506.0</td>\n",
       "      <td>485713.0</td>\n",
       "      <td>1023282.0</td>\n",
       "      <td>537569.0</td>\n",
       "      <td>0.025595</td>\n",
       "      <td>0</td>\n",
       "      <td>1</td>\n",
       "      <td>0</td>\n",
       "      <td>19.0</td>\n",
       "      <td>0.010763</td>\n",
       "    </tr>\n",
       "    <tr>\n",
       "      <th>1</th>\n",
       "      <td>1.0</td>\n",
       "      <td>2.0</td>\n",
       "      <td>1465.0</td>\n",
       "      <td>34449266.0</td>\n",
       "      <td>-119281531.0</td>\n",
       "      <td>12647.0</td>\n",
       "      <td>88000.0</td>\n",
       "      <td>464000.0</td>\n",
       "      <td>376000.0</td>\n",
       "      <td>0.055619</td>\n",
       "      <td>0</td>\n",
       "      <td>0</td>\n",
       "      <td>1</td>\n",
       "      <td>50.0</td>\n",
       "      <td>0.012225</td>\n",
       "    </tr>\n",
       "    <tr>\n",
       "      <th>2</th>\n",
       "      <td>2.0</td>\n",
       "      <td>3.0</td>\n",
       "      <td>1243.0</td>\n",
       "      <td>33886168.0</td>\n",
       "      <td>-117823170.0</td>\n",
       "      <td>8432.0</td>\n",
       "      <td>85289.0</td>\n",
       "      <td>564778.0</td>\n",
       "      <td>479489.0</td>\n",
       "      <td>0.005383</td>\n",
       "      <td>0</td>\n",
       "      <td>1</td>\n",
       "      <td>0</td>\n",
       "      <td>55.0</td>\n",
       "      <td>0.011488</td>\n",
       "    </tr>\n",
       "    <tr>\n",
       "      <th>3</th>\n",
       "      <td>3.0</td>\n",
       "      <td>4.0</td>\n",
       "      <td>2376.0</td>\n",
       "      <td>34245180.0</td>\n",
       "      <td>-118240722.0</td>\n",
       "      <td>13038.0</td>\n",
       "      <td>108918.0</td>\n",
       "      <td>145143.0</td>\n",
       "      <td>36225.0</td>\n",
       "      <td>-0.103410</td>\n",
       "      <td>1</td>\n",
       "      <td>0</td>\n",
       "      <td>0</td>\n",
       "      <td>47.0</td>\n",
       "      <td>0.012247</td>\n",
       "    </tr>\n",
       "    <tr>\n",
       "      <th>4</th>\n",
       "      <td>3.0</td>\n",
       "      <td>3.0</td>\n",
       "      <td>1312.0</td>\n",
       "      <td>34185120.0</td>\n",
       "      <td>-118414640.0</td>\n",
       "      <td>278581.0</td>\n",
       "      <td>73681.0</td>\n",
       "      <td>119407.0</td>\n",
       "      <td>45726.0</td>\n",
       "      <td>0.006940</td>\n",
       "      <td>1</td>\n",
       "      <td>0</td>\n",
       "      <td>0</td>\n",
       "      <td>53.0</td>\n",
       "      <td>0.012846</td>\n",
       "    </tr>\n",
       "  </tbody>\n",
       "</table>\n",
       "</div>"
      ],
      "text/plain": [
       "   bathrooms  bedrooms  habitable_sqft    latitude    longitude  lot_sqft  \\\n",
       "0        3.5       4.0          3100.0  33634931.0 -117869207.0    4506.0   \n",
       "1        1.0       2.0          1465.0  34449266.0 -119281531.0   12647.0   \n",
       "2        2.0       3.0          1243.0  33886168.0 -117823170.0    8432.0   \n",
       "3        3.0       4.0          2376.0  34245180.0 -118240722.0   13038.0   \n",
       "4        3.0       3.0          1312.0  34185120.0 -118414640.0  278581.0   \n",
       "\n",
       "   building_tax_value  parcel_tax_value  land_tax_value  logerror  \\\n",
       "0            485713.0         1023282.0        537569.0  0.025595   \n",
       "1             88000.0          464000.0        376000.0  0.055619   \n",
       "2             85289.0          564778.0        479489.0  0.005383   \n",
       "3            108918.0          145143.0         36225.0 -0.103410   \n",
       "4             73681.0          119407.0         45726.0  0.006940   \n",
       "\n",
       "   Los_Angeles  Orange  Ventura   age  tax_rate  \n",
       "0            0       1        0  19.0  0.010763  \n",
       "1            0       0        1  50.0  0.012225  \n",
       "2            0       1        0  55.0  0.011488  \n",
       "3            1       0        0  47.0  0.012247  \n",
       "4            1       0        0  53.0  0.012846  "
      ]
     },
     "execution_count": 11,
     "metadata": {},
     "output_type": "execute_result"
    }
   ],
   "source": [
    "houses_synt.head()"
   ]
  },
  {
   "cell_type": "code",
   "execution_count": 13,
   "id": "e69b3d88",
   "metadata": {},
   "outputs": [],
   "source": [
    "houses_synt2 = prep.value_per_sqft(houses_synt)"
   ]
  },
  {
   "cell_type": "code",
   "execution_count": 14,
   "id": "97885313",
   "metadata": {},
   "outputs": [
    {
     "data": {
      "text/html": [
       "<div>\n",
       "<style scoped>\n",
       "    .dataframe tbody tr th:only-of-type {\n",
       "        vertical-align: middle;\n",
       "    }\n",
       "\n",
       "    .dataframe tbody tr th {\n",
       "        vertical-align: top;\n",
       "    }\n",
       "\n",
       "    .dataframe thead th {\n",
       "        text-align: right;\n",
       "    }\n",
       "</style>\n",
       "<table border=\"1\" class=\"dataframe\">\n",
       "  <thead>\n",
       "    <tr style=\"text-align: right;\">\n",
       "      <th></th>\n",
       "      <th>bathrooms</th>\n",
       "      <th>bedrooms</th>\n",
       "      <th>habitable_sqft</th>\n",
       "      <th>latitude</th>\n",
       "      <th>longitude</th>\n",
       "      <th>lot_sqft</th>\n",
       "      <th>building_tax_value</th>\n",
       "      <th>parcel_tax_value</th>\n",
       "      <th>land_tax_value</th>\n",
       "      <th>logerror</th>\n",
       "      <th>Los_Angeles</th>\n",
       "      <th>Orange</th>\n",
       "      <th>Ventura</th>\n",
       "      <th>age</th>\n",
       "      <th>tax_rate</th>\n",
       "      <th>value_per_sqft</th>\n",
       "    </tr>\n",
       "  </thead>\n",
       "  <tbody>\n",
       "    <tr>\n",
       "      <th>0</th>\n",
       "      <td>3.5</td>\n",
       "      <td>4.0</td>\n",
       "      <td>3100.0</td>\n",
       "      <td>33634931.0</td>\n",
       "      <td>-117869207.0</td>\n",
       "      <td>4506.0</td>\n",
       "      <td>485713.0</td>\n",
       "      <td>1023282.0</td>\n",
       "      <td>537569.0</td>\n",
       "      <td>0.025595</td>\n",
       "      <td>0</td>\n",
       "      <td>1</td>\n",
       "      <td>0</td>\n",
       "      <td>19.0</td>\n",
       "      <td>0.010763</td>\n",
       "      <td>227.093209</td>\n",
       "    </tr>\n",
       "    <tr>\n",
       "      <th>1</th>\n",
       "      <td>1.0</td>\n",
       "      <td>2.0</td>\n",
       "      <td>1465.0</td>\n",
       "      <td>34449266.0</td>\n",
       "      <td>-119281531.0</td>\n",
       "      <td>12647.0</td>\n",
       "      <td>88000.0</td>\n",
       "      <td>464000.0</td>\n",
       "      <td>376000.0</td>\n",
       "      <td>0.055619</td>\n",
       "      <td>0</td>\n",
       "      <td>0</td>\n",
       "      <td>1</td>\n",
       "      <td>50.0</td>\n",
       "      <td>0.012225</td>\n",
       "      <td>36.688543</td>\n",
       "    </tr>\n",
       "    <tr>\n",
       "      <th>2</th>\n",
       "      <td>2.0</td>\n",
       "      <td>3.0</td>\n",
       "      <td>1243.0</td>\n",
       "      <td>33886168.0</td>\n",
       "      <td>-117823170.0</td>\n",
       "      <td>8432.0</td>\n",
       "      <td>85289.0</td>\n",
       "      <td>564778.0</td>\n",
       "      <td>479489.0</td>\n",
       "      <td>0.005383</td>\n",
       "      <td>0</td>\n",
       "      <td>1</td>\n",
       "      <td>0</td>\n",
       "      <td>55.0</td>\n",
       "      <td>0.011488</td>\n",
       "      <td>66.980313</td>\n",
       "    </tr>\n",
       "    <tr>\n",
       "      <th>3</th>\n",
       "      <td>3.0</td>\n",
       "      <td>4.0</td>\n",
       "      <td>2376.0</td>\n",
       "      <td>34245180.0</td>\n",
       "      <td>-118240722.0</td>\n",
       "      <td>13038.0</td>\n",
       "      <td>108918.0</td>\n",
       "      <td>145143.0</td>\n",
       "      <td>36225.0</td>\n",
       "      <td>-0.103410</td>\n",
       "      <td>1</td>\n",
       "      <td>0</td>\n",
       "      <td>0</td>\n",
       "      <td>47.0</td>\n",
       "      <td>0.012247</td>\n",
       "      <td>11.132306</td>\n",
       "    </tr>\n",
       "    <tr>\n",
       "      <th>4</th>\n",
       "      <td>3.0</td>\n",
       "      <td>3.0</td>\n",
       "      <td>1312.0</td>\n",
       "      <td>34185120.0</td>\n",
       "      <td>-118414640.0</td>\n",
       "      <td>278581.0</td>\n",
       "      <td>73681.0</td>\n",
       "      <td>119407.0</td>\n",
       "      <td>45726.0</td>\n",
       "      <td>0.006940</td>\n",
       "      <td>1</td>\n",
       "      <td>0</td>\n",
       "      <td>0</td>\n",
       "      <td>53.0</td>\n",
       "      <td>0.012846</td>\n",
       "      <td>0.428626</td>\n",
       "    </tr>\n",
       "  </tbody>\n",
       "</table>\n",
       "</div>"
      ],
      "text/plain": [
       "   bathrooms  bedrooms  habitable_sqft    latitude    longitude  lot_sqft  \\\n",
       "0        3.5       4.0          3100.0  33634931.0 -117869207.0    4506.0   \n",
       "1        1.0       2.0          1465.0  34449266.0 -119281531.0   12647.0   \n",
       "2        2.0       3.0          1243.0  33886168.0 -117823170.0    8432.0   \n",
       "3        3.0       4.0          2376.0  34245180.0 -118240722.0   13038.0   \n",
       "4        3.0       3.0          1312.0  34185120.0 -118414640.0  278581.0   \n",
       "\n",
       "   building_tax_value  parcel_tax_value  land_tax_value  logerror  \\\n",
       "0            485713.0         1023282.0        537569.0  0.025595   \n",
       "1             88000.0          464000.0        376000.0  0.055619   \n",
       "2             85289.0          564778.0        479489.0  0.005383   \n",
       "3            108918.0          145143.0         36225.0 -0.103410   \n",
       "4             73681.0          119407.0         45726.0  0.006940   \n",
       "\n",
       "   Los_Angeles  Orange  Ventura   age  tax_rate  value_per_sqft  \n",
       "0            0       1        0  19.0  0.010763      227.093209  \n",
       "1            0       0        1  50.0  0.012225       36.688543  \n",
       "2            0       1        0  55.0  0.011488       66.980313  \n",
       "3            1       0        0  47.0  0.012247       11.132306  \n",
       "4            1       0        0  53.0  0.012846        0.428626  "
      ]
     },
     "execution_count": 14,
     "metadata": {},
     "output_type": "execute_result"
    }
   ],
   "source": [
    "houses_synt2.head()"
   ]
  },
  {
   "cell_type": "markdown",
   "id": "5b1a8ca1",
   "metadata": {},
   "source": [
    "**<font color = 'blue'>Observations</font>**\n",
    "\n",
    ">There are no null values\n",
    "\n",
    ">The counties are designated by their respective names\n",
    "\n",
    ">Many columns were renamed for better readability\n",
    "\n",
    ">I added 3 new synthetic columns age, tax rate, and value per square foot and transformed fips into 3 separated columns\n",
    "\n",
    "**<font color = 'blue'>Actions</font>**\n",
    "\n",
    "\n",
    ">Detect and decide whether to remove outliers if necessary unless going for MVP then wait to get MVP</font>\n",
    "\n",
    ">Do a univariate observation\n",
    "\n",
    ">Split and scale data\n",
    "\n",
    ">Procede to exploration"
   ]
  },
  {
   "cell_type": "code",
   "execution_count": 15,
   "id": "27422a69",
   "metadata": {},
   "outputs": [
    {
     "data": {
      "text/plain": [
       "['bathrooms',\n",
       " 'bedrooms',\n",
       " 'habitable_sqft',\n",
       " 'latitude',\n",
       " 'longitude',\n",
       " 'lot_sqft',\n",
       " 'building_tax_value',\n",
       " 'parcel_tax_value',\n",
       " 'land_tax_value',\n",
       " 'logerror',\n",
       " 'Los_Angeles',\n",
       " 'Orange',\n",
       " 'Ventura',\n",
       " 'age',\n",
       " 'tax_rate',\n",
       " 'value_per_sqft']"
      ]
     },
     "execution_count": 15,
     "metadata": {},
     "output_type": "execute_result"
    }
   ],
   "source": [
    "houses_synt2.columns.tolist()"
   ]
  },
  {
   "cell_type": "markdown",
   "id": "57226237",
   "metadata": {},
   "source": [
    "**Plotting boxplots of each column to better observe the data**"
   ]
  },
  {
   "cell_type": "code",
   "execution_count": 16,
   "id": "60daa783",
   "metadata": {},
   "outputs": [
    {
     "data": {
      "image/png": "[encoded data removed]",
      "text/plain": [
       "<Figure size 504x288 with 1 Axes>"
      ]
     },
     "metadata": {
      "needs_background": "light"
     },
     "output_type": "display_data"
    }
   ],
   "source": [
    "plt.figure(figsize=(7,4))\n",
    "sb.boxplot(data=houses_synt2.bathrooms, orient='h')\n",
    "plt.show()"
   ]
  },
  {
   "cell_type": "code",
   "execution_count": 17,
   "id": "dbe7e361",
   "metadata": {},
   "outputs": [
    {
     "data": {
      "image/png": "[encoded data removed]",
      "text/plain": [
       "<Figure size 504x288 with 1 Axes>"
      ]
     },
     "metadata": {
      "needs_background": "light"
     },
     "output_type": "display_data"
    }
   ],
   "source": [
    "plt.figure(figsize=(7,4))\n",
    "sb.boxplot(data=houses_synt2.bedrooms, orient='h')\n",
    "plt.show()"
   ]
  },
  {
   "cell_type": "code",
   "execution_count": 18,
   "id": "d12fc548",
   "metadata": {},
   "outputs": [
    {
     "data": {
      "image/png": "[encoded data removed]",
      "text/plain": [
       "<Figure size 504x288 with 1 Axes>"
      ]
     },
     "metadata": {
      "needs_background": "light"
     },
     "output_type": "display_data"
    }
   ],
   "source": [
    "plt.figure(figsize=(7,4))\n",
    "sb.boxplot(data=houses_synt2.habitable_sqft, orient='h')\n",
    "plt.show()"
   ]
  },
  {
   "cell_type": "code",
   "execution_count": 19,
   "id": "b3dc8ab2",
   "metadata": {},
   "outputs": [
    {
     "data": {
      "image/png": "[encoded data removed]",
      "text/plain": [
       "<Figure size 504x288 with 1 Axes>"
      ]
     },
     "metadata": {
      "needs_background": "light"
     },
     "output_type": "display_data"
    }
   ],
   "source": [
    "plt.figure(figsize=(7,4))\n",
    "sb.boxplot(data=houses_synt2.latitude, orient='h')\n",
    "plt.show()"
   ]
  },
  {
   "cell_type": "code",
   "execution_count": 20,
   "id": "02f91b68",
   "metadata": {},
   "outputs": [
    {
     "data": {
      "image/png": "[encoded data removed]",
      "text/plain": [
       "<Figure size 504x288 with 1 Axes>"
      ]
     },
     "metadata": {
      "needs_background": "light"
     },
     "output_type": "display_data"
    }
   ],
   "source": [
    "plt.figure(figsize=(7,4))\n",
    "sb.boxplot(data=houses_synt2.longitude, orient='h')\n",
    "plt.show()"
   ]
  },
  {
   "cell_type": "code",
   "execution_count": 21,
   "id": "93dca750",
   "metadata": {},
   "outputs": [
    {
     "data": {
      "image/png": "[encoded data removed]",
      "text/plain": [
       "<Figure size 504x288 with 1 Axes>"
      ]
     },
     "metadata": {
      "needs_background": "light"
     },
     "output_type": "display_data"
    }
   ],
   "source": [
    "plt.figure(figsize=(7,4))\n",
    "sb.boxplot(data=houses_synt2.lot_sqft, orient='h')\n",
    "plt.show()"
   ]
  },
  {
   "cell_type": "code",
   "execution_count": 22,
   "id": "4a33aa35",
   "metadata": {},
   "outputs": [
    {
     "data": {
      "image/png": "[encoded data removed]",
      "text/plain": [
       "<Figure size 504x288 with 1 Axes>"
      ]
     },
     "metadata": {
      "needs_background": "light"
     },
     "output_type": "display_data"
    }
   ],
   "source": [
    "plt.figure(figsize=(7,4))\n",
    "sb.boxplot(data=houses_synt2.building_tax_value, orient='h')\n",
    "plt.show()"
   ]
  },
  {
   "cell_type": "code",
   "execution_count": 23,
   "id": "460459d8",
   "metadata": {},
   "outputs": [
    {
     "data": {
      "image/png": "[encoded data removed]",
      "text/plain": [
       "<Figure size 504x288 with 1 Axes>"
      ]
     },
     "metadata": {
      "needs_background": "light"
     },
     "output_type": "display_data"
    }
   ],
   "source": [
    "plt.figure(figsize=(7,4))\n",
    "sb.boxplot(data=houses_synt2.parcel_tax_value, orient='h')\n",
    "plt.show()"
   ]
  },
  {
   "cell_type": "code",
   "execution_count": 24,
   "id": "4b3691e1",
   "metadata": {},
   "outputs": [
    {
     "data": {
      "image/png": "[encoded data removed]",
      "text/plain": [
       "<Figure size 504x288 with 1 Axes>"
      ]
     },
     "metadata": {
      "needs_background": "light"
     },
     "output_type": "display_data"
    }
   ],
   "source": [
    "\n",
    "plt.figure(figsize=(7,4))\n",
    "sb.boxplot(data=houses_synt2.land_tax_value, orient='h')\n",
    "plt.show()"
   ]
  },
  {
   "cell_type": "code",
   "execution_count": 25,
   "id": "1b1aebe2",
   "metadata": {},
   "outputs": [
    {
     "data": {
      "image/png": "[encoded data removed]",
      "text/plain": [
       "<Figure size 504x288 with 1 Axes>"
      ]
     },
     "metadata": {
      "needs_background": "light"
     },
     "output_type": "display_data"
    }
   ],
   "source": [
    "plt.figure(figsize=(7,4))\n",
    "sb.boxplot(data=houses_synt2.logerror, orient='h')\n",
    "plt.show()"
   ]
  },
  {
   "cell_type": "code",
   "execution_count": 26,
   "id": "f12893e8",
   "metadata": {},
   "outputs": [
    {
     "data": {
      "image/png": "[encoded data removed]",
      "text/plain": [
       "<Figure size 504x288 with 1 Axes>"
      ]
     },
     "metadata": {
      "needs_background": "light"
     },
     "output_type": "display_data"
    }
   ],
   "source": [
    "plt.figure(figsize=(7,4))\n",
    "sb.boxplot(data=houses_synt2.Los_Angeles, orient='h')\n",
    "plt.show()"
   ]
  },
  {
   "cell_type": "code",
   "execution_count": 27,
   "id": "a2070510",
   "metadata": {},
   "outputs": [
    {
     "data": {
      "image/png": "[encoded data removed]",
      "text/plain": [
       "<Figure size 504x288 with 1 Axes>"
      ]
     },
     "metadata": {
      "needs_background": "light"
     },
     "output_type": "display_data"
    }
   ],
   "source": [
    "plt.figure(figsize=(7,4))\n",
    "sb.boxplot(data=houses_synt2.Orange, orient='h')\n",
    "plt.show()"
   ]
  },
  {
   "cell_type": "code",
   "execution_count": 28,
   "id": "3d12101a",
   "metadata": {},
   "outputs": [
    {
     "data": {
      "image/png": "[encoded data removed]",
      "text/plain": [
       "<Figure size 504x288 with 1 Axes>"
      ]
     },
     "metadata": {
      "needs_background": "light"
     },
     "output_type": "display_data"
    }
   ],
   "source": [
    "plt.figure(figsize=(7,4))\n",
    "sb.boxplot(data=houses_synt2.Ventura, orient='h')\n",
    "plt.show()"
   ]
  },
  {
   "cell_type": "code",
   "execution_count": 29,
   "id": "2d54a857",
   "metadata": {
    "scrolled": true
   },
   "outputs": [
    {
     "data": {
      "image/png": "[encoded data removed]",
      "text/plain": [
       "<Figure size 504x288 with 1 Axes>"
      ]
     },
     "metadata": {
      "needs_background": "light"
     },
     "output_type": "display_data"
    }
   ],
   "source": [
    "plt.figure(figsize=(7,4))\n",
    "sb.boxplot(data=houses_synt2.age, orient='h')\n",
    "plt.show()"
   ]
  },
  {
   "cell_type": "code",
   "execution_count": 30,
   "id": "0fe8c458",
   "metadata": {},
   "outputs": [
    {
     "data": {
      "image/png": "[encoded data removed]",
      "text/plain": [
       "<Figure size 504x288 with 1 Axes>"
      ]
     },
     "metadata": {
      "needs_background": "light"
     },
     "output_type": "display_data"
    }
   ],
   "source": [
    "plt.figure(figsize=(7,4))\n",
    "sb.boxplot(data=houses_synt2.tax_rate, orient='h')\n",
    "plt.show()"
   ]
  },
  {
   "cell_type": "code",
   "execution_count": 31,
   "id": "96e826d6",
   "metadata": {},
   "outputs": [
    {
     "data": {
      "image/png": "[encoded data removed]",
      "text/plain": [
       "<Figure size 504x288 with 1 Axes>"
      ]
     },
     "metadata": {
      "needs_background": "light"
     },
     "output_type": "display_data"
    }
   ],
   "source": [
    "plt.figure(figsize=(7,4))\n",
    "sb.boxplot(data=houses_synt2.value_per_sqft, orient='h')\n",
    "plt.show()"
   ]
  },
  {
   "cell_type": "markdown",
   "id": "54797f2b",
   "metadata": {},
   "source": [
    "**<font color = 'blue'>Takeaways and Actions</font>**\n",
    "\n",
    ">All columns but Orange and Los Angeles have upper-bound outliers</font>\n",
    "\n",
    ">All columns but logerror, longitude, bathrooms, and bedrooms have lower-bound outliers</font>\n",
    "\n",
    "><font color = 'brown'>I will not remove outliers because most of them are not due to recording errors or are statistical abberation. Furthurmore, I am moving towards an MVP so I will try to remove them when I am done with the MVP</font>\n",
    "\n",
    ">Split the data into train, validate, and test</font>\n",
    "\n",
    ">Scale and explore</font>"
   ]
  },
  {
   "cell_type": "code",
   "execution_count": 78,
   "id": "d51df37a",
   "metadata": {},
   "outputs": [
    {
     "data": {
      "text/plain": [
       "['bathrooms',\n",
       " 'bedrooms',\n",
       " 'habitable_sqft',\n",
       " 'latitude',\n",
       " 'longitude',\n",
       " 'lot_sqft',\n",
       " 'building_tax_value',\n",
       " 'parcel_tax_value',\n",
       " 'land_tax_value',\n",
       " 'logerror',\n",
       " 'Los_Angeles',\n",
       " 'Orange',\n",
       " 'Ventura',\n",
       " 'age',\n",
       " 'tax_rate',\n",
       " 'value_per_sqft']"
      ]
     },
     "execution_count": 78,
     "metadata": {},
     "output_type": "execute_result"
    }
   ],
   "source": [
    "houses_synt2.columns.tolist()"
   ]
  },
  {
   "cell_type": "markdown",
   "id": "84d0b10b",
   "metadata": {},
   "source": [
    "****"
   ]
  },
  {
   "cell_type": "markdown",
   "id": "ccbdeb5d",
   "metadata": {},
   "source": [
    "# Exploration"
   ]
  },
  {
   "cell_type": "markdown",
   "id": "93efb10c",
   "metadata": {},
   "source": [
    "**I will try to answer the following questions in my exploration phase**\n",
    "\n",
    ">Is there a pattern in the data? Where?</font>\n",
    "\n",
    "    \n",
    ">What features are driving the logerror? What are the most prominent ones?</font>\n",
    "\n",
    "\n",
    ">Is the impact of those features meaningful?</font>\n",
    "\n",
    "**My objective is to use the variables or a combination of them to understand what drives logerror**"
   ]
  },
  {
   "cell_type": "code",
   "execution_count": 35,
   "id": "9bfa9412",
   "metadata": {},
   "outputs": [],
   "source": [
    "# Splitting the data into train, validate, test with split_scale\n",
    "\n",
    "train, validate, test = split_scale.split_zillow(houses_synt2)"
   ]
  },
  {
   "cell_type": "markdown",
   "id": "bc01d5f1",
   "metadata": {},
   "source": [
    "**Verifying the shape of the data below**"
   ]
  },
  {
   "cell_type": "code",
   "execution_count": 36,
   "id": "89531607",
   "metadata": {},
   "outputs": [
    {
     "data": {
      "text/plain": [
       "(38664, 16)"
      ]
     },
     "execution_count": 36,
     "metadata": {},
     "output_type": "execute_result"
    }
   ],
   "source": [
    "train.shape"
   ]
  },
  {
   "cell_type": "code",
   "execution_count": 37,
   "id": "24177206",
   "metadata": {},
   "outputs": [
    {
     "data": {
      "text/plain": [
       "(16571, 16)"
      ]
     },
     "execution_count": 37,
     "metadata": {},
     "output_type": "execute_result"
    }
   ],
   "source": [
    "validate.shape"
   ]
  },
  {
   "cell_type": "code",
   "execution_count": 38,
   "id": "733a759d",
   "metadata": {},
   "outputs": [
    {
     "data": {
      "text/plain": [
       "(13809, 16)"
      ]
     },
     "execution_count": 38,
     "metadata": {},
     "output_type": "execute_result"
    }
   ],
   "source": [
    "test.shape"
   ]
  },
  {
   "cell_type": "code",
   "execution_count": 40,
   "id": "1679108f",
   "metadata": {},
   "outputs": [],
   "source": [
    "# Scaliing the split data using MinMax Scaler through the split_scale module\n",
    "\n",
    "train_scaled, validate_scaled, test_scaled = split_scale.min_max_scaler(train, validate, test)"
   ]
  },
  {
   "cell_type": "markdown",
   "id": "996187c9",
   "metadata": {},
   "source": [
    "**Verifying the shape of the data below**"
   ]
  },
  {
   "cell_type": "code",
   "execution_count": 41,
   "id": "b2678fd9",
   "metadata": {
    "scrolled": true
   },
   "outputs": [
    {
     "data": {
      "text/plain": [
       "(38664, 16)"
      ]
     },
     "execution_count": 41,
     "metadata": {},
     "output_type": "execute_result"
    }
   ],
   "source": [
    "train_scaled.shape"
   ]
  },
  {
   "cell_type": "code",
   "execution_count": 42,
   "id": "bad6ec12",
   "metadata": {},
   "outputs": [
    {
     "data": {
      "text/plain": [
       "(16571, 16)"
      ]
     },
     "execution_count": 42,
     "metadata": {},
     "output_type": "execute_result"
    }
   ],
   "source": [
    "validate_scaled.shape"
   ]
  },
  {
   "cell_type": "code",
   "execution_count": 43,
   "id": "5b13934a",
   "metadata": {},
   "outputs": [
    {
     "data": {
      "text/plain": [
       "(13809, 16)"
      ]
     },
     "execution_count": 43,
     "metadata": {},
     "output_type": "execute_result"
    }
   ],
   "source": [
    "test_scaled.shape"
   ]
  },
  {
   "cell_type": "code",
   "execution_count": 44,
   "id": "36715d1b",
   "metadata": {},
   "outputs": [],
   "source": [
    "# Assigning the data to the variable necessary later for modeling\n",
    "\n",
    "# Creating X_train by dropping the target variable \n",
    "X_train_scaled = train_scaled.drop(columns=['logerror'])\n",
    "# Creating y_train by keeping only the target variable.\n",
    "y_train_scaled = train_scaled[['logerror']]\n",
    "\n",
    "# Creating X_validate by dropping the target variable \n",
    "X_validate_scaled = validate_scaled.drop(columns=['logerror'])\n",
    "# Creating y_validate by keeping only the target variable.\n",
    "y_validate_scaled = validate_scaled[['logerror']]\n",
    "\n",
    "# Creating X_test by dropping the target variable \n",
    "X_test_scaled = test_scaled.drop(columns=['logerror'])\n",
    "# Creating y_test by keeping only the target variable.\n",
    "y_test_scaled = test_scaled[['logerror']]"
   ]
  },
  {
   "cell_type": "code",
   "execution_count": 45,
   "id": "780cdc07",
   "metadata": {
    "scrolled": false
   },
   "outputs": [
    {
     "data": {
      "text/plain": [
       "array([[<AxesSubplot:title={'center':'bathrooms'}>,\n",
       "        <AxesSubplot:title={'center':'bedrooms'}>,\n",
       "        <AxesSubplot:title={'center':'habitable_sqft'}>,\n",
       "        <AxesSubplot:title={'center':'latitude'}>],\n",
       "       [<AxesSubplot:title={'center':'longitude'}>,\n",
       "        <AxesSubplot:title={'center':'lot_sqft'}>,\n",
       "        <AxesSubplot:title={'center':'building_tax_value'}>,\n",
       "        <AxesSubplot:title={'center':'parcel_tax_value'}>],\n",
       "       [<AxesSubplot:title={'center':'land_tax_value'}>,\n",
       "        <AxesSubplot:title={'center':'logerror'}>,\n",
       "        <AxesSubplot:title={'center':'Los_Angeles'}>,\n",
       "        <AxesSubplot:title={'center':'Orange'}>],\n",
       "       [<AxesSubplot:title={'center':'Ventura'}>,\n",
       "        <AxesSubplot:title={'center':'age'}>,\n",
       "        <AxesSubplot:title={'center':'tax_rate'}>,\n",
       "        <AxesSubplot:title={'center':'value_per_sqft'}>]], dtype=object)"
      ]
     },
     "execution_count": 45,
     "metadata": {},
     "output_type": "execute_result"
    },
    {
     "data": {
      "image/png": "[encoded data removed]",
      "text/plain": [
       "<Figure size 1440x1224 with 16 Axes>"
      ]
     },
     "metadata": {
      "needs_background": "light"
     },
     "output_type": "display_data"
    }
   ],
   "source": [
    "# Plotting histograms to visualize the data\n",
    "train.hist(figsize=(20, 17))"
   ]
  },
  {
   "cell_type": "markdown",
   "id": "270b896a",
   "metadata": {},
   "source": [
    "**<font color = 'blue'>Observations</font>**\n",
    "\n",
    ">**From univariate observation and the histograms above I can see that t he data distribution is all over the place**\n",
    "\n",
    ">**Bathrooms, habitable_sqft, lot_sqft, building_tax_value, parcel_tax_value, land_tax_value, tax_amount, tax_rate, value_per_sqft, and logerror have the same right-skewed shape</font>**\n",
    "\n",
    ">**Bedrooms, latitude, longitude and age have a pseudo-normal ditribution</font>**"
   ]
  },
  {
   "cell_type": "markdown",
   "id": "83a66740",
   "metadata": {},
   "source": [
    "**<font color = 'blue'>Questions and strategies</font>**\n",
    "\n",
    ">Which variable correlate more to logerror? (plot all of them together)\n",
    "\n",
    ">Which variable correlate more to each other in order to create more synthetic variables?"
   ]
  },
  {
   "cell_type": "code",
   "execution_count": 46,
   "id": "56766dae",
   "metadata": {},
   "outputs": [
    {
     "data": {
      "image/png": "[encoded data removed]",
      "text/plain": [
       "<Figure size 1008x504 with 1 Axes>"
      ]
     },
     "metadata": {
      "needs_background": "light"
     },
     "output_type": "display_data"
    }
   ],
   "source": [
    "# Displaying the logerror distribution\n",
    "plt.figure(figsize=(14, 7))\n",
    "\n",
    "sb.histplot(train.logerror)\n",
    "plt.title('Log Error Distribution', fontsize=12)\n",
    "plt.xlabel('Log Error')\n",
    "\n",
    "plt.show()"
   ]
  },
  {
   "cell_type": "code",
   "execution_count": 47,
   "id": "d0d3460e",
   "metadata": {
    "scrolled": false
   },
   "outputs": [
    {
     "data": {
      "image/png": "[encoded data removed]",
      "text/plain": [
       "<Figure size 1440x864 with 2 Axes>"
      ]
     },
     "metadata": {
      "needs_background": "light"
     },
     "output_type": "display_data"
    }
   ],
   "source": [
    "# Plotting a heatmap of the correlation between variables and the target logerror\n",
    "\n",
    "plt.figure(figsize=(20, 12))\n",
    "sb.heatmap(train.corr(), cmap='Oranges', annot=True)\n",
    "plt.title('Train data Columns Correlation', fontsize=14)\n",
    "plt.show()"
   ]
  },
  {
   "cell_type": "code",
   "execution_count": 79,
   "id": "0303e21a",
   "metadata": {},
   "outputs": [
    {
     "data": {
      "text/html": [
       "<div>\n",
       "<style scoped>\n",
       "    .dataframe tbody tr th:only-of-type {\n",
       "        vertical-align: middle;\n",
       "    }\n",
       "\n",
       "    .dataframe tbody tr th {\n",
       "        vertical-align: top;\n",
       "    }\n",
       "\n",
       "    .dataframe thead th {\n",
       "        text-align: right;\n",
       "    }\n",
       "</style>\n",
       "<table border=\"1\" class=\"dataframe\">\n",
       "  <thead>\n",
       "    <tr style=\"text-align: right;\">\n",
       "      <th></th>\n",
       "      <th>bathrooms</th>\n",
       "      <th>bedrooms</th>\n",
       "      <th>habitable_sqft</th>\n",
       "      <th>latitude</th>\n",
       "      <th>longitude</th>\n",
       "      <th>lot_sqft</th>\n",
       "      <th>building_tax_value</th>\n",
       "      <th>parcel_tax_value</th>\n",
       "      <th>land_tax_value</th>\n",
       "      <th>logerror</th>\n",
       "      <th>Los_Angeles</th>\n",
       "      <th>Orange</th>\n",
       "      <th>Ventura</th>\n",
       "      <th>age</th>\n",
       "      <th>tax_rate</th>\n",
       "      <th>value_per_sqft</th>\n",
       "    </tr>\n",
       "  </thead>\n",
       "  <tbody>\n",
       "    <tr>\n",
       "      <th>logerror</th>\n",
       "      <td>0.022479</td>\n",
       "      <td>0.026226</td>\n",
       "      <td>0.031132</td>\n",
       "      <td>-0.013846</td>\n",
       "      <td>0.017328</td>\n",
       "      <td>0.007000</td>\n",
       "      <td>-0.000864</td>\n",
       "      <td>-0.005372</td>\n",
       "      <td>-0.006895</td>\n",
       "      <td>1.000000</td>\n",
       "      <td>-0.014127</td>\n",
       "      <td>0.017467</td>\n",
       "      <td>-0.002857</td>\n",
       "      <td>-0.009023</td>\n",
       "      <td>0.008335</td>\n",
       "      <td>-0.010160</td>\n",
       "    </tr>\n",
       "    <tr>\n",
       "      <th>habitable_sqft</th>\n",
       "      <td>0.788528</td>\n",
       "      <td>0.626165</td>\n",
       "      <td>1.000000</td>\n",
       "      <td>-0.055849</td>\n",
       "      <td>0.025046</td>\n",
       "      <td>-0.053530</td>\n",
       "      <td>0.715564</td>\n",
       "      <td>0.591924</td>\n",
       "      <td>0.465707</td>\n",
       "      <td>0.031132</td>\n",
       "      <td>-0.163248</td>\n",
       "      <td>0.152995</td>\n",
       "      <td>0.042881</td>\n",
       "      <td>-0.284049</td>\n",
       "      <td>-0.092479</td>\n",
       "      <td>0.265475</td>\n",
       "    </tr>\n",
       "    <tr>\n",
       "      <th>bedrooms</th>\n",
       "      <td>0.628901</td>\n",
       "      <td>1.000000</td>\n",
       "      <td>0.626165</td>\n",
       "      <td>-0.002882</td>\n",
       "      <td>0.050130</td>\n",
       "      <td>-0.110325</td>\n",
       "      <td>0.311846</td>\n",
       "      <td>0.240052</td>\n",
       "      <td>0.178601</td>\n",
       "      <td>0.026226</td>\n",
       "      <td>-0.137301</td>\n",
       "      <td>0.119947</td>\n",
       "      <td>0.049627</td>\n",
       "      <td>-0.118691</td>\n",
       "      <td>-0.017457</td>\n",
       "      <td>0.131730</td>\n",
       "    </tr>\n",
       "    <tr>\n",
       "      <th>bathrooms</th>\n",
       "      <td>1.000000</td>\n",
       "      <td>0.628901</td>\n",
       "      <td>0.788528</td>\n",
       "      <td>-0.001771</td>\n",
       "      <td>-0.004961</td>\n",
       "      <td>0.008725</td>\n",
       "      <td>0.598465</td>\n",
       "      <td>0.473794</td>\n",
       "      <td>0.360581</td>\n",
       "      <td>0.022479</td>\n",
       "      <td>-0.078081</td>\n",
       "      <td>0.079882</td>\n",
       "      <td>0.010094</td>\n",
       "      <td>-0.411621</td>\n",
       "      <td>-0.095107</td>\n",
       "      <td>0.238562</td>\n",
       "    </tr>\n",
       "    <tr>\n",
       "      <th>Orange</th>\n",
       "      <td>0.079882</td>\n",
       "      <td>0.119947</td>\n",
       "      <td>0.152995</td>\n",
       "      <td>-0.639128</td>\n",
       "      <td>0.598046</td>\n",
       "      <td>-0.097285</td>\n",
       "      <td>0.032745</td>\n",
       "      <td>0.079759</td>\n",
       "      <td>0.092936</td>\n",
       "      <td>0.017467</td>\n",
       "      <td>-0.817821</td>\n",
       "      <td>1.000000</td>\n",
       "      <td>-0.147989</td>\n",
       "      <td>-0.191863</td>\n",
       "      <td>-0.119755</td>\n",
       "      <td>0.224425</td>\n",
       "    </tr>\n",
       "    <tr>\n",
       "      <th>longitude</th>\n",
       "      <td>-0.004961</td>\n",
       "      <td>0.050130</td>\n",
       "      <td>0.025046</td>\n",
       "      <td>-0.537292</td>\n",
       "      <td>1.000000</td>\n",
       "      <td>-0.063790</td>\n",
       "      <td>-0.052084</td>\n",
       "      <td>-0.023788</td>\n",
       "      <td>-0.007657</td>\n",
       "      <td>0.017328</td>\n",
       "      <td>-0.171409</td>\n",
       "      <td>0.598046</td>\n",
       "      <td>-0.634470</td>\n",
       "      <td>-0.033409</td>\n",
       "      <td>0.014309</td>\n",
       "      <td>0.062588</td>\n",
       "    </tr>\n",
       "    <tr>\n",
       "      <th>tax_rate</th>\n",
       "      <td>-0.095107</td>\n",
       "      <td>-0.017457</td>\n",
       "      <td>-0.092479</td>\n",
       "      <td>0.163612</td>\n",
       "      <td>0.014309</td>\n",
       "      <td>0.010208</td>\n",
       "      <td>-0.125477</td>\n",
       "      <td>-0.153186</td>\n",
       "      <td>-0.148826</td>\n",
       "      <td>0.008335</td>\n",
       "      <td>0.154527</td>\n",
       "      <td>-0.119755</td>\n",
       "      <td>-0.079530</td>\n",
       "      <td>0.060609</td>\n",
       "      <td>1.000000</td>\n",
       "      <td>-0.154027</td>\n",
       "    </tr>\n",
       "    <tr>\n",
       "      <th>lot_sqft</th>\n",
       "      <td>0.008725</td>\n",
       "      <td>-0.110325</td>\n",
       "      <td>-0.053530</td>\n",
       "      <td>0.088478</td>\n",
       "      <td>-0.063790</td>\n",
       "      <td>1.000000</td>\n",
       "      <td>0.005225</td>\n",
       "      <td>-0.024279</td>\n",
       "      <td>-0.035493</td>\n",
       "      <td>0.007000</td>\n",
       "      <td>0.113727</td>\n",
       "      <td>-0.097285</td>\n",
       "      <td>-0.044319</td>\n",
       "      <td>-0.119386</td>\n",
       "      <td>0.010208</td>\n",
       "      <td>-0.140504</td>\n",
       "    </tr>\n",
       "    <tr>\n",
       "      <th>building_tax_value</th>\n",
       "      <td>0.598465</td>\n",
       "      <td>0.311846</td>\n",
       "      <td>0.715564</td>\n",
       "      <td>-0.031985</td>\n",
       "      <td>-0.052084</td>\n",
       "      <td>0.005225</td>\n",
       "      <td>1.000000</td>\n",
       "      <td>0.832942</td>\n",
       "      <td>0.658615</td>\n",
       "      <td>-0.000864</td>\n",
       "      <td>-0.050067</td>\n",
       "      <td>0.032745</td>\n",
       "      <td>0.035175</td>\n",
       "      <td>-0.306851</td>\n",
       "      <td>-0.125477</td>\n",
       "      <td>0.396460</td>\n",
       "    </tr>\n",
       "    <tr>\n",
       "      <th>Ventura</th>\n",
       "      <td>0.010094</td>\n",
       "      <td>0.049627</td>\n",
       "      <td>0.042881</td>\n",
       "      <td>0.236759</td>\n",
       "      <td>-0.634470</td>\n",
       "      <td>-0.044319</td>\n",
       "      <td>0.035175</td>\n",
       "      <td>-0.009535</td>\n",
       "      <td>-0.029641</td>\n",
       "      <td>-0.002857</td>\n",
       "      <td>-0.448108</td>\n",
       "      <td>-0.147989</td>\n",
       "      <td>1.000000</td>\n",
       "      <td>-0.122412</td>\n",
       "      <td>-0.079530</td>\n",
       "      <td>0.017580</td>\n",
       "    </tr>\n",
       "    <tr>\n",
       "      <th>parcel_tax_value</th>\n",
       "      <td>0.473794</td>\n",
       "      <td>0.240052</td>\n",
       "      <td>0.591924</td>\n",
       "      <td>-0.123607</td>\n",
       "      <td>-0.023788</td>\n",
       "      <td>-0.024279</td>\n",
       "      <td>0.832942</td>\n",
       "      <td>1.000000</td>\n",
       "      <td>0.964981</td>\n",
       "      <td>-0.005372</td>\n",
       "      <td>-0.066548</td>\n",
       "      <td>0.079759</td>\n",
       "      <td>-0.009535</td>\n",
       "      <td>-0.142699</td>\n",
       "      <td>-0.153186</td>\n",
       "      <td>0.561734</td>\n",
       "    </tr>\n",
       "    <tr>\n",
       "      <th>land_tax_value</th>\n",
       "      <td>0.360581</td>\n",
       "      <td>0.178601</td>\n",
       "      <td>0.465707</td>\n",
       "      <td>-0.152923</td>\n",
       "      <td>-0.007657</td>\n",
       "      <td>-0.035493</td>\n",
       "      <td>0.658615</td>\n",
       "      <td>0.964981</td>\n",
       "      <td>1.000000</td>\n",
       "      <td>-0.006895</td>\n",
       "      <td>-0.066760</td>\n",
       "      <td>0.092936</td>\n",
       "      <td>-0.029641</td>\n",
       "      <td>-0.048585</td>\n",
       "      <td>-0.148826</td>\n",
       "      <td>0.575925</td>\n",
       "    </tr>\n",
       "    <tr>\n",
       "      <th>age</th>\n",
       "      <td>-0.411621</td>\n",
       "      <td>-0.118691</td>\n",
       "      <td>-0.284049</td>\n",
       "      <td>-0.064986</td>\n",
       "      <td>-0.033409</td>\n",
       "      <td>-0.119386</td>\n",
       "      <td>-0.306851</td>\n",
       "      <td>-0.142699</td>\n",
       "      <td>-0.048585</td>\n",
       "      <td>-0.009023</td>\n",
       "      <td>0.244660</td>\n",
       "      <td>-0.191863</td>\n",
       "      <td>-0.122412</td>\n",
       "      <td>1.000000</td>\n",
       "      <td>0.060609</td>\n",
       "      <td>-0.090200</td>\n",
       "    </tr>\n",
       "    <tr>\n",
       "      <th>value_per_sqft</th>\n",
       "      <td>0.238562</td>\n",
       "      <td>0.131730</td>\n",
       "      <td>0.265475</td>\n",
       "      <td>-0.254215</td>\n",
       "      <td>0.062588</td>\n",
       "      <td>-0.140504</td>\n",
       "      <td>0.396460</td>\n",
       "      <td>0.561734</td>\n",
       "      <td>0.575925</td>\n",
       "      <td>-0.010160</td>\n",
       "      <td>-0.213095</td>\n",
       "      <td>0.224425</td>\n",
       "      <td>0.017580</td>\n",
       "      <td>-0.090200</td>\n",
       "      <td>-0.154027</td>\n",
       "      <td>1.000000</td>\n",
       "    </tr>\n",
       "    <tr>\n",
       "      <th>latitude</th>\n",
       "      <td>-0.001771</td>\n",
       "      <td>-0.002882</td>\n",
       "      <td>-0.055849</td>\n",
       "      <td>1.000000</td>\n",
       "      <td>-0.537292</td>\n",
       "      <td>0.088478</td>\n",
       "      <td>-0.031985</td>\n",
       "      <td>-0.123607</td>\n",
       "      <td>-0.152923</td>\n",
       "      <td>-0.013846</td>\n",
       "      <td>0.439963</td>\n",
       "      <td>-0.639128</td>\n",
       "      <td>0.236759</td>\n",
       "      <td>-0.064986</td>\n",
       "      <td>0.163612</td>\n",
       "      <td>-0.254215</td>\n",
       "    </tr>\n",
       "    <tr>\n",
       "      <th>Los_Angeles</th>\n",
       "      <td>-0.078081</td>\n",
       "      <td>-0.137301</td>\n",
       "      <td>-0.163248</td>\n",
       "      <td>0.439963</td>\n",
       "      <td>-0.171409</td>\n",
       "      <td>0.113727</td>\n",
       "      <td>-0.050067</td>\n",
       "      <td>-0.066548</td>\n",
       "      <td>-0.066760</td>\n",
       "      <td>-0.014127</td>\n",
       "      <td>1.000000</td>\n",
       "      <td>-0.817821</td>\n",
       "      <td>-0.448108</td>\n",
       "      <td>0.244660</td>\n",
       "      <td>0.154527</td>\n",
       "      <td>-0.213095</td>\n",
       "    </tr>\n",
       "  </tbody>\n",
       "</table>\n",
       "</div>"
      ],
      "text/plain": [
       "                    bathrooms  bedrooms  habitable_sqft  latitude  longitude  \\\n",
       "logerror             0.022479  0.026226        0.031132 -0.013846   0.017328   \n",
       "habitable_sqft       0.788528  0.626165        1.000000 -0.055849   0.025046   \n",
       "bedrooms             0.628901  1.000000        0.626165 -0.002882   0.050130   \n",
       "bathrooms            1.000000  0.628901        0.788528 -0.001771  -0.004961   \n",
       "Orange               0.079882  0.119947        0.152995 -0.639128   0.598046   \n",
       "longitude           -0.004961  0.050130        0.025046 -0.537292   1.000000   \n",
       "tax_rate            -0.095107 -0.017457       -0.092479  0.163612   0.014309   \n",
       "lot_sqft             0.008725 -0.110325       -0.053530  0.088478  -0.063790   \n",
       "building_tax_value   0.598465  0.311846        0.715564 -0.031985  -0.052084   \n",
       "Ventura              0.010094  0.049627        0.042881  0.236759  -0.634470   \n",
       "parcel_tax_value     0.473794  0.240052        0.591924 -0.123607  -0.023788   \n",
       "land_tax_value       0.360581  0.178601        0.465707 -0.152923  -0.007657   \n",
       "age                 -0.411621 -0.118691       -0.284049 -0.064986  -0.033409   \n",
       "value_per_sqft       0.238562  0.131730        0.265475 -0.254215   0.062588   \n",
       "latitude            -0.001771 -0.002882       -0.055849  1.000000  -0.537292   \n",
       "Los_Angeles         -0.078081 -0.137301       -0.163248  0.439963  -0.171409   \n",
       "\n",
       "                    lot_sqft  building_tax_value  parcel_tax_value  \\\n",
       "logerror            0.007000           -0.000864         -0.005372   \n",
       "habitable_sqft     -0.053530            0.715564          0.591924   \n",
       "bedrooms           -0.110325            0.311846          0.240052   \n",
       "bathrooms           0.008725            0.598465          0.473794   \n",
       "Orange             -0.097285            0.032745          0.079759   \n",
       "longitude          -0.063790           -0.052084         -0.023788   \n",
       "tax_rate            0.010208           -0.125477         -0.153186   \n",
       "lot_sqft            1.000000            0.005225         -0.024279   \n",
       "building_tax_value  0.005225            1.000000          0.832942   \n",
       "Ventura            -0.044319            0.035175         -0.009535   \n",
       "parcel_tax_value   -0.024279            0.832942          1.000000   \n",
       "land_tax_value     -0.035493            0.658615          0.964981   \n",
       "age                -0.119386           -0.306851         -0.142699   \n",
       "value_per_sqft     -0.140504            0.396460          0.561734   \n",
       "latitude            0.088478           -0.031985         -0.123607   \n",
       "Los_Angeles         0.113727           -0.050067         -0.066548   \n",
       "\n",
       "                    land_tax_value  logerror  Los_Angeles    Orange   Ventura  \\\n",
       "logerror                 -0.006895  1.000000    -0.014127  0.017467 -0.002857   \n",
       "habitable_sqft            0.465707  0.031132    -0.163248  0.152995  0.042881   \n",
       "bedrooms                  0.178601  0.026226    -0.137301  0.119947  0.049627   \n",
       "bathrooms                 0.360581  0.022479    -0.078081  0.079882  0.010094   \n",
       "Orange                    0.092936  0.017467    -0.817821  1.000000 -0.147989   \n",
       "longitude                -0.007657  0.017328    -0.171409  0.598046 -0.634470   \n",
       "tax_rate                 -0.148826  0.008335     0.154527 -0.119755 -0.079530   \n",
       "lot_sqft                 -0.035493  0.007000     0.113727 -0.097285 -0.044319   \n",
       "building_tax_value        0.658615 -0.000864    -0.050067  0.032745  0.035175   \n",
       "Ventura                  -0.029641 -0.002857    -0.448108 -0.147989  1.000000   \n",
       "parcel_tax_value          0.964981 -0.005372    -0.066548  0.079759 -0.009535   \n",
       "land_tax_value            1.000000 -0.006895    -0.066760  0.092936 -0.029641   \n",
       "age                      -0.048585 -0.009023     0.244660 -0.191863 -0.122412   \n",
       "value_per_sqft            0.575925 -0.010160    -0.213095  0.224425  0.017580   \n",
       "latitude                 -0.152923 -0.013846     0.439963 -0.639128  0.236759   \n",
       "Los_Angeles              -0.066760 -0.014127     1.000000 -0.817821 -0.448108   \n",
       "\n",
       "                         age  tax_rate  value_per_sqft  \n",
       "logerror           -0.009023  0.008335       -0.010160  \n",
       "habitable_sqft     -0.284049 -0.092479        0.265475  \n",
       "bedrooms           -0.118691 -0.017457        0.131730  \n",
       "bathrooms          -0.411621 -0.095107        0.238562  \n",
       "Orange             -0.191863 -0.119755        0.224425  \n",
       "longitude          -0.033409  0.014309        0.062588  \n",
       "tax_rate            0.060609  1.000000       -0.154027  \n",
       "lot_sqft           -0.119386  0.010208       -0.140504  \n",
       "building_tax_value -0.306851 -0.125477        0.396460  \n",
       "Ventura            -0.122412 -0.079530        0.017580  \n",
       "parcel_tax_value   -0.142699 -0.153186        0.561734  \n",
       "land_tax_value     -0.048585 -0.148826        0.575925  \n",
       "age                 1.000000  0.060609       -0.090200  \n",
       "value_per_sqft     -0.090200 -0.154027        1.000000  \n",
       "latitude           -0.064986  0.163612       -0.254215  \n",
       "Los_Angeles         0.244660  0.154527       -0.213095  "
      ]
     },
     "execution_count": 79,
     "metadata": {},
     "output_type": "execute_result"
    }
   ],
   "source": [
    "# Displaying a general correlation to confirm the heatmap and have the numbers listed\n",
    "\n",
    "train.corr().sort_values(by='logerror', ascending=False)"
   ]
  },
  {
   "cell_type": "markdown",
   "id": "a8e2a175",
   "metadata": {},
   "source": [
    "**<font color = 'blue'>Observations</font>**\n",
    ">**It does not seem there is a strong meaningful relationship between the variables that I have**\n",
    "\n",
    ">bathrooms, bedrooms, and habitable_sqft seem to correlate more to logerror\n",
    "\n",
    ">age seem to correlate more with the number of bathrooms, bedrooms, habitable_sqft, and the location of the houses\n",
    "\n",
    ">Logerror is normally distributed\n",
    "\n",
    "**<font color = 'blue'>Strategies</font>**\n",
    ">I will examine bathrooms, bedrooms, habitable_sqft, and the 2locations Los Angeles and Orange which have the highest correlation"
   ]
  },
  {
   "cell_type": "markdown",
   "id": "6a7ec937",
   "metadata": {},
   "source": [
    "**<font color = 'blue'>Questions</font>**\n",
    "\n",
    ">1. Is bathrooms correlated to logerror?\n",
    "\n",
    ">2. Is berooms correlated to logerror?\n",
    "\n",
    ">3. Is habitable_sqft correlated to logerror?\n",
    "\n",
    ">4. Is Los_Angeles correlated to logerror?\n",
    "\n",
    ">5. Is Orange correlated to logerror?"
   ]
  },
  {
   "cell_type": "markdown",
   "id": "d1f90221",
   "metadata": {},
   "source": [
    "## Bathrooms correlation to logerror"
   ]
  },
  {
   "cell_type": "code",
   "execution_count": 49,
   "id": "4f7c3397",
   "metadata": {
    "scrolled": false
   },
   "outputs": [
    {
     "data": {
      "image/png": "[encoded data removed]",
      "text/plain": [
       "<Figure size 1008x504 with 1 Axes>"
      ]
     },
     "metadata": {
      "needs_background": "light"
     },
     "output_type": "display_data"
    }
   ],
   "source": [
    "# Plotting a barplot with confidence line for bathrooms\n",
    "\n",
    "plt.figure(figsize=(14,7))\n",
    "with sb.color_palette('Blues'):\n",
    "    sb.barplot(x='bathrooms', y='logerror', data=train)\n",
    "plt.xlabel('Bathrooms Count')\n",
    "plt.ylabel('Log Error')\n",
    "plt.title('Bathrooms correlation to logerror')\n",
    "plt.show()"
   ]
  },
  {
   "cell_type": "markdown",
   "id": "dfb6a6b6",
   "metadata": {},
   "source": [
    "**Homes with smaller bathroom counts (between 1 and 6) tend to produce smaller log error**\n",
    ">There are major errors with 0, 7, 7.5, 8, 9, 10 and 11/13\n",
    "\n",
    ">This could possibly be a driver of log error. I mark this feature for further investigation"
   ]
  },
  {
   "cell_type": "markdown",
   "id": "11eddbb1",
   "metadata": {},
   "source": [
    "## Bedrooms correlation to logerror"
   ]
  },
  {
   "cell_type": "code",
   "execution_count": 50,
   "id": "76da9e2f",
   "metadata": {},
   "outputs": [
    {
     "data": {
      "image/png": "[encoded data removed]",
      "text/plain": [
       "<Figure size 1008x504 with 1 Axes>"
      ]
     },
     "metadata": {
      "needs_background": "light"
     },
     "output_type": "display_data"
    }
   ],
   "source": [
    "# Plotting a barplot with confidence line for bedrooms\n",
    "\n",
    "plt.figure(figsize=(14,7))\n",
    "with sb.color_palette('Blues'):\n",
    "    sb.barplot(x='bedrooms', y='logerror', data=train)\n",
    "plt.xlabel('Bedrooms Count')\n",
    "plt.ylabel('Log Error')\n",
    "plt.title('Bedrooms correlation to logerror')\n",
    "plt.show()"
   ]
  },
  {
   "cell_type": "markdown",
   "id": "a72925ef",
   "metadata": {},
   "source": [
    "**Homes with smaller bedroom counts (between 1 and 6) tend to produce smaller log error**\n",
    ">There are major errors with 0, 7, 8, and 9\n",
    "\n",
    ">This could possibly be a driver of log error. I mark this feature for further investigation"
   ]
  },
  {
   "cell_type": "markdown",
   "id": "1eff284b",
   "metadata": {},
   "source": [
    "##  Habitable_sqft correlation to logerror"
   ]
  },
  {
   "cell_type": "code",
   "execution_count": 51,
   "id": "f256ca60",
   "metadata": {},
   "outputs": [
    {
     "data": {
      "image/png": "[encoded data removed]",
      "text/plain": [
       "<Figure size 1008x504 with 1 Axes>"
      ]
     },
     "metadata": {
      "needs_background": "light"
     },
     "output_type": "display_data"
    }
   ],
   "source": [
    "# Plotting a scatterplot with transparency alpha at .5 for habitable_sqft\n",
    "\n",
    "\n",
    "plt.figure(figsize=(14,7))\n",
    "sb.scatterplot(x='habitable_sqft', y='logerror', data=train, alpha=.3)\n",
    "plt.xlabel('Habitable square footage')\n",
    "plt.ylabel('Log Error')\n",
    "plt.title('Habitable square footage relation to logerror')\n",
    "plt.show()"
   ]
  },
  {
   "cell_type": "markdown",
   "id": "b646f5b2",
   "metadata": {},
   "source": [
    "## Los_Angeles and Orange correlation to logerror"
   ]
  },
  {
   "cell_type": "code",
   "execution_count": 95,
   "id": "7755cdb5",
   "metadata": {
    "scrolled": false
   },
   "outputs": [
    {
     "data": {
      "image/png": "[encoded data removed]",
      "text/plain": [
       "<Figure size 1008x504 with 1 Axes>"
      ]
     },
     "metadata": {
      "needs_background": "light"
     },
     "output_type": "display_data"
    }
   ],
   "source": [
    "plt.figure(figsize=(14,7))\n",
    "with sb.color_palette('Oranges'):\n",
    "    sb.barplot(x='Los_Angeles', y='logerror', data=train)\n",
    "plt.xlabel('Los Angeles County')\n",
    "plt.ylabel('Log Error')\n",
    "plt.title('Los Angeles County correlation to logerror')\n",
    "plt.show()"
   ]
  },
  {
   "cell_type": "code",
   "execution_count": 94,
   "id": "841577e1",
   "metadata": {
    "scrolled": false
   },
   "outputs": [
    {
     "data": {
      "image/png": "[encoded data removed]",
      "text/plain": [
       "<Figure size 1008x504 with 1 Axes>"
      ]
     },
     "metadata": {
      "needs_background": "light"
     },
     "output_type": "display_data"
    }
   ],
   "source": [
    "\n",
    "plt.figure(figsize=(14,7))\n",
    "with sb.color_palette('Reds'):\n",
    "    sb.barplot(x='Orange', y='logerror', data=train)\n",
    "plt.xlabel('Orange County')\n",
    "plt.ylabel('Log Error')\n",
    "plt.title('Orange County correlation to logerror')\n",
    "plt.show()"
   ]
  },
  {
   "cell_type": "markdown",
   "id": "19cb15a6",
   "metadata": {},
   "source": [
    "**Los_Angeles and Orange seem to have an opposite realtionship with log error**\n",
    ">Los_Angeles induces almost less than half the errors\n",
    "\n",
    ">On the other hand, Orange seem to drive up errors"
   ]
  },
  {
   "cell_type": "markdown",
   "id": "24042232",
   "metadata": {},
   "source": [
    "**<font color = 'blue'>Observations</font>**\n",
    "\n",
    ">All the features above seem to have some sort of impact on logerror\n",
    "\n",
    ">I will investigate them further using statistical tests\n",
    "\n",
    "**<font color = 'blue'>Strategies</font>**\n",
    "\n",
    ">**Assumptions**\n",
    "\n",
    ">Target variable logerror is normally distributed and is continuous\n",
    "\n",
    ">bathrooms, bedrooms are close to normal distributions and with the amount of data they can be considered normal, they are ordinal discrete, presence of a great number of outliers ====> Pearson's r (because of the size of the data)\n",
    "\n",
    ">habitable_sqft right-skewed and continuous, presence of great number of outliers ====> I would use a non parametric test (Spearman) but the distribution is non monotonic ====> Pearson\n",
    "\n",
    ">Los_Angeles is dichotomous ====> pointbiserial \n",
    "\n",
    ">Orange is categorical and discrete ====> pointbiserial"
   ]
  },
  {
   "cell_type": "markdown",
   "id": "d0c22c83",
   "metadata": {},
   "source": [
    "## Bathrooms"
   ]
  },
  {
   "cell_type": "code",
   "execution_count": 55,
   "id": "91a525bc",
   "metadata": {},
   "outputs": [],
   "source": [
    "# Setting alpha for all the tests that need it\n",
    "\n",
    "α = .05"
   ]
  },
  {
   "cell_type": "code",
   "execution_count": 56,
   "id": "d74e53f8",
   "metadata": {},
   "outputs": [
    {
     "name": "stdout",
     "output_type": "stream",
     "text": [
      "0.022478603713171428 9.850916520779537e-06\n",
      "I reject the null hypothesis\n",
      "I can say that I have confidence that Bathroom count is correlated to logerror\n"
     ]
    }
   ],
   "source": [
    "x = train_scaled.bathrooms\n",
    "y = train_scaled.logerror\n",
    "\n",
    "alternative_hypothesis = 'Bathroom count is correlated to logerror'\n",
    "\n",
    "corr, p = stats.pearsonr(x, y)\n",
    "\n",
    "print(corr, p)\n",
    "\n",
    "if p < α:\n",
    "    print('I reject the null hypothesis')\n",
    "    print('I can say that I have confidence that', alternative_hypothesis)\n",
    "else:\n",
    "    print('I fail to reject the null hypothesis')"
   ]
  },
  {
   "cell_type": "markdown",
   "id": "d33c9d46",
   "metadata": {},
   "source": [
    "## Bedrooms"
   ]
  },
  {
   "cell_type": "code",
   "execution_count": 57,
   "id": "d8ba2d21",
   "metadata": {},
   "outputs": [
    {
     "name": "stdout",
     "output_type": "stream",
     "text": [
      "0.026226487726064212 2.5003175532344015e-07\n",
      "I reject the null hypothesis\n",
      "I can say that I have confidence that Bedroom count is correlated to logerror\n"
     ]
    }
   ],
   "source": [
    "x2 = train_scaled.bedrooms\n",
    "y2 = train_scaled.logerror\n",
    "\n",
    "alternative_hypothesis = 'Bedroom count is correlated to logerror'\n",
    "\n",
    "corr2, p2 = stats.pearsonr(x2, y2)\n",
    "\n",
    "print(corr2, p2)\n",
    "\n",
    "if p2 < α:\n",
    "    print('I reject the null hypothesis')\n",
    "    print('I can say that I have confidence that', alternative_hypothesis)\n",
    "else:\n",
    "    print('I fail to reject the null hypothesis')"
   ]
  },
  {
   "cell_type": "markdown",
   "id": "2e329137",
   "metadata": {},
   "source": [
    "## Habitable square footage"
   ]
  },
  {
   "cell_type": "code",
   "execution_count": 59,
   "id": "254d07e5",
   "metadata": {},
   "outputs": [
    {
     "name": "stdout",
     "output_type": "stream",
     "text": [
      "0.03113189778781502 9.194390473053868e-10\n",
      "I reject the null hypothesis\n",
      "I can say that I have confidence that habitable_sqft is correlated to logerror\n"
     ]
    }
   ],
   "source": [
    "x3 = train_scaled.habitable_sqft\n",
    "y3 = train_scaled.logerror\n",
    "\n",
    "alternative_hypothesis = 'habitable_sqft is correlated to logerror'\n",
    "\n",
    "corr3, p3 = stats.pearsonr(x3, y3)\n",
    "\n",
    "print(corr3, p3)\n",
    "\n",
    "if p3 < α:\n",
    "    print('I reject the null hypothesis')\n",
    "    print('I can say that I have confidence that', alternative_hypothesis)\n",
    "else:\n",
    "    print('I fail to reject the null hypothesis')"
   ]
  },
  {
   "cell_type": "markdown",
   "id": "50730b99",
   "metadata": {},
   "source": [
    "## Los Angeles"
   ]
  },
  {
   "cell_type": "code",
   "execution_count": 60,
   "id": "e95e6606",
   "metadata": {},
   "outputs": [
    {
     "name": "stdout",
     "output_type": "stream",
     "text": [
      "-0.014126930031169204 0.0054719847418286584\n",
      "I reject the null hypothesis\n",
      "I can say that I have confidence that Los Angeles is correlated to logerror\n"
     ]
    }
   ],
   "source": [
    "x4 = train_scaled.Los_Angeles\n",
    "y4 = train_scaled.logerror\n",
    "\n",
    "\n",
    "alternative_hypothesis = 'Los Angeles is correlated to logerror'\n",
    "\n",
    "corr4, p4 = stats.pointbiserialr(x4, y4)\n",
    "\n",
    "print(corr4, p4)\n",
    "\n",
    "if p4 < α:\n",
    "    print('I reject the null hypothesis')\n",
    "    print('I can say that I have confidence that', alternative_hypothesis)\n",
    "else:\n",
    "    print('I fail to reject the null hypothesis')"
   ]
  },
  {
   "cell_type": "markdown",
   "id": "90c3746c",
   "metadata": {},
   "source": [
    "## Orange"
   ]
  },
  {
   "cell_type": "code",
   "execution_count": 61,
   "id": "3c98bc51",
   "metadata": {},
   "outputs": [
    {
     "name": "stdout",
     "output_type": "stream",
     "text": [
      "0.017467145299131803 0.0005931131620774839\n",
      "I reject the null hypothesis\n",
      "I can say that I have confidence that Orange is correlated to logerror\n"
     ]
    }
   ],
   "source": [
    "x5 = train_scaled.Orange\n",
    "y5 = train_scaled.logerror\n",
    "\n",
    "alternative_hypothesis = 'Orange is correlated to logerror'\n",
    "\n",
    "corr5, p5 = stats.pointbiserialr(x5, y5)\n",
    "\n",
    "print(corr5, p5)\n",
    "\n",
    "if p5 < α:\n",
    "    print('I reject the null hypothesis')\n",
    "    print('I can say that I have confidence that', alternative_hypothesis)\n",
    "else:\n",
    "    print('I fail to reject the null hypothesis')"
   ]
  },
  {
   "cell_type": "markdown",
   "id": "42051c49",
   "metadata": {},
   "source": [
    "**<font color = 'blue'>Observations</font>**\n",
    "\n",
    ">I can say with confidence that despite the low correlation percentage, all the features above have a strong correlation with very low p-values\n",
    "\n",
    ">I will go forward and try to find meaningful clusters"
   ]
  },
  {
   "cell_type": "markdown",
   "id": "c49d785c",
   "metadata": {},
   "source": [
    "****"
   ]
  },
  {
   "cell_type": "markdown",
   "id": "d4048682",
   "metadata": {},
   "source": [
    "# Clustering\n",
    "**<font color = 'blue'>Features were grouped into 4 categories:</font>**\n",
    ">Physical position: latitude, longitude, Los_Angeles, Orange, Ventura\n",
    "\n",
    ">Value: building_tax_value, parcel_tax_value, land_tax_value, tax_rate, value_per_sqft\n",
    "\n",
    ">Home features: bathrooms, bedrooms, lot_sqft"
   ]
  },
  {
   "cell_type": "code",
   "execution_count": 80,
   "id": "b9716aa6",
   "metadata": {},
   "outputs": [],
   "source": [
    "# List of variables I will cluster on. \n",
    "cluster_vars = train_scaled[['latitude', 'longitude', 'Los_Angeles', 'Orange', 'Ventura']]\n",
    "cluster_name = 'location_cluster'\n",
    "centroid_col_names = ['centroid_' + i for i in cluster_vars]"
   ]
  },
  {
   "cell_type": "code",
   "execution_count": 70,
   "id": "bb699309",
   "metadata": {},
   "outputs": [],
   "source": [
    "# List of variables I will cluster on. \n",
    "cluster_vars2 = train_scaled[['building_tax_value', 'parcel_tax_value', 'land_tax_value', 'tax_rate', 'value_per_sqft']]\n",
    "cluster_name2 = 'value_cluster'\n",
    "centroid_col_names2 = ['centroid_' + i for i in cluster_vars2]"
   ]
  },
  {
   "cell_type": "code",
   "execution_count": 71,
   "id": "5430288a",
   "metadata": {},
   "outputs": [],
   "source": [
    "# List of variables I will cluster on. \n",
    "cluster_vars3 = train_scaled[['bathrooms', 'bedrooms', 'lot_sqft']]\n",
    "cluster_name3 = 'home_cluster'\n",
    "centroid_col_names3 = ['centroid_' + i for i in cluster_vars3]"
   ]
  },
  {
   "cell_type": "code",
   "execution_count": 81,
   "id": "e9f966a8",
   "metadata": {
    "scrolled": false
   },
   "outputs": [
    {
     "name": "stdout",
     "output_type": "stream",
     "text": [
      "     k          sse\n",
      "0    2  6432.902951\n",
      "1    3  1086.511548\n",
      "2    4   663.039456\n",
      "3    5   479.761458\n",
      "4    6   354.257846\n",
      "5    7   290.420854\n",
      "6    8   229.488048\n",
      "7    9   203.667464\n",
      "8   10   179.148661\n",
      "9   11   161.993195\n",
      "10  12   139.379289\n",
      "11  13   126.036036\n",
      "12  14   113.600916\n"
     ]
    },
    {
     "data": {
      "image/png": "[encoded data removed]",
      "text/plain": [
       "<Figure size 432x288 with 1 Axes>"
      ]
     },
     "metadata": {
      "needs_background": "light"
     },
     "output_type": "display_data"
    }
   ],
   "source": [
    "optimal_k = cluster_model.elbow_method(cluster_vars)"
   ]
  },
  {
   "cell_type": "markdown",
   "id": "80184654",
   "metadata": {},
   "source": [
    "**I pick k=4**"
   ]
  },
  {
   "cell_type": "code",
   "execution_count": 76,
   "id": "ef3020de",
   "metadata": {},
   "outputs": [
    {
     "name": "stdout",
     "output_type": "stream",
     "text": [
      "     k        sse\n",
      "0    2  67.632213\n",
      "1    3  51.509283\n",
      "2    4  42.629284\n",
      "3    5  36.473136\n",
      "4    6  32.599655\n",
      "5    7  29.066226\n",
      "6    8  26.512265\n",
      "7    9  24.523131\n",
      "8   10  22.907470\n",
      "9   11  21.870507\n",
      "10  12  20.323897\n",
      "11  13  19.412945\n",
      "12  14  18.364517\n"
     ]
    },
    {
     "data": {
      "image/png": "[encoded data removed]",
      "text/plain": [
       "<Figure size 432x288 with 1 Axes>"
      ]
     },
     "metadata": {
      "needs_background": "light"
     },
     "output_type": "display_data"
    }
   ],
   "source": [
    "optimal_k2 = cluster_model.elbow_method(cluster_vars2)"
   ]
  },
  {
   "cell_type": "markdown",
   "id": "62c21497",
   "metadata": {},
   "source": [
    "**I pick k=5**"
   ]
  },
  {
   "cell_type": "code",
   "execution_count": 77,
   "id": "d3abb704",
   "metadata": {},
   "outputs": [
    {
     "name": "stdout",
     "output_type": "stream",
     "text": [
      "     k         sse\n",
      "0    2  244.745846\n",
      "1    3  175.190236\n",
      "2    4  138.036173\n",
      "3    5  114.030609\n",
      "4    6   97.102386\n",
      "5    7   84.038553\n",
      "6    8   72.520272\n",
      "7    9   60.869635\n",
      "8   10   54.182081\n",
      "9   11   48.277866\n",
      "10  12   43.188862\n",
      "11  13   37.786159\n",
      "12  14   33.787718\n"
     ]
    },
    {
     "data": {
      "image/png": "[encoded data removed]",
      "text/plain": [
       "<Figure size 432x288 with 1 Axes>"
      ]
     },
     "metadata": {
      "needs_background": "light"
     },
     "output_type": "display_data"
    }
   ],
   "source": [
    "optimal_k3 = cluster_model.elbow_method(cluster_vars3)"
   ]
  },
  {
   "cell_type": "markdown",
   "id": "b9775b76",
   "metadata": {},
   "source": [
    "**I pick k=5**"
   ]
  },
  {
   "cell_type": "markdown",
   "id": "20efc406",
   "metadata": {},
   "source": [
    "**<font color = 'blue'>Takeaways of clustering</font>**\n",
    "\n",
    ">**The value cluster seems to perform the best**\n",
    "\n",
    ">**I will use it going forward**\n",
    "\n",
    ">**When using the value cluster I will be applying a k=5 because it this is where the change remains significant on the elbow curve**\n",
    "\n",
    ">**I will go forward and assign this group to the clustering function**"
   ]
  },
  {
   "cell_type": "code",
   "execution_count": 103,
   "id": "ef227e45",
   "metadata": {
    "scrolled": true
   },
   "outputs": [
    {
     "ename": "AttributeError",
     "evalue": "module 'cluster_model' has no attribute 'get_clusters'",
     "output_type": "error",
     "traceback": [
      "\u001b[0;31m---------------------------------------------------------------------------\u001b[0m",
      "\u001b[0;31mAttributeError\u001b[0m                            Traceback (most recent call last)",
      "\u001b[0;32m/var/folders/5k/zptdym41293159jft7y2b6cm0000gp/T/ipykernel_25129/426730931.py\u001b[0m in \u001b[0;36m<module>\u001b[0;34m\u001b[0m\n\u001b[0;32m----> 1\u001b[0;31m train_clusters, validate_clusters, test_clusters, cluster_counts = cluster_model.get_clusters(5, cluster_vars,\n\u001b[0m\u001b[1;32m      2\u001b[0m                                                                                               \u001b[0mcluster_name\u001b[0m\u001b[0;34m,\u001b[0m\u001b[0;34m\u001b[0m\u001b[0;34m\u001b[0m\u001b[0m\n\u001b[1;32m      3\u001b[0m                                                                                               \u001b[0mtrain_scaled\u001b[0m\u001b[0;34m,\u001b[0m\u001b[0;34m\u001b[0m\u001b[0;34m\u001b[0m\u001b[0m\n\u001b[1;32m      4\u001b[0m                                                                                               \u001b[0mvalidate_scaled\u001b[0m\u001b[0;34m,\u001b[0m\u001b[0;34m\u001b[0m\u001b[0;34m\u001b[0m\u001b[0m\n\u001b[1;32m      5\u001b[0m                                                                                               test_scaled)\n",
      "\u001b[0;31mAttributeError\u001b[0m: module 'cluster_model' has no attribute 'get_clusters'"
     ]
    }
   ],
   "source": [
    "train_clusters, validate_clusters, test_clusters, cluster_counts = cluster_model.get_clusters(5, cluster_vars,\n",
    "                                                                                              cluster_name,\n",
    "                                                                                              train_scaled,\n",
    "                                                                                              validate_scaled,\n",
    "                                                                                              test_scaled)"
   ]
  },
  {
   "cell_type": "code",
   "execution_count": null,
   "id": "5c06f375",
   "metadata": {},
   "outputs": [],
   "source": []
  },
  {
   "cell_type": "code",
   "execution_count": null,
   "id": "a9d2ba29",
   "metadata": {},
   "outputs": [],
   "source": [
    "def get_clusters(k, cluster_vars, cluster_name, train_scaled, validate_scaled, test_scaled):\n",
    "    \"\"\"\n",
    "    get_clusters takes in scaled train, validate, test, k for nuber of clusters,\n",
    "    cluster_vars for number and names of variables in a cluster\n",
    "    cluster_name for the name of the cluster which are setup in the cells above\n",
    "    takes in k and returns the kmeans fitted object, \n",
    "    dataframe of the train clusters with their observations, validate and\n",
    "    test clusters and their observations, and a df of the number \n",
    "    of observations per cluster on train. \n",
    "    \"\"\"\n",
    "    \n",
    "    # find clusters\n",
    "    kmeans = KMeans(n_clusters=k, random_state = 174)\n",
    "    train_array = kmeans.fit_predict(train_scaled[cluster_vars])\n",
    "    validate_array = kmeans.fit_predict(validate_scaled[cluster_vars])\n",
    "    test_array = kmeans.predict(test_scaled[cluster_vars])\n",
    "    \n",
    "    # create df of cluster id with each observation\n",
    "    train_clusters = pd.DataFrame(train_array, columns = [cluster_name], index = train_scaled.index)\n",
    "    validate_clusters = pd.DataFrame(validate_array, columns = [cluster_name], index = train_scaled.index)\n",
    "    test_clusters = pd.DataFrame(test_array, columns = [cluster_name], index = test_scaled.index)\n",
    "    \n",
    "    # output number of observations in each cluster\n",
    "    cluster_counts = train_clusters[cluster_name].value_counts()\n",
    "    \n",
    "    return train_clusters, test_clusters, cluster_counts"
   ]
  }
 ],
 "metadata": {
  "kernelspec": {
   "display_name": "Python 3 (ipykernel)",
   "language": "python",
   "name": "python3"
  },
  "language_info": {
   "codemirror_mode": {
    "name": "ipython",
    "version": 3
   },
   "file_extension": ".py",
   "mimetype": "text/x-python",
   "name": "python",
   "nbconvert_exporter": "python",
   "pygments_lexer": "ipython3",
   "version": "3.9.7"
  }
 },
 "nbformat": 4,
 "nbformat_minor": 5
}
